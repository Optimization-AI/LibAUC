{
  "cells": [
    {
      "cell_type": "markdown",
      "metadata": {
        "id": "wxuXT4JdwIlS"
      },
      "source": [
        "# **Tutorial for Optimizing NDCG Loss**"
      ]
    },
    {
      "cell_type": "markdown",
      "metadata": {
        "id": "wN_1n8nnwIlW"
      },
      "source": [
        "**Author**: Zi-Hao Qiu  \n",
        "**Edited by**: Zhuoning Yuan\n",
        "\n",
        "\n",
        "**Introduction**\n",
        "\n",
        "In this tutorial, you will learn how to train a ranking model (e.g., [NeuMF](https://arxiv.org/abs/1708.05031)) by optimizing NDCG using our proposed SONG and K-SONG [[Ref]](https://arxiv.org/abs/2202.12183) on a widely-used movie recommendation dataset [MovieLens 20M](https://grouplens.org/datasets/movielens/20m/). Note that this tutorial requires about 40GB RAM.\n",
        "\n",
        "**Useful Resources**\n",
        "\n",
        "* Website: https://libauc.org\n",
        "* Github: https://github.com/Optimization-AI/LibAUC\n",
        "\n",
        "\n",
        "**References**\n",
        "\n",
        "If you find this tutorial helpful in your work,  please acknowledge our library and cite the following papers:\n",
        "<pre>\n",
        "@inproceedings{zhu2022auc,\n",
        "  title={Large-scale Stochastic Optimization of NDCG Surrogates for Deep Learning with Provable Convergence},\n",
        "  author={Qiu, Zi-Hao and Hu, Quanqi and Zhong, Yongjian and Zhang, Lijun and Yang, Tianbao},\n",
        "  booktitle={International Conference on Machine Learning},\n",
        "  pages={18122--18152},\n",
        "  year={2022},\n",
        "  publisher={PMLR},\n",
        "}\n",
        "</pre>\n"
      ]
    },
    {
      "cell_type": "markdown",
      "metadata": {
        "id": "LUY3pZRUwIlX"
      },
      "source": [
        "# **Installing LibAUC**\n",
        "Let's start with install our library here. In this tutorial, we will use version `1.2.0`."
      ]
    },
    {
      "cell_type": "code",
      "execution_count": null,
      "metadata": {
        "id": "he2hv-6VwIlY"
      },
      "outputs": [],
      "source": [
        "!pip install libauc==1.2.0"
      ]
    },
    {
      "cell_type": "markdown",
      "metadata": {
        "id": "oGrME-r8wIlY"
      },
      "source": [
        "# **Importing LibAUC**"
      ]
    },
    {
      "cell_type": "markdown",
      "metadata": {
        "id": "pNQ9EZ9DwIlZ"
      },
      "source": [
        "Import required packages to use"
      ]
    },
    {
      "cell_type": "code",
      "execution_count": 2,
      "metadata": {
        "id": "4DaNBkw2PENs"
      },
      "outputs": [],
      "source": [
        "import os\n",
        "import sys\n",
        "import time\n",
        "import random\n",
        "import numpy as np\n",
        "import torch\n",
        "from torch.utils.data import DataLoader\n",
        "\n",
        "import libauc\n",
        "from libauc.datasets import MoiveLens\n",
        "from libauc.sampler.ranking import DataSampler\n",
        "from libauc.losses.ranking import NDCG_Loss, ListwiseCE_Loss\n",
        "from libauc.optimizers import SONG\n",
        "from libauc.models import NeuMF\n",
        "from libauc.utils.helper import batch_to_gpu, adjust_lr, format_metric, get_time"
      ]
    },
    {
      "cell_type": "markdown",
      "metadata": {
        "id": "01M0n9rSwIlb"
      },
      "source": [
        "# **Configurations**"
      ]
    },
    {
      "cell_type": "markdown",
      "metadata": {
        "id": "YTchTvu9wIlc"
      },
      "source": [
        "**Reproducibility**  \n",
        "The following functions limit the number of sources of randomness behaviors, such as model intialization, data shuffling, etcs. However, completely reproducible results are not guaranteed across PyTorch releases [[Ref]](https://pytorch.org/docs/stable/notes/randomness.html#:~:text=Completely%20reproducible%20results%20are%20not,even%20when%20using%20identical%20seeds.)."
      ]
    },
    {
      "cell_type": "code",
      "execution_count": 3,
      "metadata": {
        "id": "OHsi1aGhwIlc"
      },
      "outputs": [],
      "source": [
        "def set_all_seeds(SEED):\n",
        "  import random\n",
        "  random.seed(SEED)\n",
        "  np.random.seed(SEED)\n",
        "  torch.manual_seed(SEED)\n",
        "  torch.cuda.manual_seed(SEED)\n",
        "  torch.backends.cudnn.deterministic = True"
      ]
    },
    {
      "cell_type": "markdown",
      "metadata": {
        "id": "p4EDRciqwIlc"
      },
      "source": [
        "**Training & Evaluation Settings**"
      ]
    },
    {
      "cell_type": "code",
      "execution_count": 4,
      "metadata": {
        "id": "6ZKqYhqIwIld"
      },
      "outputs": [],
      "source": [
        "DATA_PATH = 'ml-20m'                 # path for the dataset file\n",
        "BATCH_SIZE = 256                     # training batch size\n",
        "EVAL_BATCH_SIZE = 512                # evaluation batch size\n",
        "EPOCH = 120                          # total training epochs\n",
        "NUM_WORKERS = 8                      # number of workers in the dataloader\n",
        "LR_SCHEDULE = '[80]'                 # the lr will multiple 0.25 at 80 epochs\n",
        "TOPKS = eval('[5,10,20,50]')         # k values for model evaluation (seperated by comma)\n",
        "METRICS = eval('[\"NDCG\", \"MAP\"]')    # the list of evaluation metrics (seperated by comma)\n",
        "MAIN_METRIC = \"NDCG@5\"               # main metric when evaluation"
      ]
    },
    {
      "cell_type": "markdown",
      "metadata": {
        "id": "P67nm9qxwIld"
      },
      "source": [
        "# **Prepare The Data**"
      ]
    },
    {
      "cell_type": "code",
      "execution_count": 5,
      "metadata": {
        "colab": {
          "base_uri": "https://localhost:8080/",
          "height": 0
        },
        "id": "Y1jtmeA7cNoy",
        "outputId": "7ff463d6-7e01-46bc-bc77-236b01b50ce1"
      },
      "outputs": [
        {
          "output_type": "stream",
          "name": "stdout",
          "text": [
            "Prepare to download dataset...\n",
            "Downloading data into ml-20m\n",
            "# Users: 138493\n",
            "# Items: 26744\n",
            "# Interactions: 20000263\n",
            "Time Span: 1995-01-09/2015-03-31\n",
            "# Users: 138493\n",
            "# Items: 26744\n",
            "# Interactions: 18615333\n",
            "(138493, 4)\n",
            "Files already downloaded and verified\n",
            "# Users: 138493\n",
            "# Items: 26744\n",
            "# Interactions: 18615333\n",
            "Files already downloaded and verified\n",
            "# Users: 138493\n",
            "# Items: 26744\n",
            "# Interactions: 18615333\n"
          ]
        }
      ],
      "source": [
        "trainSet = MoiveLens(root=DATA_PATH, phase='train')\n",
        "valSet = MoiveLens(root=DATA_PATH, phase='dev')\n",
        "testSet = MoiveLens(root=DATA_PATH, phase='test')"
      ]
    },
    {
      "cell_type": "markdown",
      "metadata": {
        "id": "8IQnkacCwIlg"
      },
      "source": [
        "# **Training Function**"
      ]
    },
    {
      "cell_type": "code",
      "execution_count": 6,
      "metadata": {
        "id": "4tTT5Jz5wIlg"
      },
      "outputs": [],
      "source": [
        "import os\n",
        "import sys\n",
        "import time\n",
        "import shutil\n",
        "from tqdm import tqdm, trange\n",
        "import numpy as np\n",
        "\n",
        "# training function\n",
        "def train(model, train_set, train_sampler, eval_set, optimizer):\n",
        "    main_metric_results, dev_results = list(), list()\n",
        "    DEVICE = torch.device('cuda' if torch.cuda.is_available() else 'cpu')\n",
        "    try:\n",
        "        for epoch in range(EPOCH):\n",
        "            time_s = time.time()\n",
        "\n",
        "            adjust_lr(LR, LR_SCHEDULE, optimizer, epoch + 1)\n",
        "            model.train()\n",
        "            loss_lst = list()\n",
        "\n",
        "            train_loader = DataLoader(train_set, batch_size=BATCH_SIZE, shuffle=False, sampler=train_sampler,\n",
        "                                      num_workers=NUM_WORKERS, collate_fn=train_set.collate_batch, pin_memory=True)\n",
        "\n",
        "            for batch in tqdm(train_loader, leave=False, desc='Epoch {:<3}'.format(epoch + 1), ncols=100, mininterval=1):\n",
        "                batch = batch_to_gpu(batch, DEVICE)\n",
        "                optimizer.zero_grad()\n",
        "                out_dict = model(batch)\n",
        "                loss = criterion(out_dict['prediction'], batch)\n",
        "                loss.backward()\n",
        "                optimizer.step()\n",
        "                loss_lst.append(loss.detach().cpu().data.numpy())\n",
        "\n",
        "            loss = np.mean(loss_lst).item()\n",
        "\n",
        "            training_time = time.time() - time_s\n",
        "\n",
        "            # Record dev results\n",
        "            dev_result = evaluate(model, eval_set, TOPKS[:1], METRICS)\n",
        "            dev_results.append(dev_result)\n",
        "            main_metric_results.append(dev_result[MAIN_METRIC])\n",
        "            logging_str = 'Epoch {:<5} loss={:<.4f} [{:<3.1f} s]    dev=({})'.format(\n",
        "                epoch + 1, loss, training_time, format_metric(dev_result))\n",
        "\n",
        "            # Save model and early stop\n",
        "            if max(main_metric_results) == main_metric_results[-1]:\n",
        "                model.save_model(os.path.join(RES_PATH, 'pretrained_model.pkl'))\n",
        "                logging_str += ' *'\n",
        "            #logging.info(logging_str)\n",
        "            print(logging_str)\n",
        "\n",
        "    except KeyboardInterrupt:\n",
        "        #logging.info(\"Early stop manually\")\n",
        "        print (\"Early stop manually\")\n",
        "        exit_here = input(\"Exit completely without evaluation? (y/n) (default n):\")\n",
        "        if exit_here.lower().startswith('y'):\n",
        "            #logging.info(os.linesep + '-' * 45 + ' END: ' + get_time() + ' ' + '-' * 45)\n",
        "            print(os.linesep + '-' * 45 + ' END: ' + get_time() + ' ' + '-' * 45)\n",
        "            exit(1)\n",
        "\n"
      ]
    },
    {
      "cell_type": "markdown",
      "metadata": {
        "id": "t3w25kaQwIlh"
      },
      "source": [
        "# **Evaluation Function**"
      ]
    },
    {
      "cell_type": "code",
      "execution_count": 7,
      "metadata": {
        "id": "uvR5bLkpwIlh"
      },
      "outputs": [],
      "source": [
        "def evaluate_method(predictions, ratings, topk, metrics):\n",
        "    \"\"\"\n",
        "    :param predictions: (-1, n_candidates) shape, the first column is the score for ground-truth item\n",
        "    :param ratings: (# of users, # of pos items)\n",
        "    :param topk: top-K value list\n",
        "    :param metrics: metric string list\n",
        "    :return: a result dict, the keys are metric@topk\n",
        "    \"\"\"\n",
        "    evaluations = dict()\n",
        "    num_of_users, num_pos_items = ratings.shape\n",
        "    sorted_ratings = -np.sort(-ratings)            # descending order !!\n",
        "    discounters = np.tile([np.log2(i+1) for i in range(1, 1+num_pos_items)], (num_of_users, 1))\n",
        "    normalizer_mat = (np.exp2(sorted_ratings) - 1) / discounters\n",
        "\n",
        "    sort_idx = (-predictions).argsort(axis=1)    # index of sorted predictions (max->min)\n",
        "    gt_rank = np.array([np.argwhere(sort_idx == i)[:, 1]+1 for i in range(num_pos_items)]).T  # rank of the ground-truth (start from 1)\n",
        "    for k in topk:\n",
        "        hit = (gt_rank <= k)\n",
        "        for metric in metrics:\n",
        "            key = '{}@{}'.format(metric, k)\n",
        "            if metric == 'NDCG':\n",
        "                evaluations[key] = libauc.metrics.ndcg_at_k(ratings, normalizer_mat, hit, gt_rank, k)\n",
        "            elif metric == 'MAP':\n",
        "                evaluations[key] = libauc.metrics.map_at_k(hit, gt_rank)\n",
        "            else:\n",
        "                raise ValueError('Undefined evaluation metric: {}.'.format(metric))\n",
        "    return evaluations\n",
        "\n",
        "\n",
        "def evaluate(model, data_set, topks, metrics):\n",
        "    \"\"\"\n",
        "    The returned prediction is a 2D-array, each row corresponds to all the candidates,\n",
        "    and the ground-truth item poses the first.\n",
        "    Example: ground-truth items: [1, 2], 2 negative items for each instance: [[3,4], [5,6]]\n",
        "             predictions like: [[1,3,4], [2,5,6]]\n",
        "    \"\"\"\n",
        "    DEVICE = torch.device('cuda' if torch.cuda.is_available() else 'cpu')\n",
        "    model.eval()\n",
        "    predictions = list()\n",
        "    ratings = list()\n",
        "    for idx in trange(0, len(data_set), EVAL_BATCH_SIZE):\n",
        "        batch = data_set.get_batch(idx, EVAL_BATCH_SIZE)\n",
        "        prediction = model(batch_to_gpu(batch, DEVICE))['prediction']\n",
        "        predictions.extend(prediction.cpu().data.numpy())\n",
        "        ratings.extend(batch['rating'].cpu().data.numpy())\n",
        "\n",
        "    predictions = np.array(predictions)                                 # [# of users, # of items]\n",
        "    ratings = np.array(ratings)[:, :NUM_POS]                            # [# of users, # of pos items]\n",
        "\n",
        "    return evaluate_method(predictions, ratings, topks, metrics)"
      ]
    },
    {
      "cell_type": "markdown",
      "metadata": {
        "id": "M6uLGTU-wIlh"
      },
      "source": [
        "# **Initial Warm-up**"
      ]
    },
    {
      "cell_type": "markdown",
      "metadata": {
        "id": "JxIgyNQNwIli"
      },
      "source": [
        "The target of initial warm-up is to optimize the [listwise cross-entropy loss](https://www.microsoft.com/en-us/research/wp-content/uploads/2016/02/tr-2007-40.pdf), which is the cross-entropy between predicted and ground-truth top-one probability distributions. We formulate the objective into a finite-sum coupled compositional problem and present the details in Appendix B in our [paper](https://arxiv.org/abs/2202.12183).\n",
        "\n",
        "We implement the computation of the loss in ```Listwise_CE_Loss``` class, and design an optimizer to handle the update of model parameters implemented by `SONG()`. The key updates are as follows:  \n",
        "1. $\\textbf{u}^{(t+1)}_{q,i}=(1-\\gamma_0)\\textbf{u}^{(t)}_{q,i}+\\gamma_0\\frac{1}{|\\mathcal{B}_q|}\\sum_{x^{'}\\in\\mathcal{B}_q}\\exp(h_q(\\textbf{x}^{'};\\textbf{w})-h_q(\\textbf{x};\\textbf{w}))$\n",
        "2. $G(\\textbf{w}_t)=\\frac{1}{|\\mathcal{Q}_t|}\\frac{1}{|\\mathcal{B}_{q}^{+}|}\\frac{1}{|\\mathcal{B}_q|}\\sum_{q\\in\\mathcal{Q}_t}\\sum_{\\textbf{x}_i^q\\in\\mathcal{B}_{q}^{+}}\\sum_{\\textbf{x}_j^q\\in\\mathcal{B}_{q}}\\frac{1}{\\textbf{u}^{(t+1)}_{q,i}}\\nabla_\\textbf{w}(h_q(\\textbf{x}_j^q;\\textbf{w}_t)-h_q(\\textbf{x}_i^q;\\textbf{w}_t))$\n",
        "3. $\\textbf{m}_{t+1}=\\beta_1\\textbf{m}_{t}+(1-\\beta_1) G(\\textbf{w}_t)$\n",
        "4. $\\textbf{w}_{t+1}=\\textbf{w}_{t}-\\eta\\textbf{m}_{t+1}$\n",
        "\n",
        "For more details about the algorithm, please refer to our paper. Our implementation requires the following parameters:\n",
        "\n",
        "**Parameters**\n",
        "* ```lr```: initial learning rate, the performance is **sensitive** to this parameter.\n",
        "* ```gamma0```: parameter for moving average in step (1), which is **sensitive**. The default value is 0.1 and you can tune this parameter is the range of (0.0, 1.0).\n",
        "* ```beta1```: momentum parameter for model update, beta1 is always set to 0.9 similar to that in Adam."
      ]
    },
    {
      "cell_type": "markdown",
      "metadata": {
        "id": "QNbxJ-IgwIlj"
      },
      "source": [
        "**Define hyper-parameters for the algorithm**"
      ]
    },
    {
      "cell_type": "code",
      "execution_count": 8,
      "metadata": {
        "id": "xm5XmgMOwIlj"
      },
      "outputs": [],
      "source": [
        "LOSS = 'Listwise_CE'\n",
        "LR = 0.001                # learning rate of model parameters, \\eta in the paper\n",
        "NUM_POS = 10              # number of positive items sampled for each user\n",
        "NUM_NEG = 300             # number of negative items sampled for each user\n",
        "L2 = 1e-7                 # weight_decay\n",
        "OPTIMIZER_STYLE = 'adam'  # 'sgd' or 'adam'\n",
        "\n",
        "# GAMMA0 is the moving average factor in our algo, you can tune BETA0 in (0.0, 1.0) for better performance\n",
        "GAMMA0 = 0.1\n",
        "\n",
        "n_users = 138493\n",
        "n_items = 26744\n",
        "id_mapper, num_relevant_pairs = trainSet.get_id_mapper()\n",
        "\n",
        "# save the model and log file\n",
        "RES_PATH = 'warm_up'\n",
        "os.mkdir(RES_PATH)"
      ]
    },
    {
      "cell_type": "markdown",
      "metadata": {
        "id": "zsm20uGlwIlj"
      },
      "source": [
        "**Build training sampler**"
      ]
    },
    {
      "cell_type": "code",
      "execution_count": 9,
      "metadata": {
        "colab": {
          "base_uri": "https://localhost:8080/",
          "height": 0
        },
        "id": "tRJuHZw3wIlj",
        "outputId": "19a35bc6-9445-48e6-b773-ed5f06df507f"
      },
      "outputs": [
        {
          "output_type": "stream",
          "name": "stderr",
          "text": [
            "100%|██████████| 138493/138493 [01:32<00:00, 1494.38it/s]\n"
          ]
        }
      ],
      "source": [
        "train_sampler = DataSampler(labels=trainSet.targets, batch_size=BATCH_SIZE*(NUM_POS+NUM_NEG), num_pos=NUM_POS, num_tasks=BATCH_SIZE)"
      ]
    },
    {
      "cell_type": "markdown",
      "metadata": {
        "id": "Htv4rjNkwIlj"
      },
      "source": [
        "**Build the model**"
      ]
    },
    {
      "cell_type": "code",
      "execution_count": 10,
      "metadata": {
        "id": "Ti2HP_8HwIlk",
        "colab": {
          "base_uri": "https://localhost:8080/",
          "height": 0
        },
        "outputId": "3684fcbd-f72a-4ac0-8f5c-0a2346761ef5"
      },
      "outputs": [
        {
          "output_type": "execute_result",
          "data": {
            "text/plain": [
              "NeuMF(\n",
              "  (mf_u_embeddings): Embedding(138493, 64)\n",
              "  (mf_i_embeddings): Embedding(26744, 64)\n",
              "  (mlp_u_embeddings): Embedding(138493, 64)\n",
              "  (mlp_i_embeddings): Embedding(26744, 64)\n",
              "  (mlp): ModuleList(\n",
              "    (0): Linear(in_features=128, out_features=64, bias=True)\n",
              "  )\n",
              "  (dropout_layer): Dropout(p=0.2, inplace=False)\n",
              "  (prediction): Linear(in_features=128, out_features=1, bias=False)\n",
              ")"
            ]
          },
          "metadata": {},
          "execution_count": 10
        }
      ],
      "source": [
        "set_all_seeds(2022)\n",
        "model = NeuMF(n_users, n_items)\n",
        "model.apply(model.init_weights)\n",
        "model.cuda()"
      ]
    },
    {
      "cell_type": "markdown",
      "metadata": {
        "id": "lHseG4GNwIlk"
      },
      "source": [
        "**Build the optimizer and criterion**"
      ]
    },
    {
      "cell_type": "code",
      "execution_count": 11,
      "metadata": {
        "id": "glemflDdwIlk"
      },
      "outputs": [],
      "source": [
        "criterion = ListwiseCE_Loss(id_mapper=id_mapper, total_relevant_pairs=num_relevant_pairs, num_pos=NUM_POS, gamma0=GAMMA0)\n",
        "optimizer = SONG(params=model.parameters(), lr=LR, weight_decay=L2, mode=OPTIMIZER_STYLE)"
      ]
    },
    {
      "cell_type": "markdown",
      "metadata": {
        "id": "8BQgbVMEwIlk"
      },
      "source": [
        "**Launch training**"
      ]
    },
    {
      "cell_type": "code",
      "execution_count": null,
      "metadata": {
        "id": "B8pMKGDgwIlk",
        "scrolled": true
      },
      "outputs": [],
      "source": [
        "EPOCH = 20  \n",
        "train(model, trainSet, train_sampler, valSet, optimizer)"
      ]
    },
    {
      "cell_type": "markdown",
      "metadata": {
        "id": "n_VOVMXywIll"
      },
      "source": [
        "**Evaluate the model**"
      ]
    },
    {
      "cell_type": "code",
      "execution_count": null,
      "metadata": {
        "colab": {
          "base_uri": "https://localhost:8080/"
        },
        "id": "h46hLCWTwIll",
        "outputId": "873602c5-42a2-4377-ebbc-861511ce2581"
      },
      "outputs": [
        {
          "name": "stderr",
          "output_type": "stream",
          "text": [
            "100%|██████████| 271/271 [08:36<00:00,  1.91s/it]\n"
          ]
        },
        {
          "name": "stdout",
          "output_type": "stream",
          "text": [
            "test results:MAP@5:0.3423,NDCG@5:0.2006,MAP@10:0.3375,NDCG@10:0.2637,MAP@20:0.3156,NDCG@20:0.3215,MAP@50:0.2807,NDCG@50:0.3869\n"
          ]
        }
      ],
      "source": [
        "result_dict = evaluate(model, testSet, TOPKS, METRICS)\n",
        "print(\"test results:\" + format_metric(result_dict))"
      ]
    },
    {
      "cell_type": "markdown",
      "metadata": {
        "id": "jNZFYFqBwIll"
      },
      "source": [
        "# **SONG**"
      ]
    },
    {
      "cell_type": "markdown",
      "metadata": {
        "id": "3UYyEuSjwIll"
      },
      "source": [
        "**S**tochastic **O**ptimization of **N**DC**G** (SONG) is an algorithm for NDCG optimization with provable convergence, which casts the problem into the following equivalent minimization form:  \n",
        "$$\\min_{\\textbf{w}\\in\\mathbb{R}^{d}} F(\\textbf{w}):=\\frac{1}{|\\mathcal{S}|}\\sum_{(q,\\textbf{x}_i^q)\\in|\\mathcal{S}|} f_{q,i}(g(\\textbf{w},\\textbf{x}_i^q,\\mathcal{S}_q)),$$ where $g(\\textbf{w},\\textbf{x}_i^q,\\mathcal{S}_q)=\\frac{1}{N_q}\\bar{g}(\\textbf{w},\\textbf{x}_i^q,\\mathcal{S}_q)$ and $f_{q,i}(g)=\\frac{1}{Z_q}\\frac{1-2^{y_i^q}}{\\log_2(N_q g+1)}$. Please refer to our [paper](https://arxiv.org/abs/2202.12183) for more details.\n",
        "\n",
        "We implement the computation of the objective in ```NDCG_Loss``` class, and design an optimizer named ```SONG``` to handle the update of model parameters. The key updates are as follows:  \n",
        "1. $\\textbf{u}^{(t+1)}_{q,i}=(1-\\gamma_0)\\textbf{u}^{(t)}_{q,i}+\\gamma_0\\frac{1}{|\\mathcal{B}_q|}\\sum_{x^{'}\\in\\mathcal{B}_q}\\ell(\\textbf{w}_t,\\textbf{x}^{'},\\textbf{x}_i^q,q)$\n",
        "2. $\\textbf{m}_{t+1}=\\beta_1\\textbf{m}_{t}+(1-\\beta_1)G(\\textbf{w}_t)$, where $G(\\textbf{w}_t)$ is the stochastic gradient estimator\n",
        "3. $\\textbf{w}_{t+1}=\\textbf{w}_{t}-\\eta_1\\textbf{m}_{t+1}$\n",
        "\n",
        "**Parameters**\n",
        "* ```lr```: initial learning rate, the performance is **sensitive** to this parameter.\n",
        "* ```gamma0```: parameter for moving average in step (1), which is **sensitive**. The default value is 0.1 and you can tune this parameter is the range of (0.0, 1.0).\n",
        "* ```beta1```: momentum parameter for model update, beta1 is always set to 0.9 similar to that in Adam."
      ]
    },
    {
      "cell_type": "markdown",
      "metadata": {
        "id": "X82T8JuowIll"
      },
      "source": [
        "**Define hyper-parameters for the algorithm**"
      ]
    },
    {
      "cell_type": "code",
      "execution_count": null,
      "metadata": {
        "id": "lCMpRMTFwIll"
      },
      "outputs": [],
      "source": [
        "LOSS = 'SONG'\n",
        "LR = 0.001                # learning rate of model parameters, \\eta in the paper\n",
        "NUM_POS = 10              # number of positive items sampled per user\n",
        "NUM_NEG = 300             # number of negative items sampled per user\n",
        "L2 = 1e-7                 # weight_decay\n",
        "OPTIMIZER_STYLE = 'adam'  # 'sgd' or 'adam'\n",
        "\n",
        "# GAMMA0 is the moving average factor in our algo, you can tune BETA0 in (0.0, 1.0) for better performance\n",
        "GAMMA0 = 0.1\n",
        "\n",
        "n_users = 138493\n",
        "n_items = 26744\n",
        "TOPK = -1\n",
        "id_mapper, num_relevant_pairs = trainSet.get_id_mapper()\n",
        "\n",
        "# save the model and log file\n",
        "RES_PATH = 'song'\n",
        "os.mkdir(RES_PATH)"
      ]
    },
    {
      "cell_type": "markdown",
      "metadata": {
        "id": "Kjf3bTaZwIlm"
      },
      "source": [
        "**Build training sampler**"
      ]
    },
    {
      "cell_type": "code",
      "execution_count": null,
      "metadata": {
        "id": "GrTgVycTwIlm"
      },
      "outputs": [],
      "source": [
        "train_sampler = DataSampler(labels=trainSet.targets, batch_size=BATCH_SIZE*(NUM_POS+NUM_NEG), num_pos=NUM_POS, num_tasks=BATCH_SIZE)"
      ]
    },
    {
      "cell_type": "markdown",
      "metadata": {
        "id": "4EaRipzvwIlm"
      },
      "source": [
        "**Build the model**"
      ]
    },
    {
      "cell_type": "code",
      "execution_count": null,
      "metadata": {
        "colab": {
          "base_uri": "https://localhost:8080/"
        },
        "id": "8B3lfvYZwIlm",
        "outputId": "b4278e5b-f98d-4907-810d-9c25ae5eee95"
      },
      "outputs": [
        {
          "data": {
            "text/plain": [
              "NeuMF(\n",
              "  (mf_u_embeddings): Embedding(138493, 64)\n",
              "  (mf_i_embeddings): Embedding(26744, 64)\n",
              "  (mlp_u_embeddings): Embedding(138493, 64)\n",
              "  (mlp_i_embeddings): Embedding(26744, 64)\n",
              "  (mlp): ModuleList(\n",
              "    (0): Linear(in_features=128, out_features=64, bias=True)\n",
              "  )\n",
              "  (dropout_layer): Dropout(p=0.2, inplace=False)\n",
              "  (prediction): Linear(in_features=128, out_features=1, bias=False)\n",
              ")"
            ]
          },
          "execution_count": 11,
          "metadata": {},
          "output_type": "execute_result"
        }
      ],
      "source": [
        "model = NeuMF(n_users, n_items)\n",
        "model.apply(model.init_weights)\n",
        "model.cuda()"
      ]
    },
    {
      "cell_type": "markdown",
      "metadata": {
        "id": "pXX_UNEdwIlm"
      },
      "source": [
        "**Build the optimizer and criterion**"
      ]
    },
    {
      "cell_type": "code",
      "execution_count": null,
      "metadata": {
        "id": "bwNv9ffewIlm"
      },
      "outputs": [],
      "source": [
        "# 'SONG', 'K-SONG':\n",
        "model.load_model('./warm_up/pretrained_model.pkl')\n",
        "model.reset_last_layer()\n",
        "SONG_GAMMA0 = 0.1\n",
        "criterion = NDCG_Loss(id_mapper, num_relevant_pairs, n_users, n_items, NUM_POS, gamma0=SONG_GAMMA0, topk=TOPK, topk_version='theo')\n",
        "optimizer = SONG(params=model.parameters(), lr=LR, weight_decay=L2, mode=OPTIMIZER_STYLE)"
      ]
    },
    {
      "cell_type": "markdown",
      "metadata": {
        "id": "dwsw4jgvwIlm"
      },
      "source": [
        "**Launch training**"
      ]
    },
    {
      "cell_type": "markdown",
      "metadata": {
        "id": "QKVub643wIln"
      },
      "source": [
        "We first adopt the initial warm-up algorithm and train the model for 20 epochs. Then we use SONG and train the model for the last 100 epochs."
      ]
    },
    {
      "cell_type": "code",
      "execution_count": null,
      "metadata": {
        "id": "itxJ1a3kwIln",
        "scrolled": true
      },
      "outputs": [],
      "source": [
        "EPOCH = 100  \n",
        "train(model, trainSet, train_sampler, valSet, optimizer)"
      ]
    },
    {
      "cell_type": "markdown",
      "metadata": {
        "id": "ZDUUzN6swIln"
      },
      "source": [
        "**Evaluate the model**"
      ]
    },
    {
      "cell_type": "code",
      "execution_count": null,
      "metadata": {
        "colab": {
          "base_uri": "https://localhost:8080/"
        },
        "id": "FRUB0x7hwIln",
        "outputId": "b1435abf-40db-4ab5-e9ba-392ac5e836d0"
      },
      "outputs": [
        {
          "name": "stderr",
          "output_type": "stream",
          "text": [
            "100%|██████████| 271/271 [09:03<00:00,  2.01s/it]\n"
          ]
        },
        {
          "name": "stdout",
          "output_type": "stream",
          "text": [
            "test results:MAP@5:0.3642,NDCG@5:0.2212,MAP@10:0.3537,NDCG@10:0.2839,MAP@20:0.3276,NDCG@20:0.3421,MAP@50:0.2896,NDCG@50:0.4049\n"
          ]
        }
      ],
      "source": [
        "result_dict = evaluate(model, testSet, TOPKS, METRICS)\n",
        "print(\"test results:\" + format_metric(result_dict))"
      ]
    },
    {
      "cell_type": "markdown",
      "metadata": {
        "id": "jNOShScZwIln"
      },
      "source": [
        "# **K-SONG**"
      ]
    },
    {
      "cell_type": "markdown",
      "metadata": {
        "id": "kvZCOg-3wIln"
      },
      "source": [
        "K-SONG is an algorithm for top-K NDCG optimization with guarantee, which casts the problem into the following bi-level minimization form:  \n",
        "$$\\min_{\\textbf{w}\\in\\mathbb{R}^{d}} \\frac{1}{|\\mathcal{S}|}\\sum_{(q,\\textbf{x}_i^q)\\in|\\mathcal{S}|}\\psi(h_q(\\textbf{x}_i^q;\\textbf{w})-\\hat{\\lambda}_q (\\textbf{w})) f_{q,i}(g(\\textbf{w},\\textbf{x}_i^q,\\mathcal{S}_q))$$ \n",
        "$$s.t., \\hat{\\lambda}_q (\\textbf{w})=\\arg\\min_{\\lambda} L_q(\\lambda,\\textbf{w}), \\forall q\\in \\mathcal{Q},$$\n",
        "where we employ $f_{q,i}(g)$ to denote $\\frac{1}{Z_q^K}\\frac{1-2^{y_i^q}}{\\log_2(N_q g+1)}$. Please refer to our [paper](https://arxiv.org/abs/2202.12183) for more details."
      ]
    },
    {
      "cell_type": "markdown",
      "metadata": {
        "id": "9SvO2-qNwIlo"
      },
      "source": [
        "We implement the computation of the objective in ```NDCG_Loss``` class, and design an optimizer named ```SONG``` to handle the update of model parameters. The key updates are as follows:  \n",
        "1. $\\textbf{u}^{(t+1)}_{q,i}=(1-\\gamma_0)\\textbf{u}^{(t)}_{q,i}+\\gamma_0\\frac{1}{|\\mathcal{B}_q|}\\sum_{x^{'}\\in\\mathcal{B}_q}\\ell(\\textbf{w}_t,\\textbf{x}^{'},\\textbf{x}_i^q,q)$\n",
        "2. $\\textbf{s}_{q,t+1}=(1-\\gamma_1)\\textbf{s}_{q,t}+\\gamma_1\\nabla^2_{\\lambda\\lambda} L_q(\\lambda_{q,t};\\textbf{w}_w;\\mathcal{B}_q)$\n",
        "3. $\\textbf{v}_{q,t+1}=(1-\\gamma_1)\\textbf{v}_{q,t}+\\gamma_1\\nabla_{\\lambda} L_q(\\lambda_{q,t};\\textbf{w}_w;\\mathcal{B}_q)$\n",
        "4. $\\lambda_{q,t+1}=\\lambda_{q,t}-\\eta_0\\textbf{v}_{q,t+1}$\n",
        "5. $\\textbf{m}_{t+1}=\\beta_1\\textbf{m}_{t}+(1-\\beta_1) G(\\textbf{w}_t)$, where $G(\\textbf{w}_t)$ is a stochastic gradient estimator\n",
        "6. $\\textbf{w}_{t+1}=\\textbf{w}_{t}-\\eta_1\\textbf{m}_{t+1}$"
      ]
    },
    {
      "cell_type": "markdown",
      "metadata": {
        "id": "Ykfx7T9_wIlo"
      },
      "source": [
        "**Parameters**\n",
        "* ```lr```: initial learning rate, the performance is **sensitive** to this parameter.\n",
        "* ```gamma0```: parameter for moving average in step (1), which is **sensitive**. The default value is 0.1 and you can tune this parameter is the range of (0.0, 1.0).\n",
        "* ```gamma1,beta1```: momentum parameters for model update, they are always set to 0.9 similar to that in Adam.\n",
        "* ```k```: value specified for top-K NDCG optimization, it should be a interger >= 1.\n",
        "* ```topk_version```: 'theo' for theoretical K-SONG or 'prac' for practical K-SONG; practical K-SONG does not maintain $s_q$ in step (2)\n",
        "* ```psi_func```: the function is set to 'sigmoid'"
      ]
    },
    {
      "cell_type": "markdown",
      "metadata": {
        "id": "RN39ZcU8wIlo"
      },
      "source": [
        "**Define hyper-parameters for the algorithm**"
      ]
    },
    {
      "cell_type": "code",
      "execution_count": null,
      "metadata": {
        "id": "CT5S7ZmbwIlo"
      },
      "outputs": [],
      "source": [
        "LOSS = 'K-SONG'\n",
        "LR = 0.001                # learning rate of model parameters, \\eta in the paper\n",
        "NUM_POS = 10              # number of positive items sampled for each user\n",
        "NUM_NEG = 300             # number of negative items sampled for each user\n",
        "L2 = 1e-7                 # weight_decay\n",
        "OPTIMIZER_STYLE = 'adam'  # 'sgd' or 'adam'\n",
        "\n",
        "# GAMMA0 is the moving average factor in our algo, you can tune BETA0 in (0.0, 1.0) for better performance\n",
        "GAMMA0 = 0.1\n",
        "TOPK = 300\n",
        "TOPK_V = 'theo' # 'prac' or 'theo'\n",
        "\n",
        "# save the model and log file\n",
        "RES_PATH = 'k_song'\n",
        "os.mkdir(RES_PATH)"
      ]
    },
    {
      "cell_type": "markdown",
      "metadata": {
        "id": "pDt6yc5kwIlo"
      },
      "source": [
        "**Build training sampler**"
      ]
    },
    {
      "cell_type": "code",
      "execution_count": null,
      "metadata": {
        "colab": {
          "base_uri": "https://localhost:8080/"
        },
        "id": "RFo3YzlxwIlo",
        "outputId": "5689aa27-f79d-499f-c1a0-083633e23f39"
      },
      "outputs": [
        {
          "name": "stderr",
          "output_type": "stream",
          "text": [
            "100%|██████████| 138493/138493 [01:42<00:00, 1354.23it/s]\n"
          ]
        }
      ],
      "source": [
        "train_sampler = DataSampler(labels=trainSet.targets, batch_size=BATCH_SIZE*(NUM_POS+NUM_NEG), num_pos=NUM_POS, num_tasks=BATCH_SIZE)"
      ]
    },
    {
      "cell_type": "markdown",
      "metadata": {
        "id": "yov9FMI-wIlo"
      },
      "source": [
        "**Build the model**"
      ]
    },
    {
      "cell_type": "code",
      "execution_count": null,
      "metadata": {
        "colab": {
          "base_uri": "https://localhost:8080/"
        },
        "id": "PnIDsYhiwIlo",
        "outputId": "95305d9d-dca3-4daf-cc36-c712b7689b59"
      },
      "outputs": [
        {
          "data": {
            "text/plain": [
              "NeuMF(\n",
              "  (mf_u_embeddings): Embedding(138493, 64)\n",
              "  (mf_i_embeddings): Embedding(26744, 64)\n",
              "  (mlp_u_embeddings): Embedding(138493, 64)\n",
              "  (mlp_i_embeddings): Embedding(26744, 64)\n",
              "  (mlp): ModuleList(\n",
              "    (0): Linear(in_features=128, out_features=64, bias=True)\n",
              "  )\n",
              "  (dropout_layer): Dropout(p=0.2, inplace=False)\n",
              "  (prediction): Linear(in_features=128, out_features=1, bias=False)\n",
              ")"
            ]
          },
          "execution_count": 25,
          "metadata": {},
          "output_type": "execute_result"
        }
      ],
      "source": [
        "set_all_seeds(2022)\n",
        "model = NeuMF(n_users, n_items)\n",
        "model.apply(model.init_weights)\n",
        "model.cuda()"
      ]
    },
    {
      "cell_type": "markdown",
      "metadata": {
        "id": "9hk2DKAcwIlp"
      },
      "source": [
        "**Build the optimizer and criterion**"
      ]
    },
    {
      "cell_type": "code",
      "execution_count": null,
      "metadata": {
        "id": "7LXQY0p1wIlp"
      },
      "outputs": [],
      "source": [
        "model.load_model('./warm_up/pretrained_model.pkl')\n",
        "model.reset_last_layer()\n",
        "criterion = NDCG_Loss(id_mapper, num_relevant_pairs, n_users, n_items, NUM_POS, gamma0=GAMMA0, topk=TOPK, topk_version=TOPK_V)\n",
        "optimizer = SONG(params=model.parameters(), lr=LR, weight_decay=L2, mode=OPTIMIZER_STYLE)"
      ]
    },
    {
      "cell_type": "markdown",
      "metadata": {
        "id": "L_VHtTfpwIlp"
      },
      "source": [
        "**Launch training**"
      ]
    },
    {
      "cell_type": "markdown",
      "metadata": {
        "id": "qrmxz_p9wIlp"
      },
      "source": [
        "We first adopt the initial warm-up algorithm and train the model for 20 epochs. Then we use K-SONG and train the model for the last 100 epochs."
      ]
    },
    {
      "cell_type": "code",
      "execution_count": null,
      "metadata": {
        "id": "gPZeXZM3wIlp",
        "scrolled": true
      },
      "outputs": [],
      "source": [
        "EPOCH = 100  \n",
        "train(model, trainSet, train_sampler, valSet, optimizer)"
      ]
    },
    {
      "cell_type": "markdown",
      "metadata": {
        "id": "TjNnF_R4wIlp"
      },
      "source": [
        "**Evaluate the model**"
      ]
    },
    {
      "cell_type": "code",
      "execution_count": null,
      "metadata": {
        "id": "q1cZvnBZwIlp"
      },
      "outputs": [],
      "source": [
        "result_dict = evaluate(model, testSet, TOPKS, METRICS)\n",
        "print(\"test results:\" + format_metric(result_dict))"
      ]
    },
    {
      "cell_type": "markdown",
      "metadata": {
        "id": "q_2jvsn6wIlq"
      },
      "source": [
        "# **Visualization**"
      ]
    },
    {
      "cell_type": "code",
      "execution_count": null,
      "metadata": {
        "id": "pRzoPKDIwIlq"
      },
      "outputs": [],
      "source": [
        "# NDCG@5 on dev set for SONG and K-SONG\n",
        "song_ndcg_at_5 = [0.2128, 0.2216, 0.2642, 0.2864, 0.3003, 0.3087, 0.3163, 0.3218, 0.3273, 0.3326, 0.3365, 0.3389, 0.3418, 0.345, 0.3472, 0.349, 0.3505, 0.3525, 0.354, 0.3549, 0.3343, 0.3405, 0.346, 0.3516, 0.3555, 0.3565, 0.3601, 0.3632, 0.3646, 0.3637, 0.3679, 0.368, 0.369, 0.3697, 0.3721, 0.3724, 0.3724, 0.3733, 0.3739, 0.3741, 0.3733, 0.3754, 0.3762, 0.3761, 0.3781, 0.3782, 0.3782, 0.3792, 0.38, 0.3783, 0.3782, 0.3791, 0.3797, 0.3824, 0.3807, 0.3803, 0.3813, 0.3802, 0.38, 0.3813, 0.383, 0.3811, 0.3821, 0.3823, 0.3829, 0.3819, 0.3813, 0.3844, 0.3838, 0.3821, 0.3829, 0.3809, 0.3806, 0.3832, 0.3822, 0.3839, 0.3853, 0.385, 0.3804, 0.3857, 0.3869, 0.3885, 0.3893, 0.3881, 0.3901, 0.3914, 0.3915, 0.3929, 0.3935, 0.3923, 0.393, 0.3936, 0.3934, 0.3941, 0.3936, 0.3944, 0.3941, 0.3948, 0.3943, 0.3949, 0.3952, 0.3951, 0.3964, 0.3954, 0.3959, 0.3965, 0.3957, 0.3961, 0.3966, 0.3963, 0.3967, 0.3968, 0.3978, 0.3974, 0.3976, 0.3974, 0.3974, 0.3979, 0.3985, 0.3969]\n",
        "k_song_ndcg_at_5 = [0.2128, 0.2216, 0.2642, 0.2864, 0.3003, 0.3087, 0.3163, 0.3218, 0.3273, 0.3326, 0.3365, 0.3389, 0.3418, 0.345, 0.3472, 0.349, 0.3505, 0.3525, 0.354, 0.3549, 0.3286, 0.3372, 0.3435, 0.3487, 0.3534, 0.3555, 0.3594, 0.3622, 0.3639, 0.365, 0.3676, 0.369, 0.3703, 0.3716, 0.3732, 0.3737, 0.3747, 0.3756, 0.3765, 0.377, 0.3773, 0.379, 0.3785, 0.3802, 0.3818, 0.3817, 0.3824, 0.3838, 0.384, 0.3826, 0.3833, 0.3834, 0.3842, 0.386, 0.3857, 0.3855, 0.3856, 0.3857, 0.3854, 0.3863, 0.3869, 0.3861, 0.3871, 0.3874, 0.3888, 0.3868, 0.3879, 0.3891, 0.3888, 0.3885, 0.3887, 0.3882, 0.3876, 0.3896, 0.3882, 0.3897, 0.3899, 0.39, 0.3882, 0.3918, 0.3926, 0.3937, 0.3947, 0.3936, 0.3954, 0.3953, 0.3961, 0.3974, 0.3973, 0.397, 0.3975, 0.3979, 0.3979, 0.3985, 0.3983, 0.3985, 0.3987, 0.3989, 0.3988, 0.3992, 0.3998, 0.3994, 0.3998, 0.3997, 0.3997, 0.4, 0.3996, 0.4, 0.4004, 0.4005, 0.4006, 0.4004, 0.4008, 0.4009, 0.4009, 0.4009, 0.401, 0.4014, 0.4015, 0.401]"
      ]
    },
    {
      "cell_type": "markdown",
      "metadata": {
        "id": "XATTrTE0wIlq"
      },
      "source": [
        "We also include the results of our initial warm-up algorithm and SONG without warm-up"
      ]
    },
    {
      "cell_type": "code",
      "execution_count": null,
      "metadata": {
        "id": "Z7xtgF78wIlq"
      },
      "outputs": [],
      "source": [
        "warmup_ndcg_at_5 = [0.2125, 0.2236, 0.2632, 0.287, 0.3016, 0.3098, 0.3178, 0.3223, 0.3274, 0.3319, 0.336, 0.3386, 0.3418, 0.3441, 0.3463, 0.3479, 0.3498, 0.351, 0.3518, 0.3539, 0.3552, 0.357, 0.3567, 0.3582, 0.3593, 0.3601, 0.3607, 0.3605, 0.3612, 0.3614, 0.3613, 0.3632, 0.3629, 0.3634, 0.3646, 0.3653, 0.3652, 0.3648, 0.3655, 0.3668, 0.3649, 0.3673, 0.3664, 0.3665, 0.3672, 0.368, 0.3679, 0.3686, 0.368, 0.3685, 0.3688, 0.3686, 0.3684, 0.3686, 0.3696, 0.3684, 0.3702, 0.3691, 0.3684, 0.3697, 0.3684, 0.3699, 0.3697, 0.3691, 0.3686, 0.3702, 0.3681, 0.3691, 0.369, 0.3707, 0.3683, 0.3702, 0.3688, 0.3697, 0.3696, 0.3696, 0.3701, 0.3686, 0.3686, 0.3691, 0.37, 0.3698, 0.3698, 0.3709, 0.3709, 0.3716, 0.3718, 0.3714, 0.3724, 0.3729, 0.3727, 0.3726, 0.3723, 0.3727, 0.3726, 0.3722, 0.3725, 0.3713, 0.3719, 0.3718, 0.3723, 0.3716, 0.3714, 0.3719, 0.3715, 0.3717, 0.372, 0.3711, 0.3708, 0.3714, 0.3711, 0.3711, 0.3709, 0.3706, 0.37, 0.371, 0.3703, 0.3707, 0.37, 0.3708]\n",
        "song_wo_warmup = [0.221, 0.2212, 0.2211, 0.2265, 0.2409, 0.2604, 0.2735, 0.2844, 0.2923, 0.3002, 0.3062, 0.3107, 0.3173, 0.3203, 0.3246, 0.3275, 0.3314, 0.334, 0.3363, 0.3398, 0.3424, 0.3426, 0.3438, 0.347, 0.3486, 0.3491, 0.3511, 0.3525, 0.3545, 0.3532, 0.3567, 0.3573, 0.3578, 0.3596, 0.3603, 0.3598, 0.3616, 0.3624, 0.3621, 0.3646, 0.365, 0.3649, 0.3656, 0.3673, 0.3668, 0.3694, 0.3697, 0.37, 0.3712, 0.3711, 0.371, 0.3724, 0.3728, 0.3737, 0.3743, 0.375, 0.374, 0.3759, 0.3763, 0.3777, 0.3781, 0.3781, 0.3796, 0.3794, 0.3805, 0.3798, 0.3805, 0.3815, 0.3818, 0.3823, 0.3829, 0.3834, 0.3829, 0.3832, 0.3837, 0.3837, 0.3844, 0.3845, 0.3847, 0.3854, 0.3855, 0.3856, 0.3861, 0.3858, 0.386, 0.3865, 0.387, 0.3871, 0.387, 0.3867, 0.387, 0.3874, 0.3875, 0.3881, 0.3875, 0.388, 0.3882, 0.388, 0.3883, 0.3888, 0.3887, 0.3885, 0.3891, 0.3891, 0.389, 0.3892, 0.3893, 0.3896, 0.3898, 0.3899, 0.39, 0.39, 0.3906, 0.3905, 0.3908, 0.3907, 0.391, 0.3906, 0.3911, 0.3908]"
      ]
    },
    {
      "cell_type": "markdown",
      "metadata": {
        "id": "tM3cx79ywIlq"
      },
      "source": [
        "**Compare with tensorflow-ranking lib**  \n",
        "We compare our optimization framework with [Tensorflow Ranking](https://www.tensorflow.org/ranking), which is an open-source library for neural learning to rank (LTR). We compare our SONG and K-SONG with four list-wise ranking approaches in Tensorflow-Ranking, including [ListNet](https://www.tensorflow.org/ranking/api_docs/python/tfr/keras/losses/SoftmaxLoss), [ListMLE](https://www.tensorflow.org/ranking/api_docs/python/tfr/keras/losses/ListMLELoss), [ApproxNDCG](https://www.tensorflow.org/ranking/api_docs/python/tfr/keras/losses/ApproxNDCGLoss), and [GumbelApproxNDCG](https://www.tensorflow.org/ranking/api_docs/python/tfr/keras/losses/GumbelApproxNDCGLoss).  \n",
        "Results indicate that our methods are better than these four methods in terms of NDCG values."
      ]
    },
    {
      "cell_type": "markdown",
      "metadata": {
        "id": "0EGoSr78wIlq"
      },
      "source": [
        "The results of methods from Tensorflow Ranking can be obtained via running ```run_tf.py```"
      ]
    },
    {
      "cell_type": "code",
      "execution_count": null,
      "metadata": {
        "id": "zrOKo9xmwIlq"
      },
      "outputs": [],
      "source": [
        "# NDCG@5 of ListNet, ListMLE, ApproxNDCG, and GumbelApproxNDGC\n",
        "tf_listnet = [0.2171, 0.2493, 0.2841, 0.3067, 0.3196, 0.329, 0.3317, 0.3376, 0.3349, 0.3381, 0.3404, 0.3438, 0.3461, 0.3444, 0.3464, 0.3499, 0.3507, 0.3518, 0.3523, 0.3537, 0.3542, 0.3541, 0.3538, 0.3557, 0.3563, 0.3577, 0.3589, 0.3592, 0.3595, 0.357, 0.3605, 0.3607, 0.3579, 0.3592, 0.361, 0.36, 0.3597, 0.3615, 0.3621, 0.3619, 0.3601, 0.3613, 0.3623, 0.3619, 0.362, 0.3618, 0.3602, 0.3621, 0.3629, 0.361, 0.3647, 0.3626, 0.3638, 0.365, 0.3629, 0.3666, 0.3645, 0.3672, 0.3663, 0.3646, 0.3662, 0.3673, 0.3685, 0.368, 0.3688, 0.3687, 0.368, 0.3676, 0.3679, 0.3691, 0.3677, 0.3683, 0.3676, 0.367, 0.3677, 0.3683, 0.3675, 0.3674, 0.3683, 0.3678, 0.3685, 0.3684, 0.3669, 0.3678, 0.3679, 0.3685, 0.367, 0.3676, 0.3671, 0.3677, 0.3658, 0.3662, 0.3657, 0.3669, 0.3662, 0.3666, 0.3669, 0.3668, 0.3668, 0.3669, 0.3645, 0.3649, 0.3676, 0.3665, 0.366, 0.3654, 0.3657, 0.3672, 0.3655, 0.3659, 0.366, 0.366, 0.367, 0.3656, 0.3663, 0.366, 0.3669, 0.3662, 0.3667, 0.3657]\n",
        "tf_listmle = [0.2122, 0.2125, 0.2145, 0.2335, 0.251, 0.2622, 0.2678, 0.2719, 0.2767, 0.2807, 0.2846, 0.2892, 0.2924, 0.2953, 0.2978, 0.2997, 0.3021, 0.3069, 0.3082, 0.3096, 0.3116, 0.3144, 0.3159, 0.3182, 0.3195, 0.3207, 0.3222, 0.3238, 0.3241, 0.3253, 0.3281, 0.3294, 0.3312, 0.3316, 0.3322, 0.3322, 0.3346, 0.3361, 0.336, 0.3368, 0.3373, 0.3374, 0.337, 0.3394, 0.3403, 0.3408, 0.3409, 0.3421, 0.3427, 0.3421, 0.3437, 0.3439, 0.3426, 0.344, 0.3438, 0.3447, 0.3443, 0.3451, 0.3455, 0.3457, 0.3463, 0.3468, 0.3468, 0.3465, 0.3474, 0.3468, 0.3473, 0.3475, 0.3476, 0.3482, 0.3471, 0.3481, 0.3482, 0.3473, 0.3481, 0.3481, 0.3495, 0.3495, 0.3496, 0.3495, 0.349, 0.3491, 0.3496, 0.3495, 0.3506, 0.35, 0.3499, 0.3503, 0.3503, 0.3509, 0.3508, 0.3507, 0.3509, 0.3508, 0.3511, 0.351, 0.3504, 0.3508, 0.3512, 0.3507, 0.351, 0.3501, 0.3504, 0.3507, 0.3505, 0.3506, 0.3507, 0.3511, 0.351, 0.3513, 0.3513, 0.3504, 0.351, 0.3517, 0.3508, 0.3511, 0.3507, 0.351, 0.3516, 0.3508]\n",
        "tf_approxndcg = [0.2205, 0.2191, 0.2169, 0.2179, 0.2174, 0.2189, 0.217, 0.2179, 0.2176, 0.2188, 0.2178, 0.2181, 0.2184, 0.2183, 0.2189, 0.2201, 0.2214, 0.2233, 0.2255, 0.2314, 0.3042, 0.3136, 0.3183, 0.321, 0.3241, 0.3269, 0.3289, 0.3302, 0.3313, 0.3323, 0.3328, 0.3337, 0.3346, 0.3351, 0.3368, 0.3366, 0.3375, 0.337, 0.3368, 0.3366, 0.3399, 0.3384, 0.3382, 0.3401, 0.3387, 0.3412, 0.3419, 0.342, 0.3423, 0.342, 0.3409, 0.3419, 0.3436, 0.3436, 0.3439, 0.3434, 0.3453, 0.3439, 0.3433, 0.3442, 0.3453, 0.3469, 0.3477, 0.3473, 0.3483, 0.3492, 0.3488, 0.3487, 0.3499, 0.3512, 0.3509, 0.3511, 0.3519, 0.3514, 0.3519, 0.3534, 0.3541, 0.3526, 0.3532, 0.3533, 0.3536, 0.3544, 0.3542, 0.3551, 0.3554, 0.3557, 0.3567, 0.3559, 0.3554, 0.3557, 0.3561, 0.3572, 0.3567, 0.3554, 0.3574, 0.3575, 0.3572, 0.357, 0.3565, 0.357, 0.3575, 0.3579, 0.3574, 0.3572, 0.3567, 0.3569, 0.3578, 0.3572, 0.3574, 0.3564, 0.3572, 0.3581, 0.3572, 0.3587, 0.3583, 0.3574, 0.3583, 0.359, 0.3592, 0.3586]\n",
        "tf_gumbelapproxndcg = [0.2201, 0.2186, 0.2196, 0.2193, 0.2195, 0.2209, 0.2323, 0.2675, 0.2891, 0.3014, 0.3101, 0.3172, 0.3227, 0.3264, 0.3307, 0.3338, 0.3354, 0.3378, 0.3384, 0.3403, 0.3415, 0.3422, 0.3428, 0.344, 0.3452, 0.3467, 0.3467, 0.345, 0.3461, 0.3477, 0.3461, 0.3461, 0.3471, 0.3491, 0.3464, 0.3495, 0.3469, 0.3485, 0.348, 0.3473, 0.3478, 0.3472, 0.3484, 0.3498, 0.3479, 0.3526, 0.3505, 0.3526, 0.3499, 0.35, 0.3496, 0.3507, 0.3491, 0.3511, 0.3503, 0.3495, 0.3513, 0.3516, 0.3513, 0.3492, 0.3525, 0.3538, 0.3535, 0.3547, 0.3549, 0.3554, 0.3561, 0.3553, 0.3561, 0.3566, 0.3565, 0.357, 0.3582, 0.357, 0.3584, 0.3582, 0.3588, 0.3588, 0.36, 0.3594, 0.3595, 0.36, 0.359, 0.3598, 0.3613, 0.36, 0.3607, 0.36, 0.3591, 0.3601, 0.3599, 0.3601, 0.3598, 0.3602, 0.3603, 0.3611, 0.3608, 0.36, 0.3595, 0.3594, 0.3601, 0.3602, 0.3598, 0.3602, 0.3589, 0.3593, 0.3592, 0.3598, 0.3607, 0.3593, 0.3597, 0.3597, 0.3596, 0.3596, 0.3593, 0.3593, 0.359, 0.3604, 0.3599, 0.359]"
      ]
    },
    {
      "cell_type": "markdown",
      "metadata": {
        "id": "YdQYX5CTwIlq"
      },
      "source": [
        "**Comparison of convergence of different methods in terms of validation NDCG@5**"
      ]
    },
    {
      "cell_type": "code",
      "execution_count": null,
      "metadata": {
        "id": "IX0VSGoHwIlr",
        "colab": {
          "base_uri": "https://localhost:8080/",
          "height": 295
        },
        "outputId": "6fe450fa-f4eb-4140-ccdc-044c1d3cf3e9"
      },
      "outputs": [
        {
          "output_type": "display_data",
          "data": {
            "text/plain": [
              "<Figure size 432x288 with 1 Axes>"
            ],
            "image/png": "[encoded data removed]"
          },
          "metadata": {
            "needs_background": "light"
          }
        }
      ],
      "source": [
        "import matplotlib\n",
        "import matplotlib.pyplot as plt\n",
        "\n",
        "plt.plot(warmup_ndcg_at_5, label='LibAUC (ListNet)')\n",
        "plt.plot(song_wo_warmup, label='LibAUC (SONG w/o ListNet warm-up)')\n",
        "plt.plot(song_ndcg_at_5, label='LibAUC (SONG w/ ListNet warm-up)')\n",
        "plt.plot(k_song_ndcg_at_5, label='LibAUC (K-SONG)')\n",
        "plt.plot(tf_listnet, label='TFR (ListNet)')\n",
        "plt.plot(tf_listmle, label='TFR (ListMLE)')\n",
        "plt.plot(tf_approxndcg, label='TFR (ApproxNDCG)')\n",
        "plt.plot(tf_gumbelapproxndcg, label='TFR (GumbelApproxNDCG)')\n",
        "plt.title('LibAUC vs Tensorflow-Ranking (TFR) on MovieLens 20M')\n",
        "plt.xlabel('Epoch')\n",
        "plt.ylabel('NDCG@5 on validation data')\n",
        "plt.legend()\n",
        "plt.show()"
      ]
    },
    {
      "cell_type": "markdown",
      "metadata": {
        "id": "kZXZ2YX0wIlr"
      },
      "source": [
        "**We also compare the training time per epoch of each method on one Tesla M40 GPU. The training time for SONG/K-SONG is the weighted average of 20 epochs warm-up and 100 epochs SONG/K-SONG optimization.** "
      ]
    },
    {
      "cell_type": "code",
      "execution_count": null,
      "metadata": {
        "id": "D5rTUYFJwIlr"
      },
      "outputs": [],
      "source": [
        "method_list = ['TFR\\n(ListNet)','TFR\\n(ListMLE)','TFR\\n(Approx-\\nNDCG)','TFR\\n(Gumbel-\\nApproxNDCG)','LibAUC\\n(SONG)','LibAUC\\n(K-SONG)']\n",
        "time_list = [44, 45, 48, 73, 43, 46]\n",
        "color_list = ['blue','blue','blue','blue','orange','orange']"
      ]
    },
    {
      "cell_type": "code",
      "execution_count": null,
      "metadata": {
        "id": "ngAsbw0awIlr",
        "colab": {
          "base_uri": "https://localhost:8080/",
          "height": 319
        },
        "outputId": "2c77cf89-1276-4fb9-c2ad-7c193a286afb"
      },
      "outputs": [
        {
          "output_type": "display_data",
          "data": {
            "text/plain": [
              "<Figure size 432x288 with 1 Axes>"
            ],
            "image/png": "[encoded data removed]"
          },
          "metadata": {
            "needs_background": "light"
          }
        }
      ],
      "source": [
        "plt.bar(method_list, time_list, color=color_list)\n",
        "plt.title('Comparison on training time per epoch')\n",
        "plt.xlabel('Method')\n",
        "plt.ylabel('Time (seconds)')\n",
        "plt.show()"
      ]
    }
  ],
  "metadata": {
    "accelerator": "GPU",
    "colab": {
      "background_execution": "on",
      "collapsed_sections": [],
      "machine_shape": "hm",
      "name": "10_Optimizing_NDCG_Loss_on_MovieLens20M.ipynb",
      "provenance": []
    },
    "gpuClass": "standard",
    "kernelspec": {
      "display_name": "Python (pytorh14)",
      "language": "python",
      "name": "pytorch14"
    },
    "language_info": {
      "codemirror_mode": {
        "name": "ipython",
        "version": 3
      },
      "file_extension": ".py",
      "mimetype": "text/x-python",
      "name": "python",
      "nbconvert_exporter": "python",
      "pygments_lexer": "ipython3",
      "version": "3.7.11"
    }
  },
  "nbformat": 4,
  "nbformat_minor": 0
}