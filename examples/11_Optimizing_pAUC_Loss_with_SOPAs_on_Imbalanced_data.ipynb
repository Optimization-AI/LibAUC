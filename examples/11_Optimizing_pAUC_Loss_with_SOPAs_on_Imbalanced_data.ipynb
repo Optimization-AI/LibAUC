{
  "cells": [
    {
      "cell_type": "markdown",
      "id": "b788163e",
      "metadata": {
        "id": "b788163e"
      },
      "source": [
        "# **Optimizing Partial AUC Loss on Imbalanaced Dataset (pAUC-DRO)**\n",
        "\n",
        "**Author**: Gang Li  \n",
        "**Edited by**: Zhuoning Yuan\n",
        "\n",
        "**Introduction**\n",
        "\n",
        "In this tutorial, we'll show how to use **pAUC_DRO** loss to train a Resnet18 model to maximize the `partial Area Under the Curve (pAUC)` on a binary image classification task with CIFAR-10 dataset. After completion of this tutorial, you should be able to use LibAUC to train your own models on your own datasets.\n",
        "\n",
        "**Useful Resources**\n",
        "\n",
        "* Website: https://libauc.org\n",
        "* Github: https://github.com/Optimization-AI/LibAUC\n",
        "\n",
        "\n",
        "**References**\n",
        "\n",
        "If you find this tutorial helpful in your work,  please acknowledge our library and cite the following papers:\n",
        "\n",
        "<pre>\n",
        "@inproceedings{zhu2022auc,\n",
        "  title={When AUC meets DRO: Optimizing Partial AUC for Deep Learning with Non-Convex Convergence Guarantee},\n",
        "  author={Zhu, Dixian and Li, Gang and Wang, Bokun and Wu, Xiaodong and Yang, Tianbao},\n",
        "  booktitle={International Conference on Machine Learning},\n",
        "  pages={27548--27573},\n",
        "  year={2022},\n",
        "  publisher={PMLR},\n",
        "}\n",
        "</pre>\n",
        "\n"
      ]
    },
    {
      "cell_type": "markdown",
      "id": "efaf1543",
      "metadata": {
        "id": "efaf1543"
      },
      "source": [
        "## **Installing LibAUC**\n",
        "\n",
        "Let's start with install our library here. In this tutorial, we will use version `1.2.0`."
      ]
    },
    {
      "cell_type": "code",
      "execution_count": null,
      "id": "4ed8949b",
      "metadata": {
        "id": "4ed8949b"
      },
      "outputs": [],
      "source": [
        "!pip install libauc==1.2.0"
      ]
    },
    {
      "cell_type": "markdown",
      "source": [
        "## **Importing LibAUC**\n",
        "Import required packages to use"
      ],
      "metadata": {
        "id": "WAlwcrAnYZlV"
      },
      "id": "WAlwcrAnYZlV"
    },
    {
      "cell_type": "code",
      "source": [
        "from libauc.losses.auc import pAUC_DRO_Loss\n",
        "from libauc.optimizers import SOPAs\n",
        "from libauc.models import resnet18\n",
        "from libauc.datasets import CIFAR10\n",
        "from libauc.utils import ImbalancedDataGenerator\n",
        "from libauc.sampler import DualSampler # data resampling (for binary class)\n",
        "from libauc.metrics import pauc_roc_score\n",
        "\n",
        "import torchvision.transforms as transforms\n",
        "from torch.utils.data import Dataset\n",
        "import numpy as np\n",
        "import torch\n",
        "from PIL import Image"
      ],
      "metadata": {
        "id": "GBWZWpa7Cw9e"
      },
      "id": "GBWZWpa7Cw9e",
      "execution_count": null,
      "outputs": []
    },
    {
      "cell_type": "markdown",
      "id": "a7c58071",
      "metadata": {
        "id": "a7c58071"
      },
      "source": [
        "## **Reproducibility**\n",
        "\n",
        "The following function `set_all_seeds` limits the number of sources of randomness behaviors, such as model intialization, data shuffling, etcs. However, completely reproducible results are not guaranteed across PyTorch releases [[Ref]](https://pytorch.org/docs/stable/notes/randomness.html#:~:text=Completely%20reproducible%20results%20are%20not,even%20when%20using%20identical%20seeds.)."
      ]
    },
    {
      "cell_type": "code",
      "execution_count": null,
      "id": "27ef8526",
      "metadata": {
        "id": "27ef8526"
      },
      "outputs": [],
      "source": [
        "def set_all_seeds(SEED):\n",
        "    # REPRODUCIBILITY\n",
        "    np.random.seed(SEED)\n",
        "    torch.manual_seed(SEED)\n",
        "    torch.cuda.manual_seed(SEED)\n",
        "    torch.backends.cudnn.deterministic = True\n",
        "    torch.backends.cudnn.benchmark = False"
      ]
    },
    {
      "cell_type": "markdown",
      "metadata": {
        "id": "QFmMHcdDsyoj"
      },
      "source": [
        "## **Image Dataset**\n",
        "\n",
        "\n",
        "Now that we defined the data input pipeline such as data augmentations. In this tutorials, we use `RandomCrop`, `RandomHorizontalFlip`.  The `pos_index_map` helps map global index to local index for reducing memory cost in loss function since we only need to track the indices for positive samples. Please refer to original paper [here](https://arxiv.org/pdf/2203.00176.pdf) for more details.\n",
        "\n",
        "\n"
      ],
      "id": "QFmMHcdDsyoj"
    },
    {
      "cell_type": "code",
      "execution_count": null,
      "metadata": {
        "id": "TAV59koDsyoj"
      },
      "outputs": [],
      "source": [
        "class ImageDataset(Dataset):\n",
        "    def __init__(self, images, targets, image_size=32, crop_size=30, mode='train'):\n",
        "       self.images = images.astype(np.uint8)\n",
        "       self.targets = targets\n",
        "       self.mode = mode\n",
        "       self.transform_train = transforms.Compose([                                                \n",
        "                              transforms.ToTensor(),\n",
        "                              transforms.RandomCrop((crop_size, crop_size), padding=None),\n",
        "                              transforms.RandomHorizontalFlip(),\n",
        "                              transforms.Resize((image_size, image_size)),\n",
        "                              ])\n",
        "       self.transform_test = transforms.Compose([\n",
        "                             transforms.ToTensor(),\n",
        "                             transforms.Resize((image_size, image_size)),\n",
        "                              ])\n",
        "       \n",
        "       # for loss function\n",
        "       self.pos_indices = np.flatnonzero(targets==1)\n",
        "       self.pos_index_map = {}\n",
        "       for i, idx in enumerate(self.pos_indices):\n",
        "           self.pos_index_map[idx] = i\n",
        "\n",
        "    def __len__(self):\n",
        "        return len(self.images)\n",
        "\n",
        "    def __getitem__(self, idx):\n",
        "        image = self.images[idx]\n",
        "        target = self.targets[idx]\n",
        "        image = Image.fromarray(image.astype('uint8'))\n",
        "        if self.mode == 'train':\n",
        "            idx = self.pos_index_map[idx] if idx in self.pos_indices else -1\n",
        "            image = self.transform_train(image)\n",
        "        else:\n",
        "            image = self.transform_test(image)\n",
        "        return image, target, idx"
      ],
      "id": "TAV59koDsyoj"
    },
    {
      "cell_type": "markdown",
      "metadata": {
        "id": "nJ8q7Il8syok"
      },
      "source": [
        "## **Introduction for Loss and Optimizer**\n",
        "\n",
        "In this section, we will introduce DRO_pAUC optimization algorithm and how to utilize KLDRO_pAUC loss function and KLDRO_pAUC optimizer. \n",
        "\n",
        "### **KLDRO pAUC Loss**  \n",
        "Typically, AUC maximization is to optimize the following objective:  \n",
        "\n",
        "\\begin{align*}\n",
        "\\min_{\\mathbf{w}}\\frac{1}{n_+}\\sum_{\\mathbf{x}_i\\in\\mathbf{S}_+} \\frac{1}{n_-}\\sum_{\\mathbf{x}_j\\in\\mathbf{S}_-} L(\\mathbf{w}; \\mathbf{x}_i, \\mathbf{x}_j)\n",
        "\\end{align*}  \n",
        "\n",
        "To pay more attention to partial difficult samples, we define a new formulation by leveraging the Distributionally Robust Optimization (DRO), which gives  \n",
        "\\begin{align*}\n",
        "\\min_{\\mathbf{w}}\\frac{1}{n_+}\\sum_{\\mathbf{x}_i\\in\\mathbf{S}_+} \\max_{\\mathbf{p}\\in\\Delta} \\sum_j p_j L(\\mathbf{w}; \\mathbf{x}_i, \\mathbf{x}_j) - \\lambda \\text{KL}(\\mathbf{p}, 1/n)\n",
        "\\end{align*}  \n",
        "\n",
        "It is not difficult to show that the above objective is equivalent to\n",
        "\\begin{align*}\n",
        "\\min_{\\mathbf{w}}\\frac{1}{n_+}\\sum_{\\mathbf{x}_i\\in\\mathbf{S}_+}\\lambda \\log \\frac{1}{n_-}\\sum_{\\mathbf{x}_j\\in\\mathbf{S}_-}\\exp(\\frac{L(\\mathbf{w}; \\mathbf{x}_i, \\mathbf{x}_j)}{\\lambda})\n",
        "\\end{align*}\n",
        "\n",
        "The loss is implemented in `pAUC_DRO_Loss()`.\n",
        "\n",
        "\n",
        "### **KLDRO pAUC Optimizer** \n",
        "\n",
        "The challenge for optimizing DRO_pAUC loss is that an unbiased stochastic gradient is not readily computed since it's a two-level stochastic dependent compositional function. In order to address it, we propose an optimization algorithm called SOPA-s, whose key updates in the momentum style are as follow:\n",
        "\n",
        "1. For each $\\mathbf{x}_i\\in \\mathbf{B}_{+}$, update $u^{t}_i =(1-\\gamma)u^{t-1}_{i} + \\gamma \\frac{1}{|\\mathbf{B}_-|}  \\sum_{\\mathbf{x}_j\\in \\mathbf{B}_-}\\exp\\left(\\frac{L(\\mathbf{w}_t; \\mathbf{x}_i, \\mathbf{x}_j)}{\\lambda}\\right) $\n",
        "2. Let $p_{ij} = \\exp (L(\\mathbf{w}_t; \\mathbf{x}_i, \\mathbf{x}_j)/\\lambda)/u^{t}_{i}$, then compute a gradient estimator $\\nabla_t=\\frac{1}{|\\mathbf{B}_{+}|}\\frac{1}{|\\mathbf{B}_-|}\\sum_{\\mathbf{x}_i\\in\\mathbf{B}_{+}}   \\sum_{\\mathbf{x}_j\\in \\mathbf{B}_-}p_{ij}\\nabla L(\\mathbf{w}_t; \\mathbf{x}_i, \\mathbf{x}_j)$\n",
        "3. Update $\\mathbf{v}_{t}=\\beta\\mathbf{v}_{t-1} + (1-\\beta) \\nabla_t$\n",
        "4. Update $\\mathbf{w}_{t+1}   =\\mathbf{w}_t - \\eta  \\mathbf{v}_t$ (or Adam-style)  \n",
        "\n",
        "$u^{t}_i$: denotes a moving average estimator for $\\mathbf{E}_{\\mathbf{x}_j\\sim\\mathbf{S}_-}\\exp(\\frac{L(\\mathbf{w}; x_i,\\mathbf{x}_j)}{\\lambda})$ at $t$ iteration  \n",
        "$\\mathbf{w}$: denotes model's parameters  \n",
        "$\\nabla_t$: denotes stochastic gradient with respect to model's parameters $\\mathbf{w}$ at $t$ iteration  \n",
        "$\\mathbf{v}$: denotes stochastic gradient momentum     \n",
        "$\\eta$: denotes learning rate\n",
        "\n",
        "For more details, please refer to our [paper](https://arxiv.org/abs/2203.00176). In the implementation, we divide pAUC_DRO optimization into two parts. The first part is implemented in `pAUC_DRO_Loss` to update $u^{t}_i$. The second part is implemented in `pAUC_DRO_Optimizer`, which wraps several optimizing methods, including SGD, Momentum and ADAM to update model's parameters $\\mathbf{w}$.\n",
        "\n",
        "### **Hyper-parameters**    \n",
        "\n",
        "**DualSampler**\n",
        "- `batch_size`: how many samples per batch to load   \n",
        "- `pos_num`: specify how many positive samples in each batch. It must be greater than or equal to 1\n",
        "\n",
        "\n",
        "**Loss**\n",
        "- `pos_len`: the size of positive sample in training dataset.\n",
        "- `margin`: margin for squred hinge loss (default: 1.0)\n",
        "- `gamma`: parameter for moving average, refers to $\\gamma$ in step(1) (default: 0.1)\n",
        "- `Lambda`: the weight for KL divergence, refers to $\\lambda$ in step (1) and step (2) (default: 1.0)\n",
        "    \n",
        "    \n",
        "**Optimizer**\n",
        "- `weight_decay`: weight decay for the model parameters. Might be tuned in practice.\n",
        "- `lr`: the learning rate used for SOPAs algorithm; Suggest to be tuned in practice.\n",
        "- `mode`: select Adam-style or SGD-style to update model's parameters. Choose from{'sgd', 'adam'} (default: 'adam')\n",
        "\n",
        "    \n",
        "#### **Some Tips**:    \n",
        "- We recommend that **pos_num** is set to **batch_size//2** based on our studies.\n",
        "- In most cases, **gamma** is good when equal to 0.1, but sometimes you need to tune this parameter in the range (0, 1) to get better results.  \n",
        "- **Lambda** is a sensitive parameter, tune it for better performance. Some suggested values: {0.1, 1.0, 10}  \n",
        "- To further improve the model, users can also tune **margin, weight_decay** and other parameters. \n"
      ],
      "id": "nJ8q7Il8syok"
    },
    {
      "cell_type": "code",
      "execution_count": null,
      "metadata": {
        "id": "S_FLNPnvsyok"
      },
      "outputs": [],
      "source": [
        "# paramaters\n",
        "SEED = 123\n",
        "batch_size = 64\n",
        "total_epochs = 60\n",
        "weight_decay = 5e-4 # regularization weight decay\n",
        "lr = 1e-3  # learning rate\n",
        "eta = 1e1 # learning rate for control negative samples weights\n",
        "decay_epochs = [20, 40]\n",
        "decay_factor = 10\n",
        "\n",
        "gamma = 0.1 \n",
        "margin = 1.0\n",
        "Lambda = 1.0\n",
        "\n",
        "sampling_rate = 0.5 \n",
        "num_pos = round(sampling_rate*batch_size) \n",
        "num_neg = batch_size - num_pos"
      ],
      "id": "S_FLNPnvsyok"
    },
    {
      "cell_type": "markdown",
      "metadata": {
        "id": "novAei7Ssyok"
      },
      "source": [
        "## **Load Data, Preprocessing, and data loader**\n",
        "\n",
        "In this step, we will use the [CIFAR10](http://yann.lecun.com/exdb/mnist/) as benchmark dataset. Before importing data to `dataloader`, we construct imbalanced version for CIFAR10 by `ImbalanceGenerator`. Specifically, it first randomly splits the training data by class ID (e.g., 10 classes) into two even portions as the positive and negative classes, and then it randomly removes some samples from the positive class to make\n",
        "it imbalanced. We keep the testing set untouched. We refer `imratio` to the ratio of number of positive examples to number of all examples. "
      ],
      "id": "novAei7Ssyok"
    },
    {
      "cell_type": "code",
      "execution_count": null,
      "metadata": {
        "colab": {
          "base_uri": "https://localhost:8080/"
        },
        "id": "oTp7XEaesyol",
        "outputId": "879d7b7d-2ba4-4ef1-a73a-e9897ede0338"
      },
      "outputs": [
        {
          "output_type": "stream",
          "name": "stdout",
          "text": [
            "Files already downloaded and verified\n",
            "Files already downloaded and verified\n",
            "#SAMPLES: [31250], POS:NEG: [6250 : 25000], POS RATIO: 0.2000\n",
            "#SAMPLES: [10000], POS:NEG: [5000 : 5000], POS RATIO: 0.5000\n"
          ]
        }
      ],
      "source": [
        "train_data, train_targets = CIFAR10(root='./data', train=True)\n",
        "test_data, test_targets  = CIFAR10(root='./data', train=False)\n",
        "\n",
        "imratio = 0.2\n",
        "generator = ImbalancedDataGenerator(shuffle=True, verbose=True, random_seed=0)\n",
        "(train_images, train_labels) = generator.transform(train_data, train_targets, imratio=imratio)\n",
        "(test_images, test_labels) = generator.transform(test_data, test_targets, imratio=0.5) \n",
        "\n",
        "trainDataset = ImageDataset(train_images, train_labels)\n",
        "testDataset = ImageDataset(test_images, test_labels, mode='test')\n",
        "\n",
        "sampler = DualSampler(trainDataset, batch_size, sampling_rate=sampling_rate)\n",
        "trainloader = torch.utils.data.DataLoader(trainDataset, batch_size, sampler=sampler, shuffle=False, num_workers=1)\n",
        "testloader = torch.utils.data.DataLoader(testDataset, batch_size=batch_size, shuffle=False, num_workers=1)"
      ],
      "id": "oTp7XEaesyol"
    },
    {
      "cell_type": "markdown",
      "source": [
        "## **Model and Loss setup**"
      ],
      "metadata": {
        "id": "ou0d9hhvWJqk"
      },
      "id": "ou0d9hhvWJqk"
    },
    {
      "cell_type": "code",
      "execution_count": null,
      "metadata": {
        "id": "08370a67"
      },
      "outputs": [],
      "source": [
        "seed = 123\n",
        "set_all_seeds(seed)\n",
        "model = resnet18(pretrained=False, num_classes=1, last_activation=None) \n",
        "model = model.cuda()\n",
        "\n",
        "loss_fn = pAUC_DRO_Loss(pos_len=sampler.pos_len, margin=margin, gamma=gamma, Lambda=Lambda)\n",
        "optimizer = SOPAs(model.parameters(), loss_fn=loss_fn, mode='adam', lr=lr, weight_decay=weight_decay)        "
      ],
      "id": "08370a67"
    },
    {
      "cell_type": "markdown",
      "id": "57c6d316",
      "metadata": {
        "id": "57c6d316"
      },
      "source": [
        "## **Training**\n",
        "\n",
        "Now it's time for training. And we evaluate partial AUC performance with False Positive Rate(FPR) less than or equal to 0.3, i.e., FPR ≤ 0.3. Here, we use ResNet18 as an example model for demonstration."
      ]
    },
    {
      "cell_type": "code",
      "execution_count": null,
      "id": "78d47d7d",
      "metadata": {
        "scrolled": true,
        "id": "78d47d7d",
        "outputId": "0b70a9e3-53c1-4d5d-ad6c-ec5e9bfb04ab",
        "colab": {
          "base_uri": "https://localhost:8080/"
        }
      },
      "outputs": [
        {
          "output_type": "stream",
          "name": "stdout",
          "text": [
            "Start Training\n",
            "------------------------------\n",
            "epoch: 0, lr: 0.0010, train_pauc: 0.5786, test_pauc: 0.6797, test_best: 0.6797\n",
            "epoch: 1, lr: 0.0010, train_pauc: 0.7022, test_pauc: 0.7290, test_best: 0.7290\n",
            "epoch: 2, lr: 0.0010, train_pauc: 0.7554, test_pauc: 0.7470, test_best: 0.7470\n",
            "epoch: 3, lr: 0.0010, train_pauc: 0.7884, test_pauc: 0.7697, test_best: 0.7697\n",
            "epoch: 4, lr: 0.0010, train_pauc: 0.8125, test_pauc: 0.7725, test_best: 0.7725\n",
            "epoch: 5, lr: 0.0010, train_pauc: 0.8281, test_pauc: 0.7553, test_best: 0.7725\n",
            "epoch: 6, lr: 0.0010, train_pauc: 0.8446, test_pauc: 0.8124, test_best: 0.8124\n",
            "epoch: 7, lr: 0.0010, train_pauc: 0.8538, test_pauc: 0.8089, test_best: 0.8124\n",
            "epoch: 8, lr: 0.0010, train_pauc: 0.8649, test_pauc: 0.8019, test_best: 0.8124\n",
            "epoch: 9, lr: 0.0010, train_pauc: 0.8773, test_pauc: 0.8040, test_best: 0.8124\n",
            "epoch: 10, lr: 0.0010, train_pauc: 0.8873, test_pauc: 0.8046, test_best: 0.8124\n",
            "epoch: 11, lr: 0.0010, train_pauc: 0.8918, test_pauc: 0.8392, test_best: 0.8392\n",
            "epoch: 12, lr: 0.0010, train_pauc: 0.9000, test_pauc: 0.8345, test_best: 0.8392\n",
            "epoch: 13, lr: 0.0010, train_pauc: 0.9099, test_pauc: 0.8187, test_best: 0.8392\n",
            "epoch: 14, lr: 0.0010, train_pauc: 0.9161, test_pauc: 0.7834, test_best: 0.8392\n",
            "epoch: 15, lr: 0.0010, train_pauc: 0.9189, test_pauc: 0.8308, test_best: 0.8392\n",
            "epoch: 16, lr: 0.0010, train_pauc: 0.9265, test_pauc: 0.8416, test_best: 0.8416\n",
            "epoch: 17, lr: 0.0010, train_pauc: 0.9299, test_pauc: 0.8371, test_best: 0.8416\n",
            "epoch: 18, lr: 0.0010, train_pauc: 0.9361, test_pauc: 0.8559, test_best: 0.8559\n",
            "epoch: 19, lr: 0.0010, train_pauc: 0.9384, test_pauc: 0.8048, test_best: 0.8559\n",
            "Reducing learning rate to 0.00010 @ T=15620!\n",
            "epoch: 20, lr: 0.0001, train_pauc: 0.9689, test_pauc: 0.8685, test_best: 0.8685\n",
            "epoch: 21, lr: 0.0001, train_pauc: 0.9793, test_pauc: 0.8713, test_best: 0.8713\n",
            "epoch: 22, lr: 0.0001, train_pauc: 0.9832, test_pauc: 0.8699, test_best: 0.8713\n",
            "epoch: 23, lr: 0.0001, train_pauc: 0.9866, test_pauc: 0.8738, test_best: 0.8738\n",
            "epoch: 24, lr: 0.0001, train_pauc: 0.9889, test_pauc: 0.8738, test_best: 0.8738\n",
            "epoch: 25, lr: 0.0001, train_pauc: 0.9899, test_pauc: 0.8696, test_best: 0.8738\n",
            "epoch: 26, lr: 0.0001, train_pauc: 0.9912, test_pauc: 0.8696, test_best: 0.8738\n",
            "epoch: 27, lr: 0.0001, train_pauc: 0.9915, test_pauc: 0.8676, test_best: 0.8738\n",
            "epoch: 28, lr: 0.0001, train_pauc: 0.9927, test_pauc: 0.8711, test_best: 0.8738\n",
            "epoch: 29, lr: 0.0001, train_pauc: 0.9933, test_pauc: 0.8674, test_best: 0.8738\n",
            "epoch: 30, lr: 0.0001, train_pauc: 0.9941, test_pauc: 0.8737, test_best: 0.8738\n",
            "epoch: 31, lr: 0.0001, train_pauc: 0.9949, test_pauc: 0.8638, test_best: 0.8738\n",
            "epoch: 32, lr: 0.0001, train_pauc: 0.9954, test_pauc: 0.8690, test_best: 0.8738\n",
            "epoch: 33, lr: 0.0001, train_pauc: 0.9955, test_pauc: 0.8711, test_best: 0.8738\n",
            "epoch: 34, lr: 0.0001, train_pauc: 0.9957, test_pauc: 0.8692, test_best: 0.8738\n",
            "epoch: 35, lr: 0.0001, train_pauc: 0.9961, test_pauc: 0.8674, test_best: 0.8738\n",
            "epoch: 36, lr: 0.0001, train_pauc: 0.9965, test_pauc: 0.8705, test_best: 0.8738\n",
            "epoch: 37, lr: 0.0001, train_pauc: 0.9969, test_pauc: 0.8705, test_best: 0.8738\n",
            "epoch: 38, lr: 0.0001, train_pauc: 0.9966, test_pauc: 0.8678, test_best: 0.8738\n",
            "epoch: 39, lr: 0.0001, train_pauc: 0.9973, test_pauc: 0.8676, test_best: 0.8738\n",
            "Reducing learning rate to 0.00001 @ T=31240!\n",
            "epoch: 40, lr: 0.0000, train_pauc: 0.9973, test_pauc: 0.8704, test_best: 0.8738\n",
            "epoch: 41, lr: 0.0000, train_pauc: 0.9976, test_pauc: 0.8689, test_best: 0.8738\n",
            "epoch: 42, lr: 0.0000, train_pauc: 0.9976, test_pauc: 0.8690, test_best: 0.8738\n",
            "epoch: 43, lr: 0.0000, train_pauc: 0.9977, test_pauc: 0.8695, test_best: 0.8738\n",
            "epoch: 44, lr: 0.0000, train_pauc: 0.9978, test_pauc: 0.8694, test_best: 0.8738\n",
            "epoch: 45, lr: 0.0000, train_pauc: 0.9980, test_pauc: 0.8700, test_best: 0.8738\n",
            "epoch: 46, lr: 0.0000, train_pauc: 0.9977, test_pauc: 0.8696, test_best: 0.8738\n",
            "epoch: 47, lr: 0.0000, train_pauc: 0.9981, test_pauc: 0.8686, test_best: 0.8738\n",
            "epoch: 48, lr: 0.0000, train_pauc: 0.9982, test_pauc: 0.8678, test_best: 0.8738\n",
            "epoch: 49, lr: 0.0000, train_pauc: 0.9978, test_pauc: 0.8640, test_best: 0.8738\n",
            "epoch: 50, lr: 0.0000, train_pauc: 0.9981, test_pauc: 0.8667, test_best: 0.8738\n",
            "epoch: 51, lr: 0.0000, train_pauc: 0.9982, test_pauc: 0.8659, test_best: 0.8738\n",
            "epoch: 52, lr: 0.0000, train_pauc: 0.9980, test_pauc: 0.8646, test_best: 0.8738\n",
            "epoch: 53, lr: 0.0000, train_pauc: 0.9981, test_pauc: 0.8644, test_best: 0.8738\n",
            "epoch: 54, lr: 0.0000, train_pauc: 0.9979, test_pauc: 0.8652, test_best: 0.8738\n",
            "epoch: 55, lr: 0.0000, train_pauc: 0.9982, test_pauc: 0.8659, test_best: 0.8738\n",
            "epoch: 56, lr: 0.0000, train_pauc: 0.9982, test_pauc: 0.8685, test_best: 0.8738\n",
            "epoch: 57, lr: 0.0000, train_pauc: 0.9984, test_pauc: 0.8657, test_best: 0.8738\n",
            "epoch: 58, lr: 0.0000, train_pauc: 0.9984, test_pauc: 0.8643, test_best: 0.8738\n",
            "epoch: 59, lr: 0.0000, train_pauc: 0.9983, test_pauc: 0.8660, test_best: 0.8738\n"
          ]
        }
      ],
      "source": [
        "print ('Start Training')\n",
        "print ('-'*30)\n",
        "test_best = 0\n",
        "train_list, test_list = [], []\n",
        "for epoch in range(total_epochs):\n",
        "    \n",
        "    if epoch in decay_epochs:\n",
        "         # decrease learning rate by 10x \n",
        "        optimizer.update_lr(decay_factor=10)\n",
        "            \n",
        "    train_pred, train_true = [], []\n",
        "    model.train() \n",
        "    for idx, (data, targets, index) in enumerate(trainloader):\n",
        "        data, targets  = data.cuda(), targets.cuda()\n",
        "        y_pred = model(data)\n",
        "        y_prob = torch.sigmoid(y_pred)\n",
        "        loss = loss_fn(y_prob, targets, index_p=index) # postive index is selected inside loss function\n",
        "        optimizer.zero_grad()\n",
        "        loss.backward()\n",
        "        optimizer.step()\n",
        "        train_pred.append(y_prob.cpu().detach().numpy())\n",
        "        train_true.append(targets.cpu().detach().numpy())\n",
        "\n",
        "    train_true = np.concatenate(train_true)\n",
        "    train_pred = np.concatenate(train_pred)\n",
        "    train_pauc = pauc_roc_score(train_true, train_pred, max_fpr=0.3)\n",
        "    train_list.append(train_pauc)\n",
        "    \n",
        "   # evaluation\n",
        "    model.eval()\n",
        "    test_pred, test_true = [], [] \n",
        "    for j, data in enumerate(testloader):\n",
        "        test_data, test_targets, index = data\n",
        "        test_data = test_data.cuda()\n",
        "        y_pred = model(test_data)\n",
        "        y_prob = torch.sigmoid(y_pred)\n",
        "        test_pred.append(y_prob.cpu().detach().numpy())\n",
        "        test_true.append(test_targets.numpy())\n",
        "    test_true = np.concatenate(test_true)\n",
        "    test_pred = np.concatenate(test_pred)\n",
        "    val_pauc = pauc_roc_score(test_true, test_pred, max_fpr=0.3)\n",
        "    test_list.append(val_pauc)\n",
        "    \n",
        "    if test_best < val_pauc:\n",
        "       test_best = val_pauc\n",
        "    \n",
        "    model.train()\n",
        "    print(\"epoch: %s, lr: %.4f, train_pauc: %.4f, test_pauc: %.4f, test_best: %.4f\"%(epoch, optimizer.lr, train_pauc, val_pauc, test_best))\n",
        "    "
      ]
    },
    {
      "cell_type": "markdown",
      "id": "e9c3df69",
      "metadata": {
        "id": "e9c3df69"
      },
      "source": [
        "## **Visualization**\n",
        "Now, let's plot the curve of pAUC performance on training and test set. Furthermore, we compare our performance in terms of pAUC with the `AUCM Loss`, which can directly optimize AUROC.  For more details and tutorials about `AUCMLoss`, please refer to [AUC-M](https://github.com/Optimization-AI/LibAUC/blob/main/examples/02_Optimizing_AUROC_with_ResNet20_on_Imbalanced_CIFAR10.ipynb)."
      ]
    },
    {
      "cell_type": "code",
      "execution_count": null,
      "id": "b18d7de4",
      "metadata": {
        "id": "b18d7de4",
        "outputId": "87d6af0f-1a30-421c-ba75-2e6491895ecc",
        "colab": {
          "base_uri": "https://localhost:8080/",
          "height": 364
        }
      },
      "outputs": [
        {
          "output_type": "display_data",
          "data": {
            "text/plain": [
              "<Figure size 576x360 with 1 Axes>"
            ],
            "image/png": "[encoded data removed]"
          },
          "metadata": {
            "needs_background": "light"
          }
        }
      ],
      "source": [
        "import matplotlib.pyplot as plt\n",
        "plt.rcParams[\"figure.figsize\"] = (8,5)\n",
        "###\n",
        "aucm_train= [0.6069506135036445, 0.6978036932301377, 0.7463894673857081, 0.7776219948089698, 0.8027497552574762, 0.8194925184801071, 0.8326414836870717, 0.8418876286652094, 0.8545082542202714, 0.8613377917975251, 0.8663205447982314, 0.8720521974101583, 0.8797435655295311, 0.8809396206077954, 0.8836973394615497, 0.8862993963546479, 0.8907247376100926, 0.8913716767613735, 0.8904567210873551, 0.8936225492461372, 0.9540770048876036, 0.9723488133661535, 0.9781509710156533, 0.9817765145216534, 0.9844834466810455, 0.986610225327087, 0.9881808086925543, 0.9899628359094543, 0.9907810165593278, 0.9914713525781993, 0.9920222707564783, 0.9929317113720121, 0.9935210368721419, 0.993572794854696, 0.9938371343578507, 0.9935073845281966, 0.9947178127253539, 0.9941674834729468, 0.9945044055783974, 0.9948909958585506, 0.9955329256867305, 0.9961777539970935, 0.9958743720990391, 0.9961726341719099, 0.995941568038736, 0.9963039071928088, 0.9965874872432375, 0.9965767861211055, 0.9964081514670973, 0.9963576105770835, 0.9963734406282638, 0.9967885112505668, 0.9964143992297314, 0.9963215825031975, 0.9964172999093988, 0.9968314808643665, 0.9968811317731188, 0.9967179493923207, 0.9970772553897975, 0.9968263538188764]\n",
        "aucm_test= [0.6624721568627451, 0.6585558039215686, 0.7224398823529412, 0.7461185882352941, 0.7209969411764705, 0.7715108235294117, 0.739145568627451, 0.7252269803921568, 0.7362687450980392, 0.7746165098039216, 0.7529456862745099, 0.8016385098039216, 0.8120752549019608, 0.7091570588235294, 0.7759422745098039, 0.7294065490196078, 0.7001150588235294, 0.761414, 0.7787230980392157, 0.8003133333333334, 0.862998980392157, 0.862715294117647, 0.8590309411764705, 0.8663745098039217, 0.8619192156862745, 0.8615073333333334, 0.8627211764705882, 0.8655584705882353, 0.8625684705882353, 0.8610763921568627, 0.8653654509803922, 0.8593325490196078, 0.8611757254901962, 0.8573677647058824, 0.8564478039215686, 0.8580612549019608, 0.8614994901960784, 0.861043725490196, 0.8583090980392156, 0.853949137254902, 0.8608719215686275, 0.862686431372549, 0.8628177254901961, 0.86389, 0.8628747058823528, 0.8629372549019607, 0.8625298431372549, 0.8619865490196079, 0.8633648235294118, 0.8624133725490196, 0.8632398823529412, 0.863091568627451, 0.8631138823529412, 0.862576, 0.8623480392156863, 0.8626336078431373, 0.8629759607843137, 0.8622864705882353, 0.8625338431372549, 0.8614151372549019]\n",
        "plt.plot(train_list, label='KLDRO_pAUC Training', linewidth=3)\n",
        "plt.plot(aucm_train, label='AUCM Training', linewidth=3)\n",
        "plt.plot(test_list, marker='_' , linestyle='dashed', label='KLDRO_pAUC Test', linewidth=3)\n",
        "plt.plot(aucm_test, marker='_' , linestyle='dashed', label='AUCM Test', linewidth=3)\n",
        "plt.title('pAUC Performance(FPR≤0.3)',fontsize=20)\n",
        "plt.xlabel('Epoch',fontsize=20)\n",
        "plt.ylabel('pAUC',fontsize=20)\n",
        "plt.legend(fontsize=15)\n",
        "plt.show()"
      ]
    }
  ],
  "metadata": {
    "kernelspec": {
      "display_name": "Python 3 (ipykernel)",
      "language": "python",
      "name": "python3"
    },
    "language_info": {
      "codemirror_mode": {
        "name": "ipython",
        "version": 3
      },
      "file_extension": ".py",
      "mimetype": "text/x-python",
      "name": "python",
      "nbconvert_exporter": "python",
      "pygments_lexer": "ipython3",
      "version": "3.7.11"
    },
    "colab": {
      "name": "11_Optimizing_pAUC_Loss_with_SOPAs_on_Imbalanced_data.ipynb",
      "provenance": [],
      "collapsed_sections": [],
      "background_execution": "on"
    },
    "accelerator": "GPU",
    "gpuClass": "standard"
  },
  "nbformat": 4,
  "nbformat_minor": 5
}
