{
  "cells": [
    {
      "cell_type": "markdown",
      "metadata": {
        "id": "NK-vJ2OINH0_"
      },
      "source": [
        "# **Optimizing Partial AUC Loss on Imbalanaced Dataset**\n",
        "\n",
        "**Authors**: Zhuoning Yuan, Dixian Zhu, Gang Li\n",
        "\n",
        "**Introduction**\n",
        "\n",
        "This is a **wrapper** of original implementations of partial AUC losses. For original tutorials with detailed explanations, please refer to [SOPA](https://github.com/Optimization-AI/LibAUC/blob/main/examples/11_Optimizing_pAUC_Loss_with_SOPA_on_Imbalanced_data.ipynb), [SOPA-s](https://github.com/Optimization-AI/LibAUC/blob/main/examples/11_Optimizing_pAUC_Loss_with_SOPAs_on_Imbalanced_data.ipynb), [SOTA-s](https://github.com/Optimization-AI/LibAUC/blob/main/examples/11_Optimizing_pAUC_Loss_with_SOTAs_on_Imbalanced_data.ipynb). In this tutorial, you will learn how to quickly train a ResNet18 model by optimizing **Partial AUC (pAUC)** score using our novel optimization methods on a binary image classification task on Cifar10. After completion of this tutorial, you should be able to use LibAUC to train your own models on your own datasets.\n",
        "\n",
        "**Useful Resources**\n",
        "\n",
        "* Website: https://libauc.org\n",
        "* Github: https://github.com/Optimization-AI/LibAUC\n",
        "\n",
        "\n",
        "**References**\n",
        "\n",
        "If you find this tutorial helpful in your work,  please acknowledge our library and cite the following papers:\n",
        "\n",
        "<pre>\n",
        "@inproceedings{zhu2022auc,\n",
        "  title={When AUC meets DRO: Optimizing Partial AUC for Deep Learning with Non-Convex Convergence Guarantee},\n",
        "  author={Zhu, Dixian and Li, Gang and Wang, Bokun and Wu, Xiaodong and Yang, Tianbao},\n",
        "  booktitle={International Conference on Machine Learning},\n",
        "  pages={27548--27573},\n",
        "  year={2022},\n",
        "  publisher={PMLR},\n",
        "}\n",
        "</pre>"
      ]
    },
    {
      "cell_type": "markdown",
      "metadata": {
        "id": "efaf1543"
      },
      "source": [
        "## **Installing LibAUC**\n",
        "\n",
        "Let's start with install our library here. In this tutorial, we will use version `1.2.0`."
      ]
    },
    {
      "cell_type": "code",
      "execution_count": null,
      "metadata": {
        "id": "aw6REpfxjMe6"
      },
      "outputs": [],
      "source": [
        "!pip install libauc==1.2.0"
      ]
    },
    {
      "cell_type": "markdown",
      "metadata": {
        "id": "rN7i0wt8j5ex"
      },
      "source": [
        "## **Importing LibAUC**\n",
        "\n",
        "Import required libraries to use\n",
        "\n",
        "\n"
      ]
    },
    {
      "cell_type": "code",
      "execution_count": 2,
      "metadata": {
        "id": "f31mohXAj5ex"
      },
      "outputs": [],
      "source": [
        "from libauc.models import resnet18\n",
        "from libauc.datasets import CIFAR10\n",
        "from libauc.losses.auc import pAUCLoss  # default: SOPA\n",
        "from libauc.optimizers import SOPA\n",
        "from libauc.utils import ImbalancedDataGenerator\n",
        "from libauc.sampler import DualSampler  # data resampling (for binary class)\n",
        "from libauc.metrics import pauc_roc_score\n",
        "\n",
        "import torch \n",
        "from PIL import Image\n",
        "import numpy as np\n",
        "import torchvision.transforms as transforms\n",
        "from torch.utils.data import Dataset\n",
        "from torch.utils.data import Dataset\n",
        "import torch \n",
        "\n",
        "import warnings\n",
        "warnings.filterwarnings(\"ignore\")"
      ]
    },
    {
      "cell_type": "markdown",
      "metadata": {
        "id": "IdlU4semj5ez"
      },
      "source": [
        "## **Reproducibility**\n",
        "\n",
        "These functions limit the number of sources of randomness behaviors, such as model intialization, data shuffling, etcs. However, completely reproducible results are not guaranteed across PyTorch releases [[Ref]](https://pytorch.org/docs/stable/notes/randomness.html#:~:text=Completely%20reproducible%20results%20are%20not,even%20when%20using%20identical%20seeds.)."
      ]
    },
    {
      "cell_type": "code",
      "execution_count": 3,
      "metadata": {
        "id": "iLZ0yKfuj5ez"
      },
      "outputs": [],
      "source": [
        "def set_all_seeds(SEED):\n",
        "    # REPRODUCIBILITY\n",
        "    torch.manual_seed(SEED)\n",
        "    np.random.seed(SEED)\n",
        "    torch.backends.cudnn.deterministic = True\n",
        "    torch.backends.cudnn.benchmark = False"
      ]
    },
    {
      "cell_type": "markdown",
      "metadata": {
        "id": "7a4eeTu5uHgX"
      },
      "source": [
        "## **Image Dataset**\n",
        "\n",
        "\n",
        "Now that we defined the data input pipeline such as data augmentations. In this tutorials, we use `RandomCrop`, `RandomHorizontalFlip`. The `pos_index_map` helps map global index to local index for reducing memory cost in loss function since we only need to track the indices for positive samples. Please refer to original paper [here](https://arxiv.org/pdf/2203.00176.pdf) for more details.\n",
        "\n",
        "\n"
      ]
    },
    {
      "cell_type": "code",
      "execution_count": 4,
      "metadata": {
        "id": "Do3FofgWuHgX"
      },
      "outputs": [],
      "source": [
        "class ImageDataset(Dataset):\n",
        "    def __init__(self, images, targets, image_size=32, crop_size=30, mode='train'):\n",
        "       self.images = images.astype(np.uint8)\n",
        "       self.targets = targets\n",
        "       self.mode = mode\n",
        "       self.transform_train = transforms.Compose([                                                \n",
        "                              transforms.ToTensor(),\n",
        "                              transforms.RandomCrop((crop_size, crop_size), padding=None),\n",
        "                              transforms.RandomHorizontalFlip(),\n",
        "                              transforms.Resize((image_size, image_size)),\n",
        "                              ])\n",
        "       self.transform_test = transforms.Compose([\n",
        "                             transforms.ToTensor(),\n",
        "                             transforms.Resize((image_size, image_size)),\n",
        "                              ])\n",
        "       \n",
        "       # for loss function\n",
        "       self.pos_indices = np.flatnonzero(targets==1)\n",
        "       self.pos_index_map = {}\n",
        "       for i, idx in enumerate(self.pos_indices):\n",
        "           self.pos_index_map[idx] = i\n",
        "\n",
        "    def __len__(self):\n",
        "        return len(self.images)\n",
        "\n",
        "    def __getitem__(self, idx):\n",
        "        image = self.images[idx]\n",
        "        target = self.targets[idx]\n",
        "        image = Image.fromarray(image.astype('uint8'))\n",
        "        if self.mode == 'train':\n",
        "            idx = self.pos_index_map[idx] if idx in self.pos_indices else -1\n",
        "            image = self.transform_train(image)\n",
        "        else:\n",
        "            image = self.transform_test(image)\n",
        "        return image, target, int(idx)"
      ]
    },
    {
      "cell_type": "markdown",
      "metadata": {
        "id": "UfDLXy7xuMYz"
      },
      "source": [
        "## **Hyper-parameters**"
      ]
    },
    {
      "cell_type": "code",
      "execution_count": 5,
      "metadata": {
        "id": "4zYizokauKCk"
      },
      "outputs": [],
      "source": [
        "# general params\n",
        "lr = 1e-3\n",
        "weight_decay = 5e-4\n",
        "total_epoch = 60\n",
        "decay_epochs = [20, 40]\n",
        "batch_size = 64\n",
        "\n",
        "# By default, we use one-way partial AUC loss (SOPA)\n",
        "alpha = 0.  # a: min_tpr=0. This is fixed (for reference only)\n",
        "beta = 0.1  # b: max_fpr=0.1\n",
        "\n",
        "# By default, pAUCLoss calls SOPA in the backend\n",
        "margin = 1.0\n",
        "eta = 1e1 # learning rate for control negative samples weights\n",
        "\n",
        "# sampling parameters\n",
        "sampling_rate = 0.5"
      ]
    },
    {
      "cell_type": "markdown",
      "metadata": {
        "id": "6100c682"
      },
      "source": [
        "## **Loading datasets**\n",
        "\n",
        "In this step, , we will use the [CIFAR10](https://www.cs.toronto.edu/~kriz/cifar.html) as benchmark dataset. Before importing data to `dataloader`, we construct imbalanced version for CIFAR10 by `ImbalancedDataGenerator`. Specifically, it first randomly splits the training data by class ID (e.g., 10 classes) into two even portions as the positive and negative classes, and then it randomly removes some samples from the positive class to make\n",
        "it imbalanced. We keep the testing set untouched. We refer `imratio` to the ratio of number of positive examples to number of all examples. "
      ]
    },
    {
      "cell_type": "code",
      "execution_count": 6,
      "metadata": {
        "colab": {
          "base_uri": "https://localhost:8080/",
          "height": 138,
          "referenced_widgets": [
            "b2b910f33a5746109a1c48c8025b8569",
            "c779a6c848b1428f8571a89a0686bce6",
            "ce3ad644754f4bfe92895debcc98dba3",
            "bdb5c91db29e4354bcd49d4575080d29",
            "d9dcc751aa7a45469480dfe709600d27",
            "e9f62ab5fe694e249eeac225aa4adef1",
            "34c7da8d7cf548bfbb9335f8288120ef",
            "63524b19957647a7b71f1c1764429506",
            "227d85f2164c4233bf374912a4b284fe",
            "14c55c04a3d8406eb5c88b4de090b398",
            "990ff09e9c3c4096889c601146032dcb"
          ]
        },
        "id": "0wMVjA4UGpm_",
        "outputId": "bf0aed49-0e31-42a1-dc55-671b6dd86168"
      },
      "outputs": [
        {
          "output_type": "stream",
          "name": "stdout",
          "text": [
            "Downloading https://www.cs.toronto.edu/~kriz/cifar-10-python.tar.gz to ./data/cifar-10-python.tar.gz\n"
          ]
        },
        {
          "output_type": "display_data",
          "data": {
            "text/plain": [
              "  0%|          | 0/170498071 [00:00<?, ?it/s]"
            ],
            "application/vnd.jupyter.widget-view+json": {
              "version_major": 2,
              "version_minor": 0,
              "model_id": "b2b910f33a5746109a1c48c8025b8569"
            }
          },
          "metadata": {}
        },
        {
          "output_type": "stream",
          "name": "stdout",
          "text": [
            "Extracting ./data/cifar-10-python.tar.gz to ./data\n",
            "Files already downloaded and verified\n",
            "#SAMPLES: [31250], POS:NEG: [6250 : 25000], POS RATIO: 0.2000\n",
            "#SAMPLES: [10000], POS:NEG: [5000 : 5000], POS RATIO: 0.5000\n"
          ]
        }
      ],
      "source": [
        "train_data, train_targets = CIFAR10(root='./data', train=True)\n",
        "test_data, test_targets  = CIFAR10(root='./data', train=False)\n",
        "\n",
        "imratio = 0.2\n",
        "generator = ImbalancedDataGenerator(shuffle=True, verbose=True, random_seed=0)\n",
        "(train_images, train_labels) = generator.transform(train_data, train_targets, imratio=imratio)\n",
        "(test_images, test_labels) = generator.transform(test_data, test_targets, imratio=0.5) \n",
        "\n",
        "trainDataset = ImageDataset(train_images, train_labels)\n",
        "testDataset = ImageDataset(test_images, test_labels, mode='test')"
      ]
    },
    {
      "cell_type": "markdown",
      "metadata": {
        "id": "9P4S0T5ivlMs"
      },
      "source": [
        "Now, we can import data and load the dataset!"
      ]
    },
    {
      "cell_type": "code",
      "execution_count": 7,
      "metadata": {
        "id": "XNAGxEe_vgx5"
      },
      "outputs": [],
      "source": [
        "trainSet = ImageDataset(train_images, train_labels)\n",
        "testSet = ImageDataset(test_images, test_labels, mode='test')\n",
        "\n",
        "sampler = DualSampler(trainSet, batch_size, sampling_rate=sampling_rate)\n",
        "trainloader = torch.utils.data.DataLoader(trainSet, batch_size=batch_size,  sampler=sampler,  shuffle=False,  num_workers=1)\n",
        "testloader = torch.utils.data.DataLoader(testSet , batch_size=batch_size, shuffle=False, num_workers=1)"
      ]
    },
    {
      "cell_type": "markdown",
      "metadata": {
        "id": "ou0d9hhvWJqk"
      },
      "source": [
        "## **Model and Loss setup**\n",
        "For `pAUCLoss`, you can set `backend` to `SOPAs`, `SOPA`, `SOTAs`. Here is the brief summary for each loss below. For more details regarding the parameters, please refer to the original tutorials. \n",
        "\n",
        "\n",
        "- **SOPA** [[Tutorial](https://github.com/Optimization-AI/LibAUC/blob/main/examples/11_Optimizing_pAUC_Loss_with_SOPA_on_Imbalanced_data.ipynb)]\n",
        "```\n",
        "Loss_fn = pAUC_CVaR_Loss(pos_len=sampler.pos_len, beta=beta)\n",
        "optimizer = SOPA(model, loss_fn=loss_fn, mode='adam', lr=lr, eta=eta, weight_decay=weight_decay)\n",
        "```\n",
        "\n",
        "- **SOPAs** [[Tutorial](https://github.com/Optimization-AI/LibAUC/blob/main/examples/11_Optimizing_pAUC_Loss_with_SOPAs_on_Imbalanced_data.ipynb)]\n",
        "```\n",
        "loss_fn = pAUC_DRO_Loss(pos_len=sampler.pos_len, margin=margin, gamma=gamma, Lambda=Lambda)\n",
        "optimizer = SOPAs(model.parameters(), loss_fn=loss_fn, mode='adam', lr=lr, weight_decay=weight_decay)     \n",
        "```\n",
        "\n",
        "- **SOTAs** [[Tutorial](https://github.com/Optimization-AI/LibAUC/blob/main/examples/11_Optimizing_pAUC_Loss_with_SOTAs_on_Imbalanced_data.ipynb)]\n",
        "```\n",
        "Loss_fn = tpAUC_KL_Loss(pos_len=sampler.pos_len, Lambda=Lambda, tau=tau)\n",
        "optimizer = SOTAs(model, loss_fn=loss_fn, mode='adam', lr=lr, gammas=(gamma0, gamma1), weight_decay=weight_decay) \n",
        "```"
      ]
    },
    {
      "cell_type": "code",
      "execution_count": 8,
      "metadata": {
        "colab": {
          "base_uri": "https://localhost:8080/"
        },
        "id": "08370a67",
        "outputId": "9e358678-13f8-4879-8513-b7e016d938a1"
      },
      "outputs": [
        {
          "output_type": "stream",
          "name": "stdout",
          "text": [
            "Backend loss: SOPA\n"
          ]
        }
      ],
      "source": [
        "seed = 123\n",
        "set_all_seeds(seed)\n",
        "model = resnet18(pretrained=False, num_classes=1, last_activation=None) \n",
        "model = model.cuda()\n",
        "\n",
        "loss_fn = pAUCLoss(pos_len=sampler.pos_len, backend='SOPA', beta=beta, margin=margin)\n",
        "optimizer = SOPA(model.parameters(), loss_fn=loss_fn.loss_fn, mode='adam', lr=lr, eta=eta, weight_decay=weight_decay)"
      ]
    },
    {
      "cell_type": "markdown",
      "metadata": {
        "id": "57c6d316"
      },
      "source": [
        "## **Training**\n",
        "\n",
        "Now we start training the model. We evaluate partial AUC performance with True Positive Rate (TPR) greater equal to 0 (`alpha=0`) and False Positive Rate (FPR) less than or equal to 0.3 (`beta=0.3`). This can be done by `libauc.metrics.pauc_roc_score(y_true, y_pred, max_fpr=0.3, min_tpr=0)`."
      ]
    },
    {
      "cell_type": "code",
      "source": [
        "print ('Start Training')\n",
        "print ('-'*30)\n",
        "test_best = 0\n",
        "train_list, test_list = [], []\n",
        "for epoch in range(total_epoch):\n",
        "    if epoch in decay_epochs:\n",
        "        optimizer.update_lr(decay_factor=10, coef_decay_factor=10)\n",
        "            \n",
        "    train_pred, train_true = [], []\n",
        "    model.train() \n",
        "    for idx, (data, targets, index) in enumerate(trainloader):\n",
        "        data, targets  = data.cuda(), targets.cuda()\n",
        "        y_pred = model(data)\n",
        "        y_prob = torch.sigmoid(y_pred)\n",
        "        loss = loss_fn(y_prob, targets, index_p=index) # Notes: make index>0 for positive samples, and index<0 for negative samples\n",
        "        optimizer.zero_grad()\n",
        "        loss.backward()\n",
        "        optimizer.step()\n",
        "        train_pred.append(y_prob.cpu().detach().numpy())\n",
        "        train_true.append(targets.cpu().detach().numpy())\n",
        "\n",
        "    train_true = np.concatenate(train_true)\n",
        "    train_pred = np.concatenate(train_pred)\n",
        "    train_pauc = pauc_roc_score(train_true, train_pred, max_fpr=0.3)\n",
        "    train_list.append(train_pauc)\n",
        "    \n",
        "   # evaluation\n",
        "    model.eval()\n",
        "    test_pred, test_true = [], [] \n",
        "    for j, data in enumerate(testloader):\n",
        "        test_data, test_targets, index = data\n",
        "        test_data = test_data.cuda()\n",
        "        y_pred = model(test_data)\n",
        "        y_prob = torch.sigmoid(y_pred)\n",
        "        test_pred.append(y_prob.cpu().detach().numpy())\n",
        "        test_true.append(test_targets.numpy())\n",
        "    test_true = np.concatenate(test_true)\n",
        "    test_pred = np.concatenate(test_pred)\n",
        "    val_pauc = pauc_roc_score(test_true, test_pred, max_fpr=0.3)\n",
        "    test_list.append(val_pauc)\n",
        "    \n",
        "    if test_best < val_pauc:\n",
        "       test_best = val_pauc\n",
        "    \n",
        "    model.train()\n",
        "    print(\"epoch: %s, lr: %.4f, train_pauc: %.4f, test_pauc: %.4f, test_best: %.4f\"%(epoch, optimizer.lr, train_pauc, val_pauc, test_best))\n",
        "    "
      ],
      "metadata": {
        "colab": {
          "base_uri": "https://localhost:8080/"
        },
        "id": "CDcktRk9if2W",
        "outputId": "ff6811bc-7e70-4400-af48-16ed98dd20f5"
      },
      "execution_count": 9,
      "outputs": [
        {
          "output_type": "stream",
          "name": "stdout",
          "text": [
            "Start Training\n",
            "------------------------------\n",
            "epoch: 0, lr: 0.0010, train_pauc: 0.5902, test_pauc: 0.6396, test_best: 0.6396\n",
            "epoch: 1, lr: 0.0010, train_pauc: 0.7082, test_pauc: 0.7322, test_best: 0.7322\n",
            "epoch: 2, lr: 0.0010, train_pauc: 0.7576, test_pauc: 0.7648, test_best: 0.7648\n",
            "epoch: 3, lr: 0.0010, train_pauc: 0.7989, test_pauc: 0.7118, test_best: 0.7648\n",
            "epoch: 4, lr: 0.0010, train_pauc: 0.8253, test_pauc: 0.7775, test_best: 0.7775\n",
            "epoch: 5, lr: 0.0010, train_pauc: 0.8505, test_pauc: 0.8099, test_best: 0.8099\n",
            "epoch: 6, lr: 0.0010, train_pauc: 0.8666, test_pauc: 0.7918, test_best: 0.8099\n",
            "epoch: 7, lr: 0.0010, train_pauc: 0.8837, test_pauc: 0.8227, test_best: 0.8227\n",
            "epoch: 8, lr: 0.0010, train_pauc: 0.9005, test_pauc: 0.8170, test_best: 0.8227\n",
            "epoch: 9, lr: 0.0010, train_pauc: 0.9125, test_pauc: 0.8125, test_best: 0.8227\n",
            "epoch: 10, lr: 0.0010, train_pauc: 0.9222, test_pauc: 0.8143, test_best: 0.8227\n",
            "epoch: 11, lr: 0.0010, train_pauc: 0.9331, test_pauc: 0.8522, test_best: 0.8522\n",
            "epoch: 12, lr: 0.0010, train_pauc: 0.9408, test_pauc: 0.8521, test_best: 0.8522\n",
            "epoch: 13, lr: 0.0010, train_pauc: 0.9465, test_pauc: 0.8374, test_best: 0.8522\n",
            "epoch: 14, lr: 0.0010, train_pauc: 0.9495, test_pauc: 0.8573, test_best: 0.8573\n",
            "epoch: 15, lr: 0.0010, train_pauc: 0.9557, test_pauc: 0.7517, test_best: 0.8573\n",
            "epoch: 16, lr: 0.0010, train_pauc: 0.9593, test_pauc: 0.8337, test_best: 0.8573\n",
            "epoch: 17, lr: 0.0010, train_pauc: 0.9621, test_pauc: 0.8519, test_best: 0.8573\n",
            "epoch: 18, lr: 0.0010, train_pauc: 0.9629, test_pauc: 0.8338, test_best: 0.8573\n",
            "epoch: 19, lr: 0.0010, train_pauc: 0.9685, test_pauc: 0.8338, test_best: 0.8573\n",
            "Reducing lr to 0.00010 @ T=15620!\n",
            "Reducing eta/gamma to 1.00000 @ T=15620!!\n",
            "epoch: 20, lr: 0.0001, train_pauc: 0.9854, test_pauc: 0.8685, test_best: 0.8685\n",
            "epoch: 21, lr: 0.0001, train_pauc: 0.9906, test_pauc: 0.8692, test_best: 0.8692\n",
            "epoch: 22, lr: 0.0001, train_pauc: 0.9931, test_pauc: 0.8723, test_best: 0.8723\n",
            "epoch: 23, lr: 0.0001, train_pauc: 0.9950, test_pauc: 0.8695, test_best: 0.8723\n",
            "epoch: 24, lr: 0.0001, train_pauc: 0.9956, test_pauc: 0.8689, test_best: 0.8723\n",
            "epoch: 25, lr: 0.0001, train_pauc: 0.9961, test_pauc: 0.8697, test_best: 0.8723\n",
            "epoch: 26, lr: 0.0001, train_pauc: 0.9966, test_pauc: 0.8710, test_best: 0.8723\n",
            "epoch: 27, lr: 0.0001, train_pauc: 0.9970, test_pauc: 0.8674, test_best: 0.8723\n",
            "epoch: 28, lr: 0.0001, train_pauc: 0.9971, test_pauc: 0.8691, test_best: 0.8723\n",
            "epoch: 29, lr: 0.0001, train_pauc: 0.9977, test_pauc: 0.8689, test_best: 0.8723\n",
            "epoch: 30, lr: 0.0001, train_pauc: 0.9976, test_pauc: 0.8708, test_best: 0.8723\n",
            "epoch: 31, lr: 0.0001, train_pauc: 0.9978, test_pauc: 0.8711, test_best: 0.8723\n",
            "epoch: 32, lr: 0.0001, train_pauc: 0.9979, test_pauc: 0.8699, test_best: 0.8723\n",
            "epoch: 33, lr: 0.0001, train_pauc: 0.9981, test_pauc: 0.8710, test_best: 0.8723\n",
            "epoch: 34, lr: 0.0001, train_pauc: 0.9981, test_pauc: 0.8689, test_best: 0.8723\n",
            "epoch: 35, lr: 0.0001, train_pauc: 0.9981, test_pauc: 0.8725, test_best: 0.8725\n",
            "epoch: 36, lr: 0.0001, train_pauc: 0.9984, test_pauc: 0.8711, test_best: 0.8725\n",
            "epoch: 37, lr: 0.0001, train_pauc: 0.9987, test_pauc: 0.8704, test_best: 0.8725\n",
            "epoch: 38, lr: 0.0001, train_pauc: 0.9982, test_pauc: 0.8698, test_best: 0.8725\n",
            "epoch: 39, lr: 0.0001, train_pauc: 0.9986, test_pauc: 0.8680, test_best: 0.8725\n",
            "Reducing lr to 0.00001 @ T=31240!\n",
            "Reducing eta/gamma to 0.10000 @ T=31240!!\n",
            "epoch: 40, lr: 0.0000, train_pauc: 0.9988, test_pauc: 0.8717, test_best: 0.8725\n",
            "epoch: 41, lr: 0.0000, train_pauc: 0.9989, test_pauc: 0.8720, test_best: 0.8725\n",
            "epoch: 42, lr: 0.0000, train_pauc: 0.9990, test_pauc: 0.8725, test_best: 0.8725\n",
            "epoch: 43, lr: 0.0000, train_pauc: 0.9990, test_pauc: 0.8728, test_best: 0.8728\n",
            "epoch: 44, lr: 0.0000, train_pauc: 0.9990, test_pauc: 0.8730, test_best: 0.8730\n",
            "epoch: 45, lr: 0.0000, train_pauc: 0.9990, test_pauc: 0.8724, test_best: 0.8730\n",
            "epoch: 46, lr: 0.0000, train_pauc: 0.9989, test_pauc: 0.8719, test_best: 0.8730\n",
            "epoch: 47, lr: 0.0000, train_pauc: 0.9992, test_pauc: 0.8719, test_best: 0.8730\n",
            "epoch: 48, lr: 0.0000, train_pauc: 0.9994, test_pauc: 0.8713, test_best: 0.8730\n",
            "epoch: 49, lr: 0.0000, train_pauc: 0.9992, test_pauc: 0.8712, test_best: 0.8730\n",
            "epoch: 50, lr: 0.0000, train_pauc: 0.9992, test_pauc: 0.8719, test_best: 0.8730\n",
            "epoch: 51, lr: 0.0000, train_pauc: 0.9991, test_pauc: 0.8716, test_best: 0.8730\n",
            "epoch: 52, lr: 0.0000, train_pauc: 0.9992, test_pauc: 0.8714, test_best: 0.8730\n",
            "epoch: 53, lr: 0.0000, train_pauc: 0.9992, test_pauc: 0.8704, test_best: 0.8730\n",
            "epoch: 54, lr: 0.0000, train_pauc: 0.9992, test_pauc: 0.8705, test_best: 0.8730\n",
            "epoch: 55, lr: 0.0000, train_pauc: 0.9993, test_pauc: 0.8702, test_best: 0.8730\n",
            "epoch: 56, lr: 0.0000, train_pauc: 0.9993, test_pauc: 0.8714, test_best: 0.8730\n",
            "epoch: 57, lr: 0.0000, train_pauc: 0.9993, test_pauc: 0.8716, test_best: 0.8730\n",
            "epoch: 58, lr: 0.0000, train_pauc: 0.9992, test_pauc: 0.8701, test_best: 0.8730\n",
            "epoch: 59, lr: 0.0000, train_pauc: 0.9993, test_pauc: 0.8710, test_best: 0.8730\n"
          ]
        }
      ]
    },
    {
      "cell_type": "markdown",
      "metadata": {
        "id": "x40-4dzdsyom"
      },
      "source": [
        "# **Visualization**\n",
        "\n",
        "Now, let's see the change of one-way partial AUC scores on training and testing set. We take the `AUC-M` method as a comparison. For more details and tutorials about `AUCM Loss`, please refer to [AUC-M](https://github.com/Optimization-AI/LibAUC/blob/main/examples/02_Optimizing_AUROC_with_ResNet20_on_Imbalanced_CIFAR10.ipynb)."
      ]
    },
    {
      "cell_type": "code",
      "source": [
        "import matplotlib.pyplot as plt\n",
        "plt.rcParams[\"figure.figsize\"] = (9,5)\n",
        "x=np.arange(60)\n",
        "aucm_tr_pAUC = [0.6429585593723751, 0.705619972966429, 0.69894917006115, 0.7947875283260033, 0.7677915794870532, 0.7694341408326258, 0.8345354696048994, 0.8353778185042913, 0.8261352422411384, 0.850143596501959, 0.8749833709434203, 0.8778469862659533, 0.8833579163047021, 0.8755243973017512, 0.874157483715067, 0.8366073362501383, 0.8920074624226216, 0.8941630657880417, 0.8697558150194012, 0.8712549503124775, 0.9686330493047073, 0.9769933546518772, 0.9815388471447516, 0.9843683141845079, 0.9862415423489106, 0.9870076275453813, 0.9891961884708532, 0.9900528747015318, 0.9912304734205963, 0.9912435867529628, 0.9929736720264557, 0.9928194070381502, 0.9935700668345326, 0.9933461158425558, 0.9939052576360476, 0.9946626137958484, 0.9945831000132086, 0.9943817922164405, 0.9950893414460829, 0.9952917756106698, 0.9958267789776483, 0.9955192943758522, 0.9957648139930699, 0.9957864767962223, 0.9961289076816299, 0.99591124055382, 0.9961174449741217, 0.9958902131376424, 0.996271318496243, 0.9960302217876651, 0.9959968608322265, 0.995976135413218, 0.9958279797460171, 0.9962699055136474, 0.9961840783577622, 0.996047774666769, 0.9964594341651255, 0.9964745506616648, 0.9960480697575578, 0.996416429077646]\n",
        "aucm_te_pAUC = [0.6279169411764706, 0.696358431372549, 0.673276862745098, 0.7493461960784313, 0.7261282745098039, 0.7153201960784313, 0.7762015294117646, 0.781920274509804, 0.778698862745098, 0.773890431372549, 0.8124459607843137, 0.802709294117647, 0.8055946274509804, 0.8052427843137255, 0.8037347843137256, 0.789566862745098, 0.8226527450980392, 0.819271725490196, 0.8068901176470589, 0.8064509019607844, 0.8594197647058823, 0.8614054901960784, 0.8630056862745098, 0.8605498823529412, 0.8648399607843138, 0.8607361176470588, 0.8658290196078431, 0.8603041176470588, 0.8643641960784314, 0.8594430588235293, 0.8661986274509804, 0.8604558823529411, 0.8617808235294118, 0.8613043529411765, 0.8562662352941177, 0.859865137254902, 0.8595644705882353, 0.865197294117647, 0.858666862745098, 0.8554585490196078, 0.8611540392156862, 0.8627088627450981, 0.8615218823529411, 0.8601713725490197, 0.8619247450980392, 0.8619268627450981, 0.8633670196078431, 0.8617367058823528, 0.8618482352941177, 0.859918, 0.8597246666666667, 0.860948705882353, 0.8607091372549018, 0.8608580784313726, 0.8610979215686274, 0.8626889803921569, 0.8603958039215687, 0.8605810980392157, 0.8616598039215686, 0.8612713725490196]\n",
        "plt.figure()\n",
        "plt.plot(x, train_list, LineStyle='--', label='SOPA train', linewidth=3)\n",
        "plt.plot(x, test_list, label='SOPA test', linewidth=3)\n",
        "plt.plot(x, aucm_tr_pAUC, LineStyle='--', label='PESG train', linewidth=3)\n",
        "plt.plot(x, aucm_te_pAUC, label='PESG test', linewidth=3)\n",
        "plt.title('CIFAR-10 (20% imbalanced)',fontsize=30)\n",
        "plt.legend(fontsize=15)\n",
        "plt.ylabel('OPAUC(0.3)',fontsize=25)\n",
        "plt.xlabel('epochs',fontsize=25)"
      ],
      "metadata": {
        "colab": {
          "base_uri": "https://localhost:8080/",
          "height": 395
        },
        "id": "3T-9UEdgqABa",
        "outputId": "96b07dd9-cf47-4d84-de6c-d355f1e81870"
      },
      "execution_count": 10,
      "outputs": [
        {
          "output_type": "execute_result",
          "data": {
            "text/plain": [
              "Text(0.5, 0, 'epochs')"
            ]
          },
          "metadata": {},
          "execution_count": 10
        },
        {
          "output_type": "display_data",
          "data": {
            "text/plain": [
              "<Figure size 648x360 with 1 Axes>"
            ],
            "image/png": "[encoded data removed]"
          },
          "metadata": {
            "needs_background": "light"
          }
        }
      ]
    }
  ],
  "metadata": {
    "accelerator": "GPU",
    "colab": {
      "background_execution": "on",
      "collapsed_sections": [],
      "name": "11_Optimizing_pAUC_Loss_on_Imbalanced_data_wrapper.ipynb",
      "provenance": []
    },
    "gpuClass": "standard",
    "kernelspec": {
      "display_name": "Python 3",
      "name": "python3"
    },
    "language_info": {
      "name": "python"
    },
    "widgets": {
      "application/vnd.jupyter.widget-state+json": {
        "b2b910f33a5746109a1c48c8025b8569": {
          "model_module": "@jupyter-widgets/controls",
          "model_name": "HBoxModel",
          "model_module_version": "1.5.0",
          "state": {
            "_dom_classes": [],
            "_model_module": "@jupyter-widgets/controls",
            "_model_module_version": "1.5.0",
            "_model_name": "HBoxModel",
            "_view_count": null,
            "_view_module": "@jupyter-widgets/controls",
            "_view_module_version": "1.5.0",
            "_view_name": "HBoxView",
            "box_style": "",
            "children": [
              "IPY_MODEL_c779a6c848b1428f8571a89a0686bce6",
              "IPY_MODEL_ce3ad644754f4bfe92895debcc98dba3",
              "IPY_MODEL_bdb5c91db29e4354bcd49d4575080d29"
            ],
            "layout": "IPY_MODEL_d9dcc751aa7a45469480dfe709600d27"
          }
        },
        "c779a6c848b1428f8571a89a0686bce6": {
          "model_module": "@jupyter-widgets/controls",
          "model_name": "HTMLModel",
          "model_module_version": "1.5.0",
          "state": {
            "_dom_classes": [],
            "_model_module": "@jupyter-widgets/controls",
            "_model_module_version": "1.5.0",
            "_model_name": "HTMLModel",
            "_view_count": null,
            "_view_module": "@jupyter-widgets/controls",
            "_view_module_version": "1.5.0",
            "_view_name": "HTMLView",
            "description": "",
            "description_tooltip": null,
            "layout": "IPY_MODEL_e9f62ab5fe694e249eeac225aa4adef1",
            "placeholder": "​",
            "style": "IPY_MODEL_34c7da8d7cf548bfbb9335f8288120ef",
            "value": "100%"
          }
        },
        "ce3ad644754f4bfe92895debcc98dba3": {
          "model_module": "@jupyter-widgets/controls",
          "model_name": "FloatProgressModel",
          "model_module_version": "1.5.0",
          "state": {
            "_dom_classes": [],
            "_model_module": "@jupyter-widgets/controls",
            "_model_module_version": "1.5.0",
            "_model_name": "FloatProgressModel",
            "_view_count": null,
            "_view_module": "@jupyter-widgets/controls",
            "_view_module_version": "1.5.0",
            "_view_name": "ProgressView",
            "bar_style": "success",
            "description": "",
            "description_tooltip": null,
            "layout": "IPY_MODEL_63524b19957647a7b71f1c1764429506",
            "max": 170498071,
            "min": 0,
            "orientation": "horizontal",
            "style": "IPY_MODEL_227d85f2164c4233bf374912a4b284fe",
            "value": 170498071
          }
        },
        "bdb5c91db29e4354bcd49d4575080d29": {
          "model_module": "@jupyter-widgets/controls",
          "model_name": "HTMLModel",
          "model_module_version": "1.5.0",
          "state": {
            "_dom_classes": [],
            "_model_module": "@jupyter-widgets/controls",
            "_model_module_version": "1.5.0",
            "_model_name": "HTMLModel",
            "_view_count": null,
            "_view_module": "@jupyter-widgets/controls",
            "_view_module_version": "1.5.0",
            "_view_name": "HTMLView",
            "description": "",
            "description_tooltip": null,
            "layout": "IPY_MODEL_14c55c04a3d8406eb5c88b4de090b398",
            "placeholder": "​",
            "style": "IPY_MODEL_990ff09e9c3c4096889c601146032dcb",
            "value": " 170498071/170498071 [00:05&lt;00:00, 32725213.53it/s]"
          }
        },
        "d9dcc751aa7a45469480dfe709600d27": {
          "model_module": "@jupyter-widgets/base",
          "model_name": "LayoutModel",
          "model_module_version": "1.2.0",
          "state": {
            "_model_module": "@jupyter-widgets/base",
            "_model_module_version": "1.2.0",
            "_model_name": "LayoutModel",
            "_view_count": null,
            "_view_module": "@jupyter-widgets/base",
            "_view_module_version": "1.2.0",
            "_view_name": "LayoutView",
            "align_content": null,
            "align_items": null,
            "align_self": null,
            "border": null,
            "bottom": null,
            "display": null,
            "flex": null,
            "flex_flow": null,
            "grid_area": null,
            "grid_auto_columns": null,
            "grid_auto_flow": null,
            "grid_auto_rows": null,
            "grid_column": null,
            "grid_gap": null,
            "grid_row": null,
            "grid_template_areas": null,
            "grid_template_columns": null,
            "grid_template_rows": null,
            "height": null,
            "justify_content": null,
            "justify_items": null,
            "left": null,
            "margin": null,
            "max_height": null,
            "max_width": null,
            "min_height": null,
            "min_width": null,
            "object_fit": null,
            "object_position": null,
            "order": null,
            "overflow": null,
            "overflow_x": null,
            "overflow_y": null,
            "padding": null,
            "right": null,
            "top": null,
            "visibility": null,
            "width": null
          }
        },
        "e9f62ab5fe694e249eeac225aa4adef1": {
          "model_module": "@jupyter-widgets/base",
          "model_name": "LayoutModel",
          "model_module_version": "1.2.0",
          "state": {
            "_model_module": "@jupyter-widgets/base",
            "_model_module_version": "1.2.0",
            "_model_name": "LayoutModel",
            "_view_count": null,
            "_view_module": "@jupyter-widgets/base",
            "_view_module_version": "1.2.0",
            "_view_name": "LayoutView",
            "align_content": null,
            "align_items": null,
            "align_self": null,
            "border": null,
            "bottom": null,
            "display": null,
            "flex": null,
            "flex_flow": null,
            "grid_area": null,
            "grid_auto_columns": null,
            "grid_auto_flow": null,
            "grid_auto_rows": null,
            "grid_column": null,
            "grid_gap": null,
            "grid_row": null,
            "grid_template_areas": null,
            "grid_template_columns": null,
            "grid_template_rows": null,
            "height": null,
            "justify_content": null,
            "justify_items": null,
            "left": null,
            "margin": null,
            "max_height": null,
            "max_width": null,
            "min_height": null,
            "min_width": null,
            "object_fit": null,
            "object_position": null,
            "order": null,
            "overflow": null,
            "overflow_x": null,
            "overflow_y": null,
            "padding": null,
            "right": null,
            "top": null,
            "visibility": null,
            "width": null
          }
        },
        "34c7da8d7cf548bfbb9335f8288120ef": {
          "model_module": "@jupyter-widgets/controls",
          "model_name": "DescriptionStyleModel",
          "model_module_version": "1.5.0",
          "state": {
            "_model_module": "@jupyter-widgets/controls",
            "_model_module_version": "1.5.0",
            "_model_name": "DescriptionStyleModel",
            "_view_count": null,
            "_view_module": "@jupyter-widgets/base",
            "_view_module_version": "1.2.0",
            "_view_name": "StyleView",
            "description_width": ""
          }
        },
        "63524b19957647a7b71f1c1764429506": {
          "model_module": "@jupyter-widgets/base",
          "model_name": "LayoutModel",
          "model_module_version": "1.2.0",
          "state": {
            "_model_module": "@jupyter-widgets/base",
            "_model_module_version": "1.2.0",
            "_model_name": "LayoutModel",
            "_view_count": null,
            "_view_module": "@jupyter-widgets/base",
            "_view_module_version": "1.2.0",
            "_view_name": "LayoutView",
            "align_content": null,
            "align_items": null,
            "align_self": null,
            "border": null,
            "bottom": null,
            "display": null,
            "flex": null,
            "flex_flow": null,
            "grid_area": null,
            "grid_auto_columns": null,
            "grid_auto_flow": null,
            "grid_auto_rows": null,
            "grid_column": null,
            "grid_gap": null,
            "grid_row": null,
            "grid_template_areas": null,
            "grid_template_columns": null,
            "grid_template_rows": null,
            "height": null,
            "justify_content": null,
            "justify_items": null,
            "left": null,
            "margin": null,
            "max_height": null,
            "max_width": null,
            "min_height": null,
            "min_width": null,
            "object_fit": null,
            "object_position": null,
            "order": null,
            "overflow": null,
            "overflow_x": null,
            "overflow_y": null,
            "padding": null,
            "right": null,
            "top": null,
            "visibility": null,
            "width": null
          }
        },
        "227d85f2164c4233bf374912a4b284fe": {
          "model_module": "@jupyter-widgets/controls",
          "model_name": "ProgressStyleModel",
          "model_module_version": "1.5.0",
          "state": {
            "_model_module": "@jupyter-widgets/controls",
            "_model_module_version": "1.5.0",
            "_model_name": "ProgressStyleModel",
            "_view_count": null,
            "_view_module": "@jupyter-widgets/base",
            "_view_module_version": "1.2.0",
            "_view_name": "StyleView",
            "bar_color": null,
            "description_width": ""
          }
        },
        "14c55c04a3d8406eb5c88b4de090b398": {
          "model_module": "@jupyter-widgets/base",
          "model_name": "LayoutModel",
          "model_module_version": "1.2.0",
          "state": {
            "_model_module": "@jupyter-widgets/base",
            "_model_module_version": "1.2.0",
            "_model_name": "LayoutModel",
            "_view_count": null,
            "_view_module": "@jupyter-widgets/base",
            "_view_module_version": "1.2.0",
            "_view_name": "LayoutView",
            "align_content": null,
            "align_items": null,
            "align_self": null,
            "border": null,
            "bottom": null,
            "display": null,
            "flex": null,
            "flex_flow": null,
            "grid_area": null,
            "grid_auto_columns": null,
            "grid_auto_flow": null,
            "grid_auto_rows": null,
            "grid_column": null,
            "grid_gap": null,
            "grid_row": null,
            "grid_template_areas": null,
            "grid_template_columns": null,
            "grid_template_rows": null,
            "height": null,
            "justify_content": null,
            "justify_items": null,
            "left": null,
            "margin": null,
            "max_height": null,
            "max_width": null,
            "min_height": null,
            "min_width": null,
            "object_fit": null,
            "object_position": null,
            "order": null,
            "overflow": null,
            "overflow_x": null,
            "overflow_y": null,
            "padding": null,
            "right": null,
            "top": null,
            "visibility": null,
            "width": null
          }
        },
        "990ff09e9c3c4096889c601146032dcb": {
          "model_module": "@jupyter-widgets/controls",
          "model_name": "DescriptionStyleModel",
          "model_module_version": "1.5.0",
          "state": {
            "_model_module": "@jupyter-widgets/controls",
            "_model_module_version": "1.5.0",
            "_model_name": "DescriptionStyleModel",
            "_view_count": null,
            "_view_module": "@jupyter-widgets/base",
            "_view_module_version": "1.2.0",
            "_view_name": "StyleView",
            "description_width": ""
          }
        }
      }
    }
  },
  "nbformat": 4,
  "nbformat_minor": 0
}