{
  "cells": [
    {
      "cell_type": "markdown",
      "metadata": {
        "id": "7cVJmr-tj5er"
      },
      "source": [
        "# **Optimizing Partial AUC Loss on Imbalanaced Dataset (tpAUC-KL)**\n",
        "\n",
        "**Author**: Dixian Zhu  \n",
        "**Edited by**: Zhuoning Yuan\n",
        " "
      ],
      "id": "7cVJmr-tj5er"
    },
    {
      "cell_type": "markdown",
      "metadata": {
        "id": "iW1JY9jGj5ev"
      },
      "source": [
        "**Introduction**\n",
        "\n",
        "In this tutorial, we will learn how to quickly train a ResNet18 model by optimizing **two way partial AUC** score using our novel **`SOTA-s`** method on a binary image classification task on Cifar10. After completion of this tutorial, you should be able to use LibAUC to train your own models on your own datasets.\n",
        "\n",
        "**References**\n",
        "\n",
        "If you find this tutorial helpful in your work,  please acknowledge our library and cite the following papers:\n",
        "\n",
        "<pre>\n",
        "@inproceedings{zhu2022auc,\n",
        "  title={When AUC meets DRO: Optimizing Partial AUC for Deep Learning with Non-Convex Convergence Guarantee},\n",
        "  author={Zhu, Dixian and Li, Gang and Wang, Bokun and Wu, Xiaodong and Yang, Tianbao},\n",
        "  booktitle={International Conference on Machine Learning},\n",
        "  pages={27548--27573},\n",
        "  year={2022},\n",
        "  publisher={PMLR},\n",
        "}\n",
        "</pre>"
      ],
      "id": "iW1JY9jGj5ev"
    },
    {
      "cell_type": "markdown",
      "metadata": {
        "id": "efaf1543"
      },
      "source": [
        "## **Installing LibAUC**\n",
        "\n",
        "Let's start with install our library here. In this tutorial, we will use version `1.2.0`."
      ],
      "id": "efaf1543"
    },
    {
      "cell_type": "code",
      "execution_count": null,
      "metadata": {
        "id": "0hQeospBloJU"
      },
      "outputs": [],
      "source": [
        "!pip install libauc==1.2.0"
      ],
      "id": "0hQeospBloJU"
    },
    {
      "cell_type": "markdown",
      "metadata": {
        "id": "rN7i0wt8j5ex"
      },
      "source": [
        "## **Importing LibAUC**\n",
        "\n",
        "Import required libraries to use\n",
        "\n",
        "\n"
      ],
      "id": "rN7i0wt8j5ex"
    },
    {
      "cell_type": "code",
      "execution_count": null,
      "metadata": {
        "id": "f31mohXAj5ex"
      },
      "outputs": [],
      "source": [
        "from libauc.models import resnet18\n",
        "from libauc.datasets import CIFAR10\n",
        "from libauc.losses.auc import tpAUC_KL_Loss\n",
        "from libauc.optimizers import SOTAs\n",
        "from libauc.utils import ImbalancedDataGenerator\n",
        "from libauc.sampler import DualSampler # data resampling (for binary class)\n",
        "from libauc.metrics import pauc_roc_score\n",
        "\n",
        "import torch \n",
        "from PIL import Image\n",
        "import numpy as np\n",
        "import torchvision.transforms as transforms\n",
        "from torch.utils.data import Dataset\n",
        "\n",
        "import warnings\n",
        "warnings.filterwarnings(\"ignore\")"
      ],
      "id": "f31mohXAj5ex"
    },
    {
      "cell_type": "markdown",
      "metadata": {
        "id": "IdlU4semj5ez"
      },
      "source": [
        "## **Reproducibility**\n",
        "\n",
        "These functions limit the number of sources of randomness behaviors, such as model intialization, data shuffling, etcs. However, completely reproducible results are not guaranteed across PyTorch releases [[Ref]](https://pytorch.org/docs/stable/notes/randomness.html#:~:text=Completely%20reproducible%20results%20are%20not,even%20when%20using%20identical%20seeds.)."
      ],
      "id": "IdlU4semj5ez"
    },
    {
      "cell_type": "code",
      "execution_count": null,
      "metadata": {
        "id": "iLZ0yKfuj5ez"
      },
      "outputs": [],
      "source": [
        "def set_all_seeds(SEED):\n",
        "    # REPRODUCIBILITY\n",
        "    torch.manual_seed(SEED)\n",
        "    np.random.seed(SEED)\n",
        "    torch.backends.cudnn.deterministic = True\n",
        "    torch.backends.cudnn.benchmark = False"
      ],
      "id": "iLZ0yKfuj5ez"
    },
    {
      "cell_type": "markdown",
      "metadata": {
        "id": "yqw1T1_Mj5e2"
      },
      "source": [
        "## **Image Dataset**\n",
        "\n",
        "\n",
        "Now that we defined the data input pipeline such as data augmentations. In this tutorials, we use `RandomCrop`, `RandomHorizontalFlip`. The `pos_index_map` helps map global index to local index for reducing memory cost in loss function since we only need to track the indices for positive samples. Please refer to original paper [here](https://arxiv.org/pdf/2203.00176.pdf) for more details.\n",
        "\n",
        "\n"
      ],
      "id": "yqw1T1_Mj5e2"
    },
    {
      "cell_type": "code",
      "execution_count": null,
      "metadata": {
        "id": "zNKkJjiqj5e2"
      },
      "outputs": [],
      "source": [
        "class ImageDataset(Dataset):\n",
        "    def __init__(self, images, targets, image_size=32, crop_size=30, mode='train'):\n",
        "       self.images = images.astype(np.uint8)\n",
        "       self.targets = targets\n",
        "       self.mode = mode\n",
        "       self.transform_train = transforms.Compose([                                                \n",
        "                              transforms.ToTensor(),\n",
        "                              transforms.RandomCrop((crop_size, crop_size), padding=None),\n",
        "                              transforms.RandomHorizontalFlip(),\n",
        "                              transforms.Resize((image_size, image_size)),\n",
        "                              ])\n",
        "       self.transform_test = transforms.Compose([\n",
        "                             transforms.ToTensor(),\n",
        "                             transforms.Resize((image_size, image_size)),\n",
        "                              ])\n",
        "       \n",
        "       # for loss function\n",
        "       self.pos_indices = np.flatnonzero(targets==1)\n",
        "       self.pos_index_map = {}\n",
        "       for i, idx in enumerate(self.pos_indices):\n",
        "           self.pos_index_map[idx] = i\n",
        "\n",
        "    def __len__(self):\n",
        "        return len(self.images)\n",
        "\n",
        "    def __getitem__(self, idx):\n",
        "        image = self.images[idx]\n",
        "        target = self.targets[idx]\n",
        "        image = Image.fromarray(image.astype('uint8'))\n",
        "        if self.mode == 'train':\n",
        "            idx = self.pos_index_map[idx] if idx in self.pos_indices else -1\n",
        "            image = self.transform_train(image)\n",
        "        else:\n",
        "            image = self.transform_test(image)\n",
        "        return image, target, idx"
      ],
      "id": "zNKkJjiqj5e2"
    },
    {
      "cell_type": "markdown",
      "metadata": {
        "id": "InHqmmYBj5e3"
      },
      "source": [
        "## **Introduction for Loss and Optimizer**\n",
        "\n",
        "In this section, we will introduce pAUC optimization algorithm and how to utilize `tpAUC_KL_Loss` function and `SOTAs` optimizer.  \n",
        "\n",
        "### **tpAUC KL**  \n",
        "Different with conventional AUROC (area under roc curve), two-way partial AUC aims to maximize the specific region under ROC curve, i.e. FPR is upper bounded by $\\beta$ and TPR is lower bounded by $\\alpha$. The objective function for **SOTA-s** method is:\n",
        "\\begin{align*}\n",
        "F(\\mathbf w; \\phi, \\phi')=\\max_{\\mathbf p\\in\\Delta}\\sum_{\\mathbf x_i\\in\\mathcal S_+} p_i \\hat L_\\phi(\\mathbf x_i, \\mathbf w)  -  \\lambda' D_{\\phi'}(\\mathbf p, \\frac{1}{n_+}).\n",
        "\\end{align*}\n",
        "where $\\hat L_\\phi(\\mathbf x_i, \\mathbf w)$ represents the one-way partial AUC estimator for $\\mathbf x_i$ vesus all negative samples. For more details, please refer to: https://arxiv.org/abs/2203.00176, section 5.\n"
      ],
      "id": "InHqmmYBj5e3"
    },
    {
      "cell_type": "markdown",
      "source": [
        "\n",
        "The SOTA-s algorithm is summarized as follows, denote $\\mathcal S_+$ and $\\mathcal S_-$ as postive and negative training data:\n",
        "\n",
        "Set $\\mathbf u_0=0, v_0=0, \\mathbf m_0=0$ and initialize $\\mathbf w$\n",
        "For {$t = 1,\\ldots, T$}\n",
        "1. Sample two mini-batches $\\mathcal B_+\\subset\\mathcal S_+$, $\\mathcal B_-\\subset\\mathcal S_-$ \n",
        "2. For each $\\mathbf x_i\\in\\mathcal B_{+}$ compute $u^i_{t} =(1-\\gamma_0)u^i_{t-1} + \\gamma_0 \\frac{1}{|B_-|}  \\sum_{\\mathbf x_j\\in \\mathcal B_-}L(\\mathbf w_t; \\mathbf x_i, \\mathbf x_j) $\n",
        "3. Let $v_{t} = (1-\\gamma_1)v_{t-1} + \\gamma_1\\frac{1}{|\\mathcal B_{+}|}\\sum_{\\mathbf x_i\\in \\mathcal B_{+}} f_2(u^i_{t-1})$\n",
        "4. Let $p_{ij} = (u^i_{t-1})^{\\lambda/\\lambda' - 1}\\exp (L(\\mathbf w_t, \\mathbf x_i, \\mathbf x_j)/\\lambda)/v_{t}$\n",
        "5. Compute a gradient estimator $\\nabla_t$ by $$\\nabla_t=\\frac{1}{|\\mathcal B_{+}}\\frac{1}{|\\mathcal B_-|}\\sum_{\\mathbf x_i\\in\\mathcal B_{+}}   \\sum_{\\mathbf x_j\\in \\mathcal B_-}p_{ij}\\nabla L(\\mathbf w_t; \\mathcal x_i, \\mathcal x_j)$$\n",
        "6. Update $\\mathbf m_{t}=(1-\\beta_2)\\mathbf m_{t-1} + \\beta_2 \\nabla_t$\n",
        "7. Update $\\mathbf w_{t+1}   =\\mathbf w_t - \\eta_1  \\mathbf m_t$   (or Adam-style)\n",
        "\n"
      ],
      "metadata": {
        "id": "mQ-_W1t1YyBR"
      },
      "id": "mQ-_W1t1YyBR"
    },
    {
      "cell_type": "markdown",
      "metadata": {
        "id": "lezoOGY7j5e3"
      },
      "source": [
        "### **Hyper-parameters**\n",
        "\n",
        "**DualSampler**:\n",
        "- `sampling_rate`: the oversampling ratio for the positive minority class. 0.5 is usually good value for imbalanced data.\n",
        "\n",
        "**Loss**:\n",
        "- `pos_len`: the size of positive samples in training set.\n",
        "- `Lambda`: KL-DRO regularization for inner negative samples part (that is, $\\lambda$ in the algorithm). It is critical to be tuned approprately based on the task.\n",
        "- `tau`: KL-DRO regularization for outer positive samples part (that is, $\\lambda'$ in the algorithm). It is critical to be tuned approprately based on the task.\n",
        "\n",
        "**Optimizer**:\n",
        "- `weight_decay`: weight decay for the model parameters. Might be tuned in practice.\n",
        "- `lr`: the learning rate used for SOPA algorithm; it is $\\eta_1$ in the SOPA algorithm. Suggest to be tuned in practice.\n",
        "- `gamma0`: the step size for update $u^i_{t}$ that controls negative samples weights. Suggest to be tuned in practice.\n",
        "- `gamma1`: the step size for update $v_{t}$ that controls positive samples weights. Suggest to be tuned in practice.\n",
        "- `mode`: select Adam-style or SGD-style to update model's parameters. Choose from `sgd`, `adam`\n",
        "\n",
        "### **Some Tips**:\n",
        "- Sensitive parameters to tune: **`Lambda`, `tau`, `gamma0`, `gamma1`, `lr`**.\n",
        "- Non-sensitive parameters might be fixed: `sampling_rate`=0.5.\n",
        "- Might be tuned based on different tasks: `weight_decay`, `total_epochs`, `decay_epochs`, `decaY_factor`.\n",
        "\n",
        "\n"
      ],
      "id": "lezoOGY7j5e3"
    },
    {
      "cell_type": "code",
      "execution_count": null,
      "metadata": {
        "id": "4-zR8p7Hj5e4"
      },
      "outputs": [],
      "source": [
        "# paramaters\n",
        "SEED = 123\n",
        "batch_size = 64\n",
        "total_epochs = 60\n",
        "weight_decay = 1e-4\n",
        "lr = 1e-3 \n",
        "decay_epochs = [20, 40]\n",
        "decay_factor = 10\n",
        "\n",
        "gamma0 = 0.5 # learning rate for control negative samples weights\n",
        "gamma1 = 0.5 # learning rate for control positive samples weights\n",
        "\n",
        "tau = 1.0 # KL-DRO regularization for outer positive samples part  # \n",
        "Lambda = 0.5 # KL-DRO regularization for inner negative samples part # \n",
        "\n",
        "sampling_rate = 0.5 \n",
        "num_pos = round(sampling_rate*batch_size) \n",
        "num_neg = batch_size - num_pos"
      ],
      "id": "4-zR8p7Hj5e4"
    },
    {
      "cell_type": "markdown",
      "metadata": {
        "id": "KGbILhQOj5e4"
      },
      "source": [
        "## **Load Data, Preprocessing, and data loader**\n",
        "\n",
        "In this step, we will use the [CIFAR10](http://yann.lecun.com/exdb/mnist/) as benchmark dataset. Before importing data to `dataloader`, we construct imbalanced version for CIFAR10 by `ImbalanceDataGenerator`. Specifically, it first randomly splits the training data by class ID (e.g., 10 classes) into two even portions as the positive and negative classes, and then it randomly removes some samples from the positive class to make\n",
        "it imbalanced. We keep the testing set untouched. We refer `imratio` to the ratio of number of positive examples to number of all examples. "
      ],
      "id": "KGbILhQOj5e4"
    },
    {
      "cell_type": "code",
      "execution_count": null,
      "metadata": {
        "colab": {
          "base_uri": "https://localhost:8080/"
        },
        "id": "rN-NBBGlj5e4",
        "outputId": "a12f160b-a7c4-40d0-c426-4377aebf4bd5"
      },
      "outputs": [
        {
          "output_type": "stream",
          "name": "stdout",
          "text": [
            "Files already downloaded and verified\n",
            "Files already downloaded and verified\n",
            "#SAMPLES: [31250], POS:NEG: [6250 : 25000], POS RATIO: 0.2000\n",
            "#SAMPLES: [10000], POS:NEG: [5000 : 5000], POS RATIO: 0.5000\n"
          ]
        }
      ],
      "source": [
        "train_data, train_targets = CIFAR10(root='./data', train=True)\n",
        "test_data, test_targets  = CIFAR10(root='./data', train=False)\n",
        "\n",
        "imratio = 0.2\n",
        "g = ImbalancedDataGenerator(shuffle=True, verbose=True, random_seed=0)\n",
        "(train_images, train_labels) = g.transform(train_data, train_targets, imratio=imratio)\n",
        "(test_images, test_labels) = g.transform(test_data, test_targets, imratio=0.5) \n",
        "\n",
        "traindSet = ImageDataset(train_images, train_labels)\n",
        "testSet = ImageDataset(test_images, test_labels, mode = 'test')\n",
        "sampler = DualSampler(dataset=traindSet, batch_size=batch_size, shuffle=True, sampling_rate=sampling_rate)\n",
        "trainloader =  torch.utils.data.DataLoader(traindSet, sampler=sampler, batch_size=batch_size, shuffle=False, num_workers=1)   \n",
        "testloader =  torch.utils.data.DataLoader(testSet, batch_size=32, num_workers=2, shuffle=False)"
      ],
      "id": "rN-NBBGlj5e4"
    },
    {
      "cell_type": "markdown",
      "metadata": {
        "id": "BA3JgDMxj5e5"
      },
      "source": [
        "## **Model and Loss setup**"
      ],
      "id": "BA3JgDMxj5e5"
    },
    {
      "cell_type": "code",
      "execution_count": null,
      "metadata": {
        "id": "sA1XQQYcj5e5"
      },
      "outputs": [],
      "source": [
        "set_all_seeds(SEED)\n",
        "model = resnet18(pretrained=False, num_classes=1, last_activation=None)\n",
        "model = model.cuda() \n",
        "\n",
        "loss_fn = tpAUC_KL_Loss(pos_len=sampler.pos_len, Lambda=Lambda, tau=tau)\n",
        "optimizer = SOTAs(model, loss_fn=loss_fn, mode='adam', lr=lr, gammas=(gamma0, gamma1), weight_decay=weight_decay) "
      ],
      "id": "sA1XQQYcj5e5"
    },
    {
      "cell_type": "markdown",
      "metadata": {
        "id": "ut1bou8-j5e6"
      },
      "source": [
        "## **Training**"
      ],
      "id": "ut1bou8-j5e6"
    },
    {
      "cell_type": "code",
      "source": [
        "print ('Start Training')\n",
        "print ('-'*30)\n",
        "\n",
        "tr_tpAUC=[]\n",
        "te_tpAUC=[]\n",
        "\n",
        "for epoch in range(total_epochs):\n",
        "    if epoch in decay_epochs:\n",
        "        optimizer.update_lr(decay_factor=decay_factor, coef_decay_factor=decay_factor)\n",
        " \n",
        "    train_loss = 0\n",
        "    model.train()\n",
        "    for idx, data in enumerate(trainloader):\n",
        "        train_data, train_labels, index = data\n",
        "        train_data, train_labels = train_data.cuda(), train_labels.cuda()\n",
        "        y_pred = model(train_data)\n",
        "        y_prob = torch.sigmoid(y_pred)\n",
        "        loss = loss_fn(y_prob, train_labels, index[:num_pos])\n",
        "        train_loss = train_loss  + loss.cpu().detach().numpy()\n",
        "        optimizer.zero_grad()\n",
        "        loss.backward()\n",
        "        optimizer.step()\n",
        "    train_loss = train_loss/(idx+1)\n",
        "   \n",
        "    # evaluation\n",
        "    model.eval()\n",
        "    with torch.no_grad():    \n",
        "        train_pred = []\n",
        "        train_true = []\n",
        "        for jdx, data in enumerate(trainloader):\n",
        "            train_data, train_labels,_ = data\n",
        "            train_data = train_data.cuda()\n",
        "            y_pred = model(train_data)    \n",
        "            y_prob = torch.sigmoid(y_pred)\n",
        "            train_pred.append(y_prob.cpu().detach().numpy())\n",
        "            train_true.append(train_labels.numpy())\n",
        "        train_true = np.concatenate(train_true)\n",
        "        train_pred = np.concatenate(train_pred)\n",
        "        single_train_auc =  pauc_roc_score(train_true, train_pred, max_fpr = 0.3, min_tpr=0.7) \n",
        "\n",
        "        test_pred = []\n",
        "        test_true = [] \n",
        "        for jdx, data in enumerate(testloader):\n",
        "            test_data, test_labels, _ = data\n",
        "            test_data = test_data.cuda()\n",
        "            y_pred = model(test_data)    \n",
        "            y_prob = torch.sigmoid(y_pred)\n",
        "            test_pred.append(y_prob.cpu().detach().numpy())\n",
        "            test_true.append(test_labels.numpy())\n",
        "        test_true = np.concatenate(test_true)\n",
        "        test_pred = np.concatenate(test_pred)\n",
        "        single_test_auc =  pauc_roc_score(test_true, test_pred, max_fpr = 0.3, min_tpr=0.7) \n",
        "        print('Epoch=%s, Loss=%0.4f, Train_tpAUC(0.3,0.7)=%.4f, Test_tpAUC(0.3,0.7)=%.4f, lr=%.4f'%(epoch, train_loss, single_train_auc, single_test_auc, optimizer.lr))\n",
        "        \n",
        "        tr_tpAUC.append(single_train_auc)\n",
        "        te_tpAUC.append(single_test_auc)"
      ],
      "metadata": {
        "colab": {
          "base_uri": "https://localhost:8080/"
        },
        "id": "ItAhUsQ2EP92",
        "outputId": "e256480e-784c-4d62-f186-5ec5bf339cab"
      },
      "id": "ItAhUsQ2EP92",
      "execution_count": null,
      "outputs": [
        {
          "output_type": "stream",
          "name": "stdout",
          "text": [
            "Start Training\n",
            "------------------------------\n",
            "Epoch=0, Loss=1.3549, Train_tpAUC(0.3,0.7)=0.0000, Test_tpAUC(0.3,0.7)=0.0000, lr=0.0010\n",
            "Epoch=1, Loss=0.9371, Train_tpAUC(0.3,0.7)=0.0000, Test_tpAUC(0.3,0.7)=0.0000, lr=0.0010\n",
            "Epoch=2, Loss=0.8951, Train_tpAUC(0.3,0.7)=0.0497, Test_tpAUC(0.3,0.7)=0.0296, lr=0.0010\n",
            "Epoch=3, Loss=0.8799, Train_tpAUC(0.3,0.7)=0.1113, Test_tpAUC(0.3,0.7)=0.0817, lr=0.0010\n",
            "Epoch=4, Loss=0.8366, Train_tpAUC(0.3,0.7)=0.0918, Test_tpAUC(0.3,0.7)=0.0770, lr=0.0010\n",
            "Epoch=5, Loss=0.8076, Train_tpAUC(0.3,0.7)=0.1902, Test_tpAUC(0.3,0.7)=0.0737, lr=0.0010\n",
            "Epoch=6, Loss=0.7763, Train_tpAUC(0.3,0.7)=0.2092, Test_tpAUC(0.3,0.7)=0.1443, lr=0.0010\n",
            "Epoch=7, Loss=0.7459, Train_tpAUC(0.3,0.7)=0.3825, Test_tpAUC(0.3,0.7)=0.1660, lr=0.0010\n",
            "Epoch=8, Loss=0.7044, Train_tpAUC(0.3,0.7)=0.3570, Test_tpAUC(0.3,0.7)=0.1485, lr=0.0010\n",
            "Epoch=9, Loss=0.6671, Train_tpAUC(0.3,0.7)=0.4975, Test_tpAUC(0.3,0.7)=0.1409, lr=0.0010\n",
            "Epoch=10, Loss=0.6296, Train_tpAUC(0.3,0.7)=0.6194, Test_tpAUC(0.3,0.7)=0.2686, lr=0.0010\n",
            "Epoch=11, Loss=0.5967, Train_tpAUC(0.3,0.7)=0.6261, Test_tpAUC(0.3,0.7)=0.2415, lr=0.0010\n",
            "Epoch=12, Loss=0.5636, Train_tpAUC(0.3,0.7)=0.6599, Test_tpAUC(0.3,0.7)=0.2243, lr=0.0010\n",
            "Epoch=13, Loss=0.5351, Train_tpAUC(0.3,0.7)=0.7400, Test_tpAUC(0.3,0.7)=0.3063, lr=0.0010\n",
            "Epoch=14, Loss=0.4860, Train_tpAUC(0.3,0.7)=0.7597, Test_tpAUC(0.3,0.7)=0.2575, lr=0.0010\n",
            "Epoch=15, Loss=0.4572, Train_tpAUC(0.3,0.7)=0.8607, Test_tpAUC(0.3,0.7)=0.3274, lr=0.0010\n",
            "Epoch=16, Loss=0.4298, Train_tpAUC(0.3,0.7)=0.8377, Test_tpAUC(0.3,0.7)=0.2816, lr=0.0010\n",
            "Epoch=17, Loss=0.3994, Train_tpAUC(0.3,0.7)=0.7722, Test_tpAUC(0.3,0.7)=0.2461, lr=0.0010\n",
            "Epoch=18, Loss=0.3889, Train_tpAUC(0.3,0.7)=0.8921, Test_tpAUC(0.3,0.7)=0.2916, lr=0.0010\n",
            "Epoch=19, Loss=0.3521, Train_tpAUC(0.3,0.7)=0.8327, Test_tpAUC(0.3,0.7)=0.2665, lr=0.0010\n",
            "Reducing learning rate to 0.00010 @ T=15620!\n",
            "Reducing loss coefficient (moving average) to (0.0500, 0.0500) @ T=15620!\n",
            "Epoch=20, Loss=0.1855, Train_tpAUC(0.3,0.7)=0.9777, Test_tpAUC(0.3,0.7)=0.3581, lr=0.0001\n",
            "Epoch=21, Loss=0.1085, Train_tpAUC(0.3,0.7)=0.9843, Test_tpAUC(0.3,0.7)=0.3666, lr=0.0001\n",
            "Epoch=22, Loss=0.0911, Train_tpAUC(0.3,0.7)=0.9902, Test_tpAUC(0.3,0.7)=0.3758, lr=0.0001\n",
            "Epoch=23, Loss=0.0709, Train_tpAUC(0.3,0.7)=0.9917, Test_tpAUC(0.3,0.7)=0.3899, lr=0.0001\n",
            "Epoch=24, Loss=0.0746, Train_tpAUC(0.3,0.7)=0.9937, Test_tpAUC(0.3,0.7)=0.3795, lr=0.0001\n",
            "Epoch=25, Loss=0.0621, Train_tpAUC(0.3,0.7)=0.9933, Test_tpAUC(0.3,0.7)=0.3647, lr=0.0001\n",
            "Epoch=26, Loss=0.0612, Train_tpAUC(0.3,0.7)=0.9943, Test_tpAUC(0.3,0.7)=0.3769, lr=0.0001\n",
            "Epoch=27, Loss=0.0513, Train_tpAUC(0.3,0.7)=0.9965, Test_tpAUC(0.3,0.7)=0.3688, lr=0.0001\n",
            "Epoch=28, Loss=0.0405, Train_tpAUC(0.3,0.7)=0.9972, Test_tpAUC(0.3,0.7)=0.3818, lr=0.0001\n",
            "Epoch=29, Loss=0.0393, Train_tpAUC(0.3,0.7)=0.9967, Test_tpAUC(0.3,0.7)=0.3748, lr=0.0001\n",
            "Epoch=30, Loss=0.0427, Train_tpAUC(0.3,0.7)=0.9975, Test_tpAUC(0.3,0.7)=0.3571, lr=0.0001\n",
            "Epoch=31, Loss=0.0430, Train_tpAUC(0.3,0.7)=0.9981, Test_tpAUC(0.3,0.7)=0.3763, lr=0.0001\n",
            "Epoch=32, Loss=0.0335, Train_tpAUC(0.3,0.7)=0.9980, Test_tpAUC(0.3,0.7)=0.3775, lr=0.0001\n",
            "Epoch=33, Loss=0.0289, Train_tpAUC(0.3,0.7)=0.9979, Test_tpAUC(0.3,0.7)=0.3763, lr=0.0001\n",
            "Epoch=34, Loss=0.0260, Train_tpAUC(0.3,0.7)=0.9985, Test_tpAUC(0.3,0.7)=0.3750, lr=0.0001\n",
            "Epoch=35, Loss=0.0261, Train_tpAUC(0.3,0.7)=0.9982, Test_tpAUC(0.3,0.7)=0.3833, lr=0.0001\n",
            "Epoch=36, Loss=0.0346, Train_tpAUC(0.3,0.7)=0.9977, Test_tpAUC(0.3,0.7)=0.3756, lr=0.0001\n",
            "Epoch=37, Loss=0.0252, Train_tpAUC(0.3,0.7)=0.9990, Test_tpAUC(0.3,0.7)=0.3772, lr=0.0001\n",
            "Epoch=38, Loss=0.0296, Train_tpAUC(0.3,0.7)=0.9986, Test_tpAUC(0.3,0.7)=0.3708, lr=0.0001\n",
            "Epoch=39, Loss=0.0253, Train_tpAUC(0.3,0.7)=0.9967, Test_tpAUC(0.3,0.7)=0.3651, lr=0.0001\n",
            "Reducing learning rate to 0.00001 @ T=31240!\n",
            "Reducing loss coefficient (moving average) to (0.0050, 0.0050) @ T=31240!\n",
            "Epoch=40, Loss=0.0240, Train_tpAUC(0.3,0.7)=0.9988, Test_tpAUC(0.3,0.7)=0.3693, lr=0.0000\n",
            "Epoch=41, Loss=0.0169, Train_tpAUC(0.3,0.7)=0.9993, Test_tpAUC(0.3,0.7)=0.3722, lr=0.0000\n",
            "Epoch=42, Loss=0.0164, Train_tpAUC(0.3,0.7)=0.9993, Test_tpAUC(0.3,0.7)=0.3719, lr=0.0000\n",
            "Epoch=43, Loss=0.0142, Train_tpAUC(0.3,0.7)=0.9996, Test_tpAUC(0.3,0.7)=0.3663, lr=0.0000\n",
            "Epoch=44, Loss=0.0122, Train_tpAUC(0.3,0.7)=0.9993, Test_tpAUC(0.3,0.7)=0.3748, lr=0.0000\n",
            "Epoch=45, Loss=0.0115, Train_tpAUC(0.3,0.7)=0.9996, Test_tpAUC(0.3,0.7)=0.3779, lr=0.0000\n",
            "Epoch=46, Loss=0.0099, Train_tpAUC(0.3,0.7)=0.9992, Test_tpAUC(0.3,0.7)=0.3736, lr=0.0000\n",
            "Epoch=47, Loss=0.0148, Train_tpAUC(0.3,0.7)=0.9995, Test_tpAUC(0.3,0.7)=0.3731, lr=0.0000\n",
            "Epoch=48, Loss=0.0104, Train_tpAUC(0.3,0.7)=0.9996, Test_tpAUC(0.3,0.7)=0.3719, lr=0.0000\n",
            "Epoch=49, Loss=0.0068, Train_tpAUC(0.3,0.7)=0.9995, Test_tpAUC(0.3,0.7)=0.3733, lr=0.0000\n",
            "Epoch=50, Loss=0.0105, Train_tpAUC(0.3,0.7)=0.9998, Test_tpAUC(0.3,0.7)=0.3695, lr=0.0000\n",
            "Epoch=51, Loss=0.0097, Train_tpAUC(0.3,0.7)=0.9996, Test_tpAUC(0.3,0.7)=0.3823, lr=0.0000\n",
            "Epoch=52, Loss=0.0088, Train_tpAUC(0.3,0.7)=0.9995, Test_tpAUC(0.3,0.7)=0.3741, lr=0.0000\n",
            "Epoch=53, Loss=0.0074, Train_tpAUC(0.3,0.7)=0.9995, Test_tpAUC(0.3,0.7)=0.3769, lr=0.0000\n",
            "Epoch=54, Loss=0.0063, Train_tpAUC(0.3,0.7)=0.9997, Test_tpAUC(0.3,0.7)=0.3743, lr=0.0000\n",
            "Epoch=55, Loss=0.0087, Train_tpAUC(0.3,0.7)=0.9999, Test_tpAUC(0.3,0.7)=0.3738, lr=0.0000\n",
            "Epoch=56, Loss=0.0063, Train_tpAUC(0.3,0.7)=0.9997, Test_tpAUC(0.3,0.7)=0.3695, lr=0.0000\n",
            "Epoch=57, Loss=0.0064, Train_tpAUC(0.3,0.7)=0.9996, Test_tpAUC(0.3,0.7)=0.3741, lr=0.0000\n",
            "Epoch=58, Loss=0.0058, Train_tpAUC(0.3,0.7)=0.9997, Test_tpAUC(0.3,0.7)=0.3744, lr=0.0000\n",
            "Epoch=59, Loss=0.0075, Train_tpAUC(0.3,0.7)=0.9997, Test_tpAUC(0.3,0.7)=0.3710, lr=0.0000\n"
          ]
        }
      ]
    },
    {
      "cell_type": "markdown",
      "metadata": {
        "id": "EO68TNilj5e6"
      },
      "source": [
        "# **Visualization**\n",
        "\n",
        "Now, let's see the change of two-way partial AUC scores on training and testing set. We take the `AUC-M` method as a comparison. For more details and tutorials about `AUCM Loss`, please refer to [AUC-M](https://github.com/Optimization-AI/LibAUC/blob/main/examples/02_Optimizing_AUROC_with_ResNet20_on_Imbalanced_CIFAR10.ipynb).\n",
        "\n"
      ],
      "id": "EO68TNilj5e6"
    },
    {
      "cell_type": "code",
      "execution_count": null,
      "metadata": {
        "colab": {
          "base_uri": "https://localhost:8080/",
          "height": 391
        },
        "id": "VraoY8sZj5e7",
        "scrolled": true,
        "outputId": "f7e710d6-4a7f-45fc-ffe6-bd8c43abb641"
      },
      "outputs": [
        {
          "output_type": "execute_result",
          "data": {
            "text/plain": [
              "Text(0.5, 0, 'epochs')"
            ]
          },
          "metadata": {},
          "execution_count": 8
        },
        {
          "output_type": "display_data",
          "data": {
            "text/plain": [
              "<Figure size 648x360 with 1 Axes>"
            ],
            "image/png": "[encoded data removed]"
          },
          "metadata": {
            "needs_background": "light"
          }
        }
      ],
      "source": [
        "import matplotlib.pyplot as plt\n",
        "plt.rcParams[\"figure.figsize\"] = (9,5)\n",
        "x=np.arange(60)\n",
        "aucm_tr_tpAUC = [0.0, 0.0036274632780175535, 0.005047971892709222, 0.16224877002854712, 0.08772204107278256, 0.09231572626711304, 0.2732654643710093, 0.26647582593555136, 0.24948327111467297, 0.3138958243403896, 0.41470878408333095, 0.43854233806173326, 0.44279415206018125, 0.41232459713094294, 0.42158369465786594, 0.28455608967939594, 0.47755676075725645, 0.4896781046120168, 0.3863189337375359, 0.41758365936793596, 0.842293465507402, 0.8849664436167597, 0.908744785930645, 0.925100663457797, 0.9326945885667315, 0.9383691079068582, 0.9493701298918441, 0.953469756067609, 0.959401363614275, 0.9611639035102166, 0.9687268876750703, 0.96784177567828, 0.9702642497143897, 0.9702752956047458, 0.9733664551144465, 0.9760006331554156, 0.9760579703978677, 0.9755799377033129, 0.9770459817114208, 0.9787550086264667, 0.9813317160205113, 0.9802740408912104, 0.9814502948096553, 0.9811205278462805, 0.9821393644867049, 0.9823378881296415, 0.9827693626631546, 0.9815768245053843, 0.9835002857701681, 0.9825182242961066, 0.9819347131316462, 0.9819089304938505, 0.9819178330190087, 0.9830069649230193, 0.982775401438961, 0.9835906895346361, 0.9843369096878757, 0.9844427527966737, 0.9829346774859711, 0.9838700118199921]\n",
        "aucm_te_tpAUC = [0.0, 0.000301777777777778, 0.0, 0.050526666666666664, 0.022042666666666665, 0.006600444444444444, 0.09903022222222221, 0.10774866666666666, 0.1029888888888889, 0.08559822222222221, 0.17839955555555553, 0.16736266666666666, 0.1591968888888889, 0.14970355555555553, 0.16401288888888887, 0.10874133333333333, 0.2060488888888889, 0.20340622222222224, 0.15917866666666666, 0.15321466666666667, 0.3240817777777778, 0.3328191111111111, 0.33990511111111105, 0.33390533333333333, 0.3470675555555556, 0.3300217777777778, 0.35229422222222223, 0.32868844444444445, 0.34444044444444444, 0.33212177777777785, 0.3557311111111111, 0.33471155555555554, 0.332584, 0.3388742222222223, 0.31508044444444444, 0.3285328888888889, 0.32913555555555557, 0.35162800000000005, 0.32234244444444443, 0.31436844444444445, 0.331578888888889, 0.3387742222222222, 0.3338368888888889, 0.3277377777777778, 0.335048, 0.3345755555555555, 0.34122044444444444, 0.3344044444444444, 0.33397066666666664, 0.32639111111111113, 0.3255946666666667, 0.3287395555555556, 0.3287168888888889, 0.33072799999999997, 0.3306648888888889, 0.33826266666666666, 0.3271982222222222, 0.3275493333333333, 0.33227422222222225, 0.33158488888888893]\n",
        "plt.figure()\n",
        "plt.plot(x, tr_tpAUC, LineStyle='--', label='SOTA-s train', linewidth=3)\n",
        "plt.plot(x, te_tpAUC, label='SOTA-s test', linewidth=3)\n",
        "plt.plot(x, aucm_tr_tpAUC, LineStyle='--', label='PESG train', linewidth=3)\n",
        "plt.plot(x, aucm_te_tpAUC, label='PESG test', linewidth=3)\n",
        "plt.title('CIFAR-10 (20% imbalanced)',fontsize=25)\n",
        "plt.legend(fontsize=15)\n",
        "plt.ylabel('TPAUC(0.7,0.3)',fontsize=25)\n",
        "plt.xlabel('epochs',fontsize=25)"
      ],
      "id": "VraoY8sZj5e7"
    }
  ],
  "metadata": {
    "accelerator": "GPU",
    "colab": {
      "background_execution": "on",
      "collapsed_sections": [],
      "name": "11_Optimizing_pAUC_Loss_with_SOTAs_on_Imbalanced_data.ipynb",
      "provenance": []
    },
    "kernelspec": {
      "display_name": "Python 3",
      "language": "python",
      "name": "python3"
    },
    "language_info": {
      "codemirror_mode": {
        "name": "ipython",
        "version": 3
      },
      "file_extension": ".py",
      "mimetype": "text/x-python",
      "name": "python",
      "nbconvert_exporter": "python",
      "pygments_lexer": "ipython3",
      "version": "3.9.0"
    }
  },
  "nbformat": 4,
  "nbformat_minor": 5
}
