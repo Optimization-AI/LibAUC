{
  "cells": [
    {
      "cell_type": "markdown",
      "source": [
        "# **Optimizing Compositional AUROC loss on imbalanced dataset**\n",
        " **Author**: Zhuoning Yuan"
      ],
      "metadata": {
        "id": "sEpAVQ2Fwhk1"
      }
    },
    {
      "cell_type": "markdown",
      "metadata": {
        "id": "zUv-WIY5h1Dh"
      },
      "source": [
        "**Introduction**\n",
        "\n",
        "In this tutorial, we will learn how to quickly train a ResNet20 model by optimizing AUC score using our novel compositional training framework [[Ref]](https://openreview.net/forum?id=gPvB4pdu_Z) on an binary image classification task on Cifar10. After completion of this tutorial, you should be able to use LibAUC to train your own models on your own datasets.  \n",
        "\n",
        "**Useful Resources**\n",
        "\n",
        "* Website: https://libauc.org\n",
        "* Github: https://github.com/Optimization-AI/LibAUC\n",
        "\n",
        "\n",
        "**References**\n",
        "\n",
        "If you find this tutorial helpful in your work,  please acknowledge our library and cite the following papers:\n",
        "<pre>\n",
        "@inproceedings{yuan2022compositional,\n",
        "    title={Compositional Training for End-to-End Deep AUC Maximization},\n",
        "    author={Zhuoning Yuan and Zhishuai Guo and Nitesh Chawla and Tianbao Yang},\n",
        "    booktitle={International Conference on Learning Representations},\n",
        "    year={2022},\n",
        "    url={https://openreview.net/forum?id=gPvB4pdu_Z}\n",
        "}\n",
        "\n",
        "@misc{libauc2022,\n",
        "\ttitle={LibAUC: A Deep Learning Library for X-risk Optimization.},\n",
        "\tauthor={Zhuoning Yuan, Zi-Hao Qiu, Gang Li, Dixian Zhu, Zhishuai Guo, Quanqi Hu, Bokun Wang, Qi Qi, Yongjian Zhong, Tianbao Yang},\n",
        "\tyear={2022}\n",
        "\t}\n",
        "</pre>\n"
      ]
    },
    {
      "cell_type": "markdown",
      "metadata": {
        "id": "DEavjKBdh8hF"
      },
      "source": [
        "# **Installing LibAUC**\n",
        "Let's start with install our library here. In this tutorial, we will use beta version `1.1.9rc3`."
      ]
    },
    {
      "cell_type": "code",
      "execution_count": null,
      "metadata": {
        "id": "6zYjONxCh5Gz"
      },
      "outputs": [],
      "source": [
        "!pip install libauc==1.1.9rc3"
      ]
    },
    {
      "cell_type": "markdown",
      "metadata": {
        "id": "6m-DLkddiPT9"
      },
      "source": [
        "# **Importing LibAUC**\n",
        "\n",
        "Import required packages to use\n",
        "\n"
      ]
    },
    {
      "cell_type": "code",
      "execution_count": 5,
      "metadata": {
        "id": "7oZv1TakiUBF"
      },
      "outputs": [],
      "source": [
        "from libauc.losses import CompositionalAUCLoss\n",
        "from libauc.optimizers import PDSCA\n",
        "from libauc.models import resnet20 as ResNet20\n",
        "from libauc.datasets import CIFAR10, CIFAR100, STL10, CAT_VS_DOG\n",
        "from libauc.utils import ImbalancedDataGenerator\n",
        "from libauc.sampler import DualSampler\n",
        "\n",
        "import torch \n",
        "from PIL import Image\n",
        "import numpy as np\n",
        "import torchvision.transforms as transforms\n",
        "from torch.utils.data import Dataset\n",
        "from sklearn.metrics import roc_auc_score"
      ]
    },
    {
      "cell_type": "markdown",
      "metadata": {
        "id": "Kd57DCDOilVL"
      },
      "source": [
        "# **Reproducibility**"
      ]
    },
    {
      "cell_type": "markdown",
      "source": [
        "The following function `set_all_seeds` limits the number of sources of randomness behaviors, such as model intialization, data shuffling, etcs. However, completely reproducible results are not guaranteed across PyTorch releases [[Ref]](https://pytorch.org/docs/stable/notes/randomness.html#:~:text=Completely%20reproducible%20results%20are%20not,even%20when%20using%20identical%20seeds.)."
      ],
      "metadata": {
        "id": "ndENFEtPKJk4"
      }
    },
    {
      "cell_type": "code",
      "execution_count": 6,
      "metadata": {
        "id": "-dUoQpz5imKD"
      },
      "outputs": [],
      "source": [
        "def set_all_seeds(SEED):\n",
        "    # REPRODUCIBILITY\n",
        "    torch.manual_seed(SEED)\n",
        "    np.random.seed(SEED)\n",
        "    torch.backends.cudnn.deterministic = True\n",
        "    torch.backends.cudnn.benchmark = False"
      ]
    },
    {
      "cell_type": "markdown",
      "metadata": {
        "id": "Y2wT1qzXiqCg"
      },
      "source": [
        "# **Image Dataset**\n",
        "\n",
        "\n",
        "Now that we defined the data input pipeline such as data augmentations. In this tutorials, we use `RandomCrop`, `RandomHorizontalFlip` as stated in the original paper. \n"
      ]
    },
    {
      "cell_type": "code",
      "execution_count": 7,
      "metadata": {
        "id": "kCEq4vNairrd"
      },
      "outputs": [],
      "source": [
        "class ImageDataset(Dataset):\n",
        "    def __init__(self, images, targets, image_size=32, crop_size=30, mode='train'):\n",
        "       self.images = images.astype(np.uint8)\n",
        "       self.targets = targets\n",
        "       self.mode = mode\n",
        "       self.transform_train = transforms.Compose([                                                \n",
        "                              transforms.ToTensor(),\n",
        "                              transforms.RandomCrop((crop_size, crop_size), padding=None),\n",
        "                              transforms.RandomHorizontalFlip(),\n",
        "                              transforms.Resize((image_size, image_size)),\n",
        "                              ])\n",
        "       self.transform_test = transforms.Compose([\n",
        "                             transforms.ToTensor(),\n",
        "                             transforms.Resize((image_size, image_size)),\n",
        "                              ])\n",
        "    def __len__(self):\n",
        "        return len(self.images)\n",
        "\n",
        "    def __getitem__(self, idx):\n",
        "        image = self.images[idx]\n",
        "        target = self.targets[idx]\n",
        "        image = Image.fromarray(image.astype('uint8'))\n",
        "        if self.mode == 'train':\n",
        "            image = self.transform_train(image)\n",
        "        else:\n",
        "            image = self.transform_test(image)\n",
        "        return image, target"
      ]
    },
    {
      "cell_type": "markdown",
      "metadata": {
        "id": "J3FgOKRPivmD"
      },
      "source": [
        "# **Hyperparameter Setting**\n",
        "\n",
        "Our target is to optimize the compositional loss: $\\min _{\\mathbf{w}} L_{\\mathrm{AUC}}\\left(\\mathbf{w}-\\alpha \\nabla L_{\\mathrm{CE}}(\\mathbf{w})\\right)$, which is implemented by `CompositionalAUCLoss()` function. In this function, it consists of both **CrossEntropy** and **AUC-Margin** Losses. \n",
        "\n",
        "Our optimization algorithm is called `PDSCA`, which is implemented by `PDSCA()` function. **PDSCA** is a momentum-style or adam-style stochastic gradient algorithms. The key updates are as follow: \n",
        "\n",
        "1.  $ \\mathbf{u}_{t+1}=(1-\\beta_{0}) \\mathbf{u}_{t}+\\beta_{0}(\\mathbf{w}_{\\mathbf{t}}-\\eta_0 \\nabla L_{CE}(\\mathbf{w}_{\\mathbf{t}}) ; a ; b)$ \n",
        "2. $ \\mathbf{z}_{t+1}=(1-\\beta_{1}) \\mathbf{z}_{t}+\\beta_{1} \\nabla_{\\mathbf{u}} L_{AUC}(\\mathbf{u}_{t+1})$ \n",
        "3. $ \\mathbf{w}_{t+1}=\\mathbf{w}_{t}-\\eta_{1} (\\mathbf{z}_{t+1}$ + $λ_0(\\mathbf{w}_t-\\mathbf{w}_0)+ λ_1\\mathbf{w}_t$) \n",
        "4. $ \\theta_{t+1}=\\theta_{t}+\\eta_{2} \\nabla_{\\theta} L_{AUC}(\\theta_{t})$\n",
        "\n",
        "For more details about the algorithm, please refer to our paper [ref](https://openreview.net/pdf?id=gPvB4pdu_Z). Our implementation requires the following parameters:\n",
        "\n",
        "**Parameters:**\n",
        "\n",
        "- **DualSampler**:\n",
        "  - `batch_size`: mini batch size.\n",
        "  - `sampling_rate`: ratio of postive samples in a mini-batch\n",
        "  - `num_pos`: sample `num_pos` positive samples in a mini-batch\n",
        "\n",
        "- **Optimizer** (PDSCA):\n",
        "  - `lr`: initial learning rate for general optimization process.\n",
        "  - `lr0`: inital learning rate refers to $\\alpha$ in step (1). Default value is set to same value as `lr`. \n",
        "  - `margin`: margin term for AUC-M loss. We integrate this term in the optimizer instead of loss.\n",
        "  - `epoch_decay`: refers to $λ_0$. Value for epoch regularizers. Default value is set to 0.002. \n",
        "  - `weight_decay`: refers to $λ_1$. Value for l2 weight regularization term. Default value is 0.0001.\n",
        "  - `beta0`: parameter for moving average in step (1). Default value is 0.9. \n",
        "  - `beta1`: parameter for moving average in step (2). Default value is 0.999. \n",
        "\n",
        "\n",
        "**Useful Tips**\n",
        "- For better performance on imbalanced dataset, you can tune `num_pos` or `sampling_rate` in `DualSampler`.\n",
        "- Use smaller `lr0` and larger `lr` can achieve good performance in some cases. e.g., `lr0=0.05`, `lr=0.1`\n",
        "- Don not add `sigmoid` activation layer before loss function. The `CompositionalAUCLoss()` includes `sigmoid` by itself.\n",
        "- To manually update `lr` you can do `optimizer.param_groups[0]['lr'] = self.param_groups[0]['lr']/decay_factor`. Similar to `lr0`, you can modify `optimizer.param_groups[0]['lr0']`.\n"
      ]
    },
    {
      "cell_type": "code",
      "execution_count": 28,
      "metadata": {
        "id": "g8ReDBxeixFw"
      },
      "outputs": [],
      "source": [
        "# all paramaters\n",
        "total_epochs = 50 \n",
        "SEED = 123\n",
        "dataset = 'C100' # choose dataset to use\n",
        "imratio = 0.1\n",
        "BATCH_SIZE = 128\n",
        "\n",
        "# tunable paramaters\n",
        "margin = 1.0\n",
        "lr = 0.1  \n",
        "#lr0 = 0.1 # By default, lr0=lr unless you specify the value and pass it to optimizer\n",
        "epoch_decay = 5e-4 \n",
        "weight_decay = 1e-4\n",
        "beta0 = 0.9   # try different values: e.g., [0.999, 0.99, 0.9]\n",
        "beta1 = 0.999 # try different values: e.g., [0.999, 0.99, 0.9] \n",
        "\n",
        "# lr decay epochs \n",
        "decay_epochs=[int(total_epochs*0.5), int(total_epochs*0.75)] # decay learning rate at 50%, 75% epochs"
      ]
    },
    {
      "cell_type": "markdown",
      "metadata": {
        "id": "Mmv9mBdvjA4l"
      },
      "source": [
        "# **Loading datasets**"
      ]
    },
    {
      "cell_type": "markdown",
      "source": [
        "In this step, we will use the [CIFAR10](http://yann.lecun.com/exdb/mnist/) as benchmark dataset. Before importing data to `dataloader`, we construct imbalanced version for CIFAR10 by `ImbalanceGenerator`. Specifically, it first randomly splits the training data by class ID (e.g., 10 classes) into two even portions as the positive and negative classes, and then it randomly removes some samples from the positive class to make\n",
        "it imbalanced. We keep the testing set untouched. We refer `imratio` to the ratio of number of positive examples to number of all examples. "
      ],
      "metadata": {
        "id": "QqzyXxLvInZ1"
      }
    },
    {
      "cell_type": "code",
      "execution_count": 36,
      "metadata": {
        "colab": {
          "base_uri": "https://localhost:8080/"
        },
        "id": "O7fCXryRjB1Z",
        "outputId": "983c9108-afdb-4e59-aaa8-284fbfe6df1a"
      },
      "outputs": [
        {
          "output_type": "stream",
          "name": "stdout",
          "text": [
            "Files already downloaded and verified\n",
            "Files already downloaded and verified\n",
            "#SAMPLES: [27777], POS:NEG: [2777 : 25000], POS RATIO: 0.1000\n",
            "#SAMPLES: [10000], POS:NEG: [5000 : 5000], POS RATIO: 0.5000\n"
          ]
        }
      ],
      "source": [
        "if dataset == 'C10':\n",
        "    IMG_SIZE = 32\n",
        "    train_data, train_targets = CIFAR10(root='./data', train=True)\n",
        "    test_data, test_targets  = CIFAR10(root='./data', train=False)\n",
        "elif dataset == 'C100':\n",
        "    IMG_SIZE = 32\n",
        "    train_data, train_targets = CIFAR100(root='./data', train=True)\n",
        "    test_data, test_targets  = CIFAR100(root='./data', train=False)\n",
        "elif dataset == 'STL10':\n",
        "    BATCH_SIZE = 32\n",
        "    IMG_SIZE = 96\n",
        "    train_data, train_targets = STL10(root='./data/', split='train')\n",
        "    test_data, test_targets = STL10(root='./data/', split='test')\n",
        "elif dataset == 'C2':\n",
        "    IMG_SIZE = 50\n",
        "    train_data, train_targets  = CAT_VS_DOG('./data/', train=True)\n",
        "    test_data, test_targets = CAT_VS_DOG('./data/', train=False)\n",
        "\n",
        "(train_images, train_labels) = ImbalancedDataGenerator(verbose=True, random_seed=0).transform(train_data, train_targets, imratio=imratio)\n",
        "(test_images, test_labels) = ImbalancedDataGenerator(verbose=True, random_seed=0).transform(test_data, test_targets, imratio=0.5) \n",
        "\n",
        "trainSet = ImageDataset(train_images, train_labels, image_size=IMG_SIZE, crop_size=IMG_SIZE-2)\n",
        "testSet = ImageDataset(test_images, test_labels, image_size=IMG_SIZE, crop_size=IMG_SIZE-2, mode='test')\n",
        "\n",
        "# parameters for sampler\n",
        "num_pos = 20\n",
        "sampler = DualSampler(trainSet, batch_size=BATCH_SIZE, num_pos=num_pos)\n",
        "trainloader = torch.utils.data.DataLoader(trainSet, batch_size=BATCH_SIZE, shuffle=False, num_workers=8, pin_memory=False, drop_last=True)\n",
        "testloader = torch.utils.data.DataLoader(testSet, batch_size=BATCH_SIZE, shuffle=False, num_workers=8,  pin_memory=False)"
      ]
    },
    {
      "cell_type": "markdown",
      "source": [
        "# **Model, Loss & Optimizer**\n",
        "Before training, we need to define **model**, **loss function**, **optimizer**. "
      ],
      "metadata": {
        "id": "6GCtKxlBZnGl"
      }
    },
    {
      "cell_type": "code",
      "source": [
        "set_all_seeds(123)\n",
        "model = ResNet20(pretrained=False, last_activation=None, activations='relu', num_classes=1)\n",
        "model = model.cuda()\n",
        "    \n",
        "# Compositional Training\n",
        "Loss = CompositionalAUCLoss()  \n",
        "optimizer = PDSCA(model, \n",
        "                  a=Loss.a, \n",
        "                  b=Loss.b, \n",
        "                  alpha=Loss.alpha, \n",
        "                  lr=lr,\n",
        "                  beta1=beta0,\n",
        "                  beta2=beta1, \n",
        "                  epoch_decay=epoch_decay, \n",
        "                  margin=margin, \n",
        "                  weight_decay=weight_decay)"
      ],
      "metadata": {
        "id": "rUmU3E60Zqzi"
      },
      "execution_count": 37,
      "outputs": []
    },
    {
      "cell_type": "markdown",
      "metadata": {
        "id": "yreaM0sSjQj0"
      },
      "source": [
        "# **Training**\n",
        "Now it's time for training.\n"
      ]
    },
    {
      "cell_type": "code",
      "execution_count": 38,
      "metadata": {
        "colab": {
          "base_uri": "https://localhost:8080/"
        },
        "id": "o2cuzzOhh-NA",
        "outputId": "1729bd74-660d-47ba-d655-268141d0f2f2"
      },
      "outputs": [
        {
          "output_type": "stream",
          "name": "stdout",
          "text": [
            "------------------------------\n",
            "epoch: 0, train_auc:0.541168, test_auc:0.552227, test_auc_max:0.552227\n",
            "epoch: 1, train_auc:0.576345, test_auc:0.586668, test_auc_max:0.586668\n",
            "epoch: 2, train_auc:0.587045, test_auc:0.591103, test_auc_max:0.591103\n",
            "epoch: 3, train_auc:0.598651, test_auc:0.612225, test_auc_max:0.612225\n",
            "epoch: 4, train_auc:0.605189, test_auc:0.600635, test_auc_max:0.612225\n",
            "epoch: 5, train_auc:0.612469, test_auc:0.625973, test_auc_max:0.625973\n",
            "epoch: 6, train_auc:0.622305, test_auc:0.603082, test_auc_max:0.625973\n",
            "epoch: 7, train_auc:0.629492, test_auc:0.629510, test_auc_max:0.629510\n",
            "epoch: 8, train_auc:0.637966, test_auc:0.621774, test_auc_max:0.629510\n",
            "epoch: 9, train_auc:0.640338, test_auc:0.634803, test_auc_max:0.634803\n",
            "epoch: 10, train_auc:0.650294, test_auc:0.613869, test_auc_max:0.634803\n",
            "epoch: 11, train_auc:0.649819, test_auc:0.632193, test_auc_max:0.634803\n",
            "epoch: 12, train_auc:0.661654, test_auc:0.624435, test_auc_max:0.634803\n",
            "epoch: 13, train_auc:0.660682, test_auc:0.639569, test_auc_max:0.639569\n",
            "epoch: 14, train_auc:0.667060, test_auc:0.628926, test_auc_max:0.639569\n",
            "epoch: 15, train_auc:0.667200, test_auc:0.635505, test_auc_max:0.639569\n",
            "epoch: 16, train_auc:0.670945, test_auc:0.636655, test_auc_max:0.639569\n",
            "epoch: 17, train_auc:0.671258, test_auc:0.641494, test_auc_max:0.641494\n",
            "epoch: 18, train_auc:0.678309, test_auc:0.618804, test_auc_max:0.641494\n",
            "epoch: 19, train_auc:0.677337, test_auc:0.648105, test_auc_max:0.648105\n",
            "epoch: 20, train_auc:0.686327, test_auc:0.640987, test_auc_max:0.648105\n",
            "epoch: 21, train_auc:0.681154, test_auc:0.651852, test_auc_max:0.651852\n",
            "epoch: 22, train_auc:0.688805, test_auc:0.643461, test_auc_max:0.651852\n",
            "epoch: 23, train_auc:0.681067, test_auc:0.645354, test_auc_max:0.651852\n",
            "epoch: 24, train_auc:0.690101, test_auc:0.653198, test_auc_max:0.653198\n",
            "Reducing learning rate to 0.01000 (0.01000) @ T=5425!\n",
            "Updating regularizer @ T=5425!\n",
            "epoch: 25, train_auc:0.722556, test_auc:0.675511, test_auc_max:0.675511\n",
            "epoch: 26, train_auc:0.736514, test_auc:0.676931, test_auc_max:0.676931\n",
            "epoch: 27, train_auc:0.741784, test_auc:0.680236, test_auc_max:0.680236\n",
            "epoch: 28, train_auc:0.747322, test_auc:0.679851, test_auc_max:0.680236\n",
            "epoch: 29, train_auc:0.747413, test_auc:0.681994, test_auc_max:0.681994\n",
            "epoch: 30, train_auc:0.755034, test_auc:0.681636, test_auc_max:0.681994\n",
            "epoch: 31, train_auc:0.757188, test_auc:0.683104, test_auc_max:0.683104\n",
            "epoch: 32, train_auc:0.760717, test_auc:0.682031, test_auc_max:0.683104\n",
            "epoch: 33, train_auc:0.764296, test_auc:0.682744, test_auc_max:0.683104\n",
            "epoch: 34, train_auc:0.768730, test_auc:0.680619, test_auc_max:0.683104\n",
            "epoch: 35, train_auc:0.771792, test_auc:0.682266, test_auc_max:0.683104\n",
            "epoch: 36, train_auc:0.770047, test_auc:0.682122, test_auc_max:0.683104\n",
            "Reducing learning rate to 0.00100 (0.00100) @ T=8029!\n",
            "Updating regularizer @ T=8029!\n",
            "epoch: 37, train_auc:0.783289, test_auc:0.684234, test_auc_max:0.684234\n",
            "epoch: 38, train_auc:0.785507, test_auc:0.683823, test_auc_max:0.684234\n",
            "epoch: 39, train_auc:0.787542, test_auc:0.684795, test_auc_max:0.684795\n",
            "epoch: 40, train_auc:0.791189, test_auc:0.683943, test_auc_max:0.684795\n",
            "epoch: 41, train_auc:0.789258, test_auc:0.685458, test_auc_max:0.685458\n",
            "epoch: 42, train_auc:0.790119, test_auc:0.684093, test_auc_max:0.685458\n",
            "epoch: 43, train_auc:0.789863, test_auc:0.684961, test_auc_max:0.685458\n",
            "epoch: 44, train_auc:0.791594, test_auc:0.684327, test_auc_max:0.685458\n",
            "epoch: 45, train_auc:0.790824, test_auc:0.685216, test_auc_max:0.685458\n",
            "epoch: 46, train_auc:0.796223, test_auc:0.684843, test_auc_max:0.685458\n",
            "epoch: 47, train_auc:0.791938, test_auc:0.685669, test_auc_max:0.685669\n",
            "epoch: 48, train_auc:0.795143, test_auc:0.685057, test_auc_max:0.685669\n",
            "epoch: 49, train_auc:0.794301, test_auc:0.685537, test_auc_max:0.685669\n"
          ]
        }
      ],
      "source": [
        "train_list = []\n",
        "test_list = []\n",
        "\n",
        "test_auc_max = 0\n",
        "print ('-'*30)\n",
        "for epoch in range(total_epochs):\n",
        "    if epoch in decay_epochs:\n",
        "      optimizer.update_regularizer(decay_factor=10)\n",
        "\n",
        "    train_pred = []\n",
        "    train_true = []\n",
        "    for idx, (data, targets) in enumerate(trainloader):\n",
        "        model.train()  \n",
        "        data, targets  = data.cuda(), targets.cuda()\n",
        "        y_pred = model(data)\n",
        "        loss = Loss(y_pred, targets) # don't include sigmoid in this loss\n",
        "        optimizer.zero_grad()\n",
        "        loss.backward()\n",
        "        optimizer.step()\n",
        "        train_pred.append(y_pred.cpu().detach().numpy())\n",
        "        train_true.append(targets.cpu().detach().numpy())\n",
        "    \n",
        "    train_true = np.concatenate(train_true)\n",
        "    train_pred = np.concatenate(train_pred)\n",
        "    train_auc = roc_auc_score(train_true, train_pred) \n",
        "    \n",
        "    # evaluations\n",
        "    model.eval()\n",
        "    test_pred = []\n",
        "    test_true = [] \n",
        "    for j, data in enumerate(testloader):\n",
        "        test_data, test_targets = data\n",
        "        test_data = test_data.cuda()\n",
        "        outputs = model(test_data)\n",
        "        y_pred = torch.sigmoid(outputs)\n",
        "        test_pred.append(y_pred.cpu().detach().numpy())\n",
        "        test_true.append(test_targets.numpy())\n",
        "    test_true = np.concatenate(test_true)\n",
        "    test_pred = np.concatenate(test_pred)\n",
        "    val_auc =  roc_auc_score(test_true, test_pred) \n",
        "    model.train()\n",
        "\n",
        "\n",
        "    train_list.append(train_auc)\n",
        "    test_list.append(val_auc)\n",
        "\n",
        "    if test_auc_max<val_auc:\n",
        "       test_auc_max = val_auc\n",
        "      \n",
        "    # print results\n",
        "    print(\"epoch: {}, train_auc:{:4f}, test_auc:{:4f}, test_auc_max:{:4f}\".format(epoch, train_auc, val_auc, test_auc_max, optimizer.lr ))          "
      ]
    },
    {
      "cell_type": "markdown",
      "source": [
        "# **Visualization**\n",
        "\n",
        "Now, let's see the change of AUC scores on training and testing set. \n"
      ],
      "metadata": {
        "id": "VVGuukZ0FpfN"
      }
    },
    {
      "cell_type": "code",
      "source": [
        "# TODO: Comparsion of CE/AUC\n",
        "import matplotlib.pyplot as plt\n",
        "\n",
        "plt.plot(train_list, label='train')\n",
        "plt.plot(test_list, label='test')\n",
        "plt.title('AUC Score Over Time')\n",
        "plt.xlabel('Epoch')\n",
        "plt.ylabel('AUROC')\n",
        "plt.legend()\n",
        "plt.show()"
      ],
      "metadata": {
        "colab": {
          "base_uri": "https://localhost:8080/",
          "height": 295
        },
        "id": "CoM4Tnl0LmfY",
        "outputId": "127b73ad-836b-42ff-ef34-3cb7f7a49b9f"
      },
      "execution_count": 35,
      "outputs": [
        {
          "output_type": "display_data",
          "data": {
            "text/plain": [
              "<Figure size 432x288 with 1 Axes>"
            ],
            "image/png": "[encoded data removed]"
          },
          "metadata": {
            "needs_background": "light"
          }
        }
      ]
    }
  ],
  "metadata": {
    "accelerator": "GPU",
    "colab": {
      "background_execution": "on",
      "collapsed_sections": [],
      "machine_shape": "hm",
      "name": "09_Optimizing_CompositionalAUC_Loss_with_ResNet20_on_CIFAR10.ipynb",
      "provenance": [],
      "toc_visible": true
    },
    "kernelspec": {
      "display_name": "Python 3",
      "name": "python3"
    },
    "language_info": {
      "name": "python"
    }
  },
  "nbformat": 4,
  "nbformat_minor": 0
}