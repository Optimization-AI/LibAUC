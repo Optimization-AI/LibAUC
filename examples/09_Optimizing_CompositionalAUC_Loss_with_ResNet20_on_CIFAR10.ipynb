{
  "cells": [
    {
      "cell_type": "markdown",
      "source": [
        "# **Optimizing Compositional AUROC loss on imbalanced dataset**\n",
        " **Author**: Zhuoning Yuan"
      ],
      "metadata": {
        "id": "sEpAVQ2Fwhk1"
      }
    },
    {
      "cell_type": "markdown",
      "metadata": {
        "id": "zUv-WIY5h1Dh"
      },
      "source": [
        "**Introduction**\n",
        "\n",
        "In this tutorial, we will learn how to quickly train a ResNet20 model by optimizing AUC score using our novel compositional training framework [[Ref]](https://openreview.net/forum?id=gPvB4pdu_Z) on an binary image classification task on Cifar10. After completion of this tutorial, you should be able to use LibAUC to train your own models on your own datasets.  \n",
        "\n",
        "**Useful Resources**\n",
        "\n",
        "* Website: https://libauc.org\n",
        "* Github: https://github.com/Optimization-AI/LibAUC\n",
        "\n",
        "\n",
        "**References**\n",
        "\n",
        "If you find this tutorial helpful in your work,  please acknowledge our library and cite the following papers:\n",
        "<pre>\n",
        "@inproceedings{yuan2022compositional,\n",
        "    title={Compositional Training for End-to-End Deep AUC Maximization},\n",
        "    author={Zhuoning Yuan and Zhishuai Guo and Nitesh Chawla and Tianbao Yang},\n",
        "    booktitle={International Conference on Learning Representations},\n",
        "    year={2022},\n",
        "    url={https://openreview.net/forum?id=gPvB4pdu_Z}\n",
        "}\n",
        "</pre>\n"
      ]
    },
    {
      "cell_type": "markdown",
      "metadata": {
        "id": "DEavjKBdh8hF"
      },
      "source": [
        "# **Installing LibAUC**\n",
        "Let's start with install our library here. In this tutorial, we will use version `1.2.0`."
      ]
    },
    {
      "cell_type": "code",
      "execution_count": null,
      "metadata": {
        "id": "6zYjONxCh5Gz"
      },
      "outputs": [],
      "source": [
        "!pip install libauc==1.2.0"
      ]
    },
    {
      "cell_type": "markdown",
      "metadata": {
        "id": "6m-DLkddiPT9"
      },
      "source": [
        "# **Importing LibAUC**\n",
        "\n",
        "Import required packages to use\n",
        "\n"
      ]
    },
    {
      "cell_type": "code",
      "execution_count": null,
      "metadata": {
        "id": "7oZv1TakiUBF"
      },
      "outputs": [],
      "source": [
        "from libauc.losses import CompositionalAUCLoss\n",
        "from libauc.optimizers import PDSCA\n",
        "from libauc.models import resnet20 as ResNet20\n",
        "from libauc.datasets import CIFAR10, CIFAR100, STL10, CAT_VS_DOG\n",
        "from libauc.utils import ImbalancedDataGenerator\n",
        "from libauc.sampler import DualSampler\n",
        "from libauc.metrics import auc_roc_score\n",
        "\n",
        "import torch \n",
        "from PIL import Image\n",
        "import numpy as np\n",
        "import torchvision.transforms as transforms\n",
        "from torch.utils.data import Dataset"
      ]
    },
    {
      "cell_type": "markdown",
      "metadata": {
        "id": "Kd57DCDOilVL"
      },
      "source": [
        "# **Reproducibility**"
      ]
    },
    {
      "cell_type": "markdown",
      "source": [
        "The following function `set_all_seeds` limits the number of sources of randomness behaviors, such as model intialization, data shuffling, etcs. However, completely reproducible results are not guaranteed across PyTorch releases [[Ref]](https://pytorch.org/docs/stable/notes/randomness.html#:~:text=Completely%20reproducible%20results%20are%20not,even%20when%20using%20identical%20seeds.)."
      ],
      "metadata": {
        "id": "ndENFEtPKJk4"
      }
    },
    {
      "cell_type": "code",
      "execution_count": null,
      "metadata": {
        "id": "-dUoQpz5imKD"
      },
      "outputs": [],
      "source": [
        "def set_all_seeds(SEED):\n",
        "    # REPRODUCIBILITY\n",
        "    torch.manual_seed(SEED)\n",
        "    np.random.seed(SEED)\n",
        "    torch.backends.cudnn.deterministic = True\n",
        "    torch.backends.cudnn.benchmark = False"
      ]
    },
    {
      "cell_type": "markdown",
      "metadata": {
        "id": "Y2wT1qzXiqCg"
      },
      "source": [
        "# **Image Dataset**\n",
        "\n",
        "\n",
        "Now that we defined the data input pipeline such as data augmentations. In this tutorials, we use `RandomCrop`, `RandomHorizontalFlip` as stated in the original paper. \n"
      ]
    },
    {
      "cell_type": "code",
      "execution_count": null,
      "metadata": {
        "id": "kCEq4vNairrd"
      },
      "outputs": [],
      "source": [
        "class ImageDataset(Dataset):\n",
        "    def __init__(self, images, targets, image_size=32, crop_size=30, mode='train'):\n",
        "       self.images = images.astype(np.uint8)\n",
        "       self.targets = targets\n",
        "       self.mode = mode\n",
        "       self.transform_train = transforms.Compose([                                                \n",
        "                              transforms.ToTensor(),\n",
        "                              transforms.RandomCrop((crop_size, crop_size), padding=None),\n",
        "                              transforms.RandomHorizontalFlip(),\n",
        "                              transforms.Resize((image_size, image_size)),\n",
        "                              ])\n",
        "       self.transform_test = transforms.Compose([\n",
        "                             transforms.ToTensor(),\n",
        "                             transforms.Resize((image_size, image_size)),\n",
        "                              ])\n",
        "    def __len__(self):\n",
        "        return len(self.images)\n",
        "\n",
        "    def __getitem__(self, idx):\n",
        "        image = self.images[idx]\n",
        "        target = self.targets[idx]\n",
        "        image = Image.fromarray(image.astype('uint8'))\n",
        "        if self.mode == 'train':\n",
        "            image = self.transform_train(image)\n",
        "        else:\n",
        "            image = self.transform_test(image)\n",
        "        return image, target"
      ]
    },
    {
      "cell_type": "markdown",
      "metadata": {
        "id": "J3FgOKRPivmD"
      },
      "source": [
        "## **Introduction for Loss and Optimizer**\n",
        "\n",
        "In this section, we will introduce how to utilize `CompositonalAUCLoss` function and `PDSCA` optimizer.  \n",
        "\n",
        "#### **CompositonalAUCLoss**\n",
        "The objective function for `CompositonalAUCLoss` is defined as\n",
        "\n",
        "$$\\min _{\\mathbf{w}} L_{\\mathrm{AUC}}\\left(\\mathbf{w}-\\alpha \\nabla L_{\\mathrm{CE}}(\\mathbf{w})\\right)$$\n",
        "which is implemented as `CompositionalAUCLoss()` function that consists of two loss `CrossEntropyLoss` (with sigmoid) and `AUCMLoss`. For the details of `AUCMLoss`, please refer to this [tutorial](https://github.com/Optimization-AI/LibAUC/blob/main/examples/02_Optimizing_AUROC_with_ResNet20_on_Imbalanced_CIFAR10.ipynb) and the [paper](https://arxiv.org/pdf/2012.03173.pdf).\n",
        "\n",
        "**PDSCA** is proposed and used to optimize the above objective function. For itearton $t$, the key updates are as follows: \n",
        "\n",
        "1.  $ \\mathbf{u}_{t+1}=(1-\\beta_{0}) \\mathbf{u}_{t}+\\beta_{0}(\\mathbf{w}_{\\mathbf{t}}-\\eta_0 \\nabla L_{CE}(\\mathbf{w}_{\\mathbf{t}}) ; a ; b)$ \n",
        "2. $ \\mathbf{z}_{t+1}=(1-\\beta_{1}) \\mathbf{z}_{t}+\\beta_{1} \\nabla_{\\mathbf{u}} L_{AUC}(\\mathbf{u}_{t+1})$ \n",
        "3. $ \\mathbf{v}_{t+1}=\\mathbf{v}_{t}-\\eta_{1} (\\mathbf{z}_{t+1}$ + $λ_0(\\mathbf{w}_t-\\mathbf{v}_{ref})+ λ_1\\mathbf{v}_t$) \n",
        "4. $ \\theta_{t+1}=\\theta_{t}+\\eta_{1} \\nabla_{\\theta} L_{AUC}(\\theta_{t})$\n",
        "\n",
        "where $\\lambda_0,\\lambda$ refer to `epoch_decay` and `weight_decay`, $\\eta_0,\\eta$ refer to learning rates for inner updates ($L_{CE}$) and outer updates ($L_{AUC}$), and $\\mathbf v_t$ refers to $\\{\\mathbf w_t, a_t, b_t\\}$ and $θ$ refers to dual variable in `AUCMLoss`. For more details, please refer to the paper [[ref]](https://openreview.net/pdf?id=gPvB4pdu_Z)."
      ]
    },
    {
      "cell_type": "markdown",
      "source": [
        "## **Hyper-parameters**\n",
        "\n",
        "**DualSampler**\n",
        "  - `batch_size`: how many samples per mini-batch used for training model \n",
        "  - `sampling_rate`: the oversampling ratio for the positive minority class (default: 0.0)\n",
        "  \n",
        "**Loss**\n",
        " - `margin`: margin for surrogate loss (i.e., squred hinge loss). It is intergrated with optimizer (default: 1.0)\n",
        " - `last_activation`: activation function on model's outputs for AUC loss, i.e., 'sigmoid', 'l2', None (default: 'sigmoid')\n",
        " \n",
        "**Optimizer**\n",
        "  - `lr`: learning rate\n",
        "  - `lr0`: learning rate refers to $\\alpha$ in step (1) (default: `lr`)\n",
        "  - `epoch_decay`: epoch decay (L2 penalty for epoch-level regularization) (default: 2e-3)\n",
        "  - `weight_decay`: weight decay (L2 penalty) (default: 1e-4)\n",
        "  - `beta0`: parameter for moving average in step (1) (Default: 0.9)\n",
        "  - `beta1`: parameter for moving average in step (2) (Default: 0.999)\n",
        "\n",
        "## **Useful Tips**\n",
        "- You can tune `sampling_rate` in (0, 0.5] when data is imbalanced\n",
        "- Use smaller `lr0` and larger `lr` can achieve good performance in some cases, e.g., `lr0=0.05`, `lr=0.1`\n",
        "- Don not include `sigmoid` activation before computing loss. The `CompositionalAUCLoss()` already includes `sigmoid`, `l2` activation \n",
        "- To manually update `lr` you can do `optimizer.param_groups[0]['lr'] = self.param_groups[0]['lr']/decay_factor`. Similar to `lr0`, you can modify `optimizer.param_groups[0]['lr0']`"
      ],
      "metadata": {
        "id": "NGF-rGhjIoSY"
      }
    },
    {
      "cell_type": "code",
      "execution_count": null,
      "metadata": {
        "id": "g8ReDBxeixFw"
      },
      "outputs": [],
      "source": [
        "# HyperParameters\n",
        "SEED = 123\n",
        "dataset = 'C10'\n",
        "imratio = 0.1\n",
        "BATCH_SIZE = 128\n",
        "total_epochs = 100 \n",
        "decay_epochs=[int(total_epochs*0.5), int(total_epochs*0.75)]\n",
        "\n",
        "margin = 1.0\n",
        "lr = 0.1  \n",
        "#lr0 = 0.1 # (default: lr0=lr unless you specify the value and pass it to optimizer)\n",
        "epoch_decay = 2e-3 \n",
        "weight_decay = 1e-4\n",
        "beta0 = 0.9   # e.g., [0.999, 0.99, 0.9]\n",
        "beta1 = 0.9   # e.g., [0.999, 0.99, 0.9] \n",
        "\n",
        "sampling_rate = 0.2"
      ]
    },
    {
      "cell_type": "markdown",
      "metadata": {
        "id": "Mmv9mBdvjA4l"
      },
      "source": [
        "# **Loading datasets**"
      ]
    },
    {
      "cell_type": "markdown",
      "source": [
        "In this step, we will use the [CIFAR10](http://yann.lecun.com/exdb/mnist/) as benchmark dataset. Before importing data to `dataloader`, we construct imbalanced version for CIFAR10 by `ImbalanceGenerator`. Specifically, it first randomly splits the training data by class ID (e.g., 10 classes) into two even portions as the positive and negative classes, and then it randomly removes some samples from the positive class to make\n",
        "it imbalanced. We keep the testing set untouched. We refer `imratio` to the ratio of number of positive examples to number of all examples. "
      ],
      "metadata": {
        "id": "QqzyXxLvInZ1"
      }
    },
    {
      "cell_type": "code",
      "execution_count": null,
      "metadata": {
        "colab": {
          "base_uri": "https://localhost:8080/"
        },
        "id": "O7fCXryRjB1Z",
        "outputId": "346bd007-43d4-4ba9-c147-1a8da8fc1703"
      },
      "outputs": [
        {
          "output_type": "stream",
          "name": "stdout",
          "text": [
            "Files already downloaded and verified\n",
            "Files already downloaded and verified\n",
            "#SAMPLES: [27777], POS:NEG: [2777 : 25000], POS RATIO: 0.1000\n",
            "#SAMPLES: [10000], POS:NEG: [5000 : 5000], POS RATIO: 0.5000\n"
          ]
        }
      ],
      "source": [
        "if dataset == 'C10':\n",
        "    IMG_SIZE = 32\n",
        "    train_data, train_targets = CIFAR10(root='./data', train=True)\n",
        "    test_data, test_targets  = CIFAR10(root='./data', train=False)\n",
        "elif dataset == 'C100':\n",
        "    IMG_SIZE = 32\n",
        "    train_data, train_targets = CIFAR100(root='./data', train=True)\n",
        "    test_data, test_targets  = CIFAR100(root='./data', train=False)\n",
        "elif dataset == 'STL10':\n",
        "    BATCH_SIZE = 32\n",
        "    IMG_SIZE = 96\n",
        "    train_data, train_targets = STL10(root='./data/', split='train')\n",
        "    test_data, test_targets = STL10(root='./data/', split='test')\n",
        "elif dataset == 'C2':\n",
        "    IMG_SIZE = 50\n",
        "    train_data, train_targets  = CAT_VS_DOG('./data/', train=True)\n",
        "    test_data, test_targets = CAT_VS_DOG('./data/', train=False)\n",
        "\n",
        "(train_images, train_labels) = ImbalancedDataGenerator(verbose=True, random_seed=0).transform(train_data, train_targets, imratio=imratio)\n",
        "(test_images, test_labels) = ImbalancedDataGenerator(verbose=True, random_seed=0).transform(test_data, test_targets, imratio=0.5) \n",
        "\n",
        "trainSet = ImageDataset(train_images, train_labels, image_size=IMG_SIZE, crop_size=IMG_SIZE-2)\n",
        "trainSet_eval = ImageDataset(train_images, train_labels, image_size=IMG_SIZE, crop_size=IMG_SIZE-2, mode='test')\n",
        "testSet = ImageDataset(test_images, test_labels, image_size=IMG_SIZE, crop_size=IMG_SIZE-2, mode='test')\n",
        "\n",
        "# parameters for sampler\n",
        "sampler = DualSampler(trainSet, batch_size=BATCH_SIZE, sampling_rate=sampling_rate)\n",
        "trainloader = torch.utils.data.DataLoader(trainSet, batch_size=BATCH_SIZE, sampler=sampler, shuffle=False, num_workers=2)\n",
        "trainloader_eval = torch.utils.data.DataLoader(trainSet_eval, batch_size=BATCH_SIZE, shuffle=False, num_workers=2)\n",
        "testloader = torch.utils.data.DataLoader(testSet, batch_size=BATCH_SIZE, shuffle=False, num_workers=2)"
      ]
    },
    {
      "cell_type": "markdown",
      "source": [
        "# **Model, Loss & Optimizer**\n",
        "Before training, we need to define **model**, **loss function**, **optimizer**. "
      ],
      "metadata": {
        "id": "6GCtKxlBZnGl"
      }
    },
    {
      "cell_type": "code",
      "source": [
        "set_all_seeds(123)\n",
        "model = ResNet20(pretrained=False, last_activation=None, activations='relu', num_classes=1)\n",
        "model = model.cuda()\n",
        "    \n",
        "# Compositional Training\n",
        "loss_fn = CompositionalAUCLoss()  \n",
        "optimizer = PDSCA(model, \n",
        "                  loss_fn=loss_fn,\n",
        "                  lr=lr,\n",
        "                  beta1=beta0,\n",
        "                  beta2=beta1, \n",
        "                  margin=margin, \n",
        "                  epoch_decay=epoch_decay, \n",
        "                  weight_decay=weight_decay)"
      ],
      "metadata": {
        "id": "rUmU3E60Zqzi"
      },
      "execution_count": null,
      "outputs": []
    },
    {
      "cell_type": "markdown",
      "metadata": {
        "id": "yreaM0sSjQj0"
      },
      "source": [
        "# **Training**\n",
        "Now it's time for training\n"
      ]
    },
    {
      "cell_type": "code",
      "source": [
        "print ('Start Training')\n",
        "print ('-'*30)\n",
        "\n",
        "train_log = []\n",
        "test_log = []\n",
        "for epoch in range(total_epochs):\n",
        "     if epoch in decay_epochs:\n",
        "         optimizer.update_regularizer(decay_factor=10, decay_factor0=10) # decrease learning rate by 10x & update regularizer\n",
        "   \n",
        "     train_loss = []\n",
        "     model.train()    \n",
        "     for data, targets in trainloader:\n",
        "         data, targets  = data.cuda(), targets.cuda()\n",
        "         y_pred = model(data)\n",
        "         loss = loss_fn(y_pred, targets)\n",
        "         optimizer.zero_grad()\n",
        "         loss.backward()\n",
        "         optimizer.step()\n",
        "         train_loss.append(loss.item())\n",
        "    \n",
        "     # evaluation on train & test sets\n",
        "     model.eval()\n",
        "     train_pred_list = []\n",
        "     train_true_list = []\n",
        "     for train_data, train_targets in trainloader_eval:\n",
        "         train_data = train_data.cuda()\n",
        "         train_pred = model(train_data)\n",
        "         train_pred_list.append(train_pred.cpu().detach().numpy())\n",
        "         train_true_list.append(train_targets.numpy())\n",
        "     train_true = np.concatenate(train_true_list)\n",
        "     train_pred = np.concatenate(train_pred_list)\n",
        "     train_auc = auc_roc_score(train_true, train_pred)\n",
        "     train_loss = np.mean(train_loss)\n",
        "  \n",
        "     test_pred_list = []\n",
        "     test_true_list = [] \n",
        "     for test_data, test_targets in testloader:\n",
        "         test_data = test_data.cuda()\n",
        "         test_pred = model(test_data)\n",
        "         test_pred_list.append(test_pred.cpu().detach().numpy())\n",
        "         test_true_list.append(test_targets.numpy())\n",
        "     test_true = np.concatenate(test_true_list)\n",
        "     test_pred = np.concatenate(test_pred_list)\n",
        "     val_auc =  auc_roc_score(test_true, test_pred) \n",
        "     model.train()\n",
        " \n",
        "     # print results\n",
        "     print(\"epoch: %s, train_loss: %.4f, train_auc: %.4f, test_auc: %.4f, lr: %.4f\"%(epoch, train_loss, train_auc, val_auc, optimizer.lr ))    \n",
        "     train_log.append(train_auc) \n",
        "     test_log.append(val_auc)     "
      ],
      "metadata": {
        "colab": {
          "base_uri": "https://localhost:8080/"
        },
        "id": "ygp4goXjXxMG",
        "outputId": "cc615326-cebe-4ff5-8482-a04e26695aa9"
      },
      "execution_count": null,
      "outputs": [
        {
          "output_type": "stream",
          "name": "stdout",
          "text": [
            "Start Training\n",
            "------------------------------\n",
            "epoch: 0, train_loss: 0.3187, train_auc: 0.6465, test_auc: 0.6550, lr: 0.1000\n",
            "epoch: 1, train_loss: 0.2997, train_auc: 0.6989, test_auc: 0.6943, lr: 0.1000\n",
            "epoch: 2, train_loss: 0.2904, train_auc: 0.7293, test_auc: 0.7111, lr: 0.1000\n",
            "epoch: 3, train_loss: 0.2812, train_auc: 0.7472, test_auc: 0.7395, lr: 0.1000\n",
            "epoch: 4, train_loss: 0.2711, train_auc: 0.7793, test_auc: 0.7615, lr: 0.1000\n",
            "epoch: 5, train_loss: 0.2611, train_auc: 0.7584, test_auc: 0.7404, lr: 0.1000\n",
            "epoch: 6, train_loss: 0.2546, train_auc: 0.7873, test_auc: 0.7587, lr: 0.1000\n",
            "epoch: 7, train_loss: 0.2464, train_auc: 0.7959, test_auc: 0.7642, lr: 0.1000\n",
            "epoch: 8, train_loss: 0.2387, train_auc: 0.8436, test_auc: 0.8097, lr: 0.1000\n",
            "epoch: 9, train_loss: 0.2336, train_auc: 0.7974, test_auc: 0.7664, lr: 0.1000\n",
            "epoch: 10, train_loss: 0.2257, train_auc: 0.8126, test_auc: 0.7795, lr: 0.1000\n",
            "epoch: 11, train_loss: 0.2202, train_auc: 0.8521, test_auc: 0.8198, lr: 0.1000\n",
            "epoch: 12, train_loss: 0.2171, train_auc: 0.8106, test_auc: 0.7712, lr: 0.1000\n",
            "epoch: 13, train_loss: 0.2111, train_auc: 0.8175, test_auc: 0.7745, lr: 0.1000\n",
            "epoch: 14, train_loss: 0.2042, train_auc: 0.8060, test_auc: 0.7705, lr: 0.1000\n",
            "epoch: 15, train_loss: 0.1992, train_auc: 0.8312, test_auc: 0.7921, lr: 0.1000\n",
            "epoch: 16, train_loss: 0.1922, train_auc: 0.8749, test_auc: 0.8361, lr: 0.1000\n",
            "epoch: 17, train_loss: 0.1879, train_auc: 0.9031, test_auc: 0.8655, lr: 0.1000\n",
            "epoch: 18, train_loss: 0.1829, train_auc: 0.8448, test_auc: 0.8061, lr: 0.1000\n",
            "epoch: 19, train_loss: 0.1778, train_auc: 0.7757, test_auc: 0.7457, lr: 0.1000\n",
            "epoch: 20, train_loss: 0.1767, train_auc: 0.8791, test_auc: 0.8503, lr: 0.1000\n",
            "epoch: 21, train_loss: 0.1687, train_auc: 0.8780, test_auc: 0.8406, lr: 0.1000\n",
            "epoch: 22, train_loss: 0.1662, train_auc: 0.8603, test_auc: 0.8218, lr: 0.1000\n",
            "epoch: 23, train_loss: 0.1625, train_auc: 0.8961, test_auc: 0.8480, lr: 0.1000\n",
            "epoch: 24, train_loss: 0.1594, train_auc: 0.8743, test_auc: 0.8338, lr: 0.1000\n",
            "epoch: 25, train_loss: 0.1579, train_auc: 0.9217, test_auc: 0.8697, lr: 0.1000\n",
            "epoch: 26, train_loss: 0.1543, train_auc: 0.9286, test_auc: 0.8914, lr: 0.1000\n",
            "epoch: 27, train_loss: 0.1539, train_auc: 0.8745, test_auc: 0.8271, lr: 0.1000\n",
            "epoch: 28, train_loss: 0.1478, train_auc: 0.9127, test_auc: 0.8684, lr: 0.1000\n",
            "epoch: 29, train_loss: 0.1464, train_auc: 0.9223, test_auc: 0.8782, lr: 0.1000\n",
            "epoch: 30, train_loss: 0.1468, train_auc: 0.9367, test_auc: 0.8897, lr: 0.1000\n",
            "epoch: 31, train_loss: 0.1409, train_auc: 0.9235, test_auc: 0.8734, lr: 0.1000\n",
            "epoch: 32, train_loss: 0.1385, train_auc: 0.9412, test_auc: 0.8947, lr: 0.1000\n",
            "epoch: 33, train_loss: 0.1378, train_auc: 0.8753, test_auc: 0.8213, lr: 0.1000\n",
            "epoch: 34, train_loss: 0.1370, train_auc: 0.9350, test_auc: 0.8884, lr: 0.1000\n",
            "epoch: 35, train_loss: 0.1324, train_auc: 0.9185, test_auc: 0.8727, lr: 0.1000\n",
            "epoch: 36, train_loss: 0.1337, train_auc: 0.9443, test_auc: 0.8964, lr: 0.1000\n",
            "epoch: 37, train_loss: 0.1302, train_auc: 0.9431, test_auc: 0.8895, lr: 0.1000\n",
            "epoch: 38, train_loss: 0.1305, train_auc: 0.9199, test_auc: 0.8711, lr: 0.1000\n",
            "epoch: 39, train_loss: 0.1285, train_auc: 0.8819, test_auc: 0.8242, lr: 0.1000\n",
            "epoch: 40, train_loss: 0.1250, train_auc: 0.9289, test_auc: 0.8809, lr: 0.1000\n",
            "epoch: 41, train_loss: 0.1262, train_auc: 0.9172, test_auc: 0.8623, lr: 0.1000\n",
            "epoch: 42, train_loss: 0.1261, train_auc: 0.9420, test_auc: 0.8904, lr: 0.1000\n",
            "epoch: 43, train_loss: 0.1214, train_auc: 0.8908, test_auc: 0.8408, lr: 0.1000\n",
            "epoch: 44, train_loss: 0.1236, train_auc: 0.9487, test_auc: 0.9009, lr: 0.1000\n",
            "epoch: 45, train_loss: 0.1177, train_auc: 0.9498, test_auc: 0.8933, lr: 0.1000\n",
            "epoch: 46, train_loss: 0.1203, train_auc: 0.8434, test_auc: 0.7921, lr: 0.1000\n",
            "epoch: 47, train_loss: 0.1187, train_auc: 0.9518, test_auc: 0.8970, lr: 0.1000\n",
            "epoch: 48, train_loss: 0.1167, train_auc: 0.9500, test_auc: 0.8954, lr: 0.1000\n",
            "epoch: 49, train_loss: 0.1155, train_auc: 0.9478, test_auc: 0.8937, lr: 0.1000\n",
            "Reducing learning rate to 0.01000 @ T=12100!\n",
            "Reducing learning rate (inner) to 0.01000 @ T=12100!\n",
            "Updating regularizer @ T=12100!\n",
            "epoch: 50, train_loss: 0.0823, train_auc: 0.9807, test_auc: 0.9219, lr: 0.0100\n",
            "epoch: 51, train_loss: 0.0658, train_auc: 0.9854, test_auc: 0.9270, lr: 0.0100\n",
            "epoch: 52, train_loss: 0.0608, train_auc: 0.9863, test_auc: 0.9249, lr: 0.0100\n",
            "epoch: 53, train_loss: 0.0577, train_auc: 0.9873, test_auc: 0.9247, lr: 0.0100\n",
            "epoch: 54, train_loss: 0.0537, train_auc: 0.9886, test_auc: 0.9234, lr: 0.0100\n",
            "epoch: 55, train_loss: 0.0495, train_auc: 0.9892, test_auc: 0.9238, lr: 0.0100\n",
            "epoch: 56, train_loss: 0.0472, train_auc: 0.9904, test_auc: 0.9255, lr: 0.0100\n",
            "epoch: 57, train_loss: 0.0452, train_auc: 0.9902, test_auc: 0.9232, lr: 0.0100\n",
            "epoch: 58, train_loss: 0.0438, train_auc: 0.9911, test_auc: 0.9221, lr: 0.0100\n",
            "epoch: 59, train_loss: 0.0411, train_auc: 0.9919, test_auc: 0.9236, lr: 0.0100\n",
            "epoch: 60, train_loss: 0.0379, train_auc: 0.9922, test_auc: 0.9225, lr: 0.0100\n",
            "epoch: 61, train_loss: 0.0359, train_auc: 0.9929, test_auc: 0.9202, lr: 0.0100\n",
            "epoch: 62, train_loss: 0.0376, train_auc: 0.9923, test_auc: 0.9176, lr: 0.0100\n",
            "epoch: 63, train_loss: 0.0338, train_auc: 0.9914, test_auc: 0.9164, lr: 0.0100\n",
            "epoch: 64, train_loss: 0.0329, train_auc: 0.9925, test_auc: 0.9192, lr: 0.0100\n",
            "epoch: 65, train_loss: 0.0304, train_auc: 0.9932, test_auc: 0.9205, lr: 0.0100\n",
            "epoch: 66, train_loss: 0.0304, train_auc: 0.9937, test_auc: 0.9194, lr: 0.0100\n",
            "epoch: 67, train_loss: 0.0274, train_auc: 0.9938, test_auc: 0.9192, lr: 0.0100\n",
            "epoch: 68, train_loss: 0.0271, train_auc: 0.9947, test_auc: 0.9215, lr: 0.0100\n",
            "epoch: 69, train_loss: 0.0253, train_auc: 0.9945, test_auc: 0.9148, lr: 0.0100\n",
            "epoch: 70, train_loss: 0.0239, train_auc: 0.9953, test_auc: 0.9183, lr: 0.0100\n",
            "epoch: 71, train_loss: 0.0233, train_auc: 0.9954, test_auc: 0.9162, lr: 0.0100\n",
            "epoch: 72, train_loss: 0.0218, train_auc: 0.9938, test_auc: 0.9093, lr: 0.0100\n",
            "epoch: 73, train_loss: 0.0216, train_auc: 0.9954, test_auc: 0.9159, lr: 0.0100\n",
            "epoch: 74, train_loss: 0.0225, train_auc: 0.9955, test_auc: 0.9161, lr: 0.0100\n",
            "Reducing learning rate to 0.00100 @ T=18150!\n",
            "Reducing learning rate (inner) to 0.00100 @ T=18150!\n",
            "Updating regularizer @ T=18150!\n",
            "epoch: 75, train_loss: 0.0195, train_auc: 0.9960, test_auc: 0.9170, lr: 0.0010\n",
            "epoch: 76, train_loss: 0.0185, train_auc: 0.9966, test_auc: 0.9186, lr: 0.0010\n",
            "epoch: 77, train_loss: 0.0166, train_auc: 0.9965, test_auc: 0.9176, lr: 0.0010\n",
            "epoch: 78, train_loss: 0.0175, train_auc: 0.9962, test_auc: 0.9171, lr: 0.0010\n",
            "epoch: 79, train_loss: 0.0162, train_auc: 0.9965, test_auc: 0.9176, lr: 0.0010\n",
            "epoch: 80, train_loss: 0.0177, train_auc: 0.9964, test_auc: 0.9178, lr: 0.0010\n",
            "epoch: 81, train_loss: 0.0155, train_auc: 0.9963, test_auc: 0.9171, lr: 0.0010\n",
            "epoch: 82, train_loss: 0.0153, train_auc: 0.9967, test_auc: 0.9179, lr: 0.0010\n",
            "epoch: 83, train_loss: 0.0156, train_auc: 0.9965, test_auc: 0.9171, lr: 0.0010\n",
            "epoch: 84, train_loss: 0.0149, train_auc: 0.9966, test_auc: 0.9164, lr: 0.0010\n",
            "epoch: 85, train_loss: 0.0156, train_auc: 0.9967, test_auc: 0.9176, lr: 0.0010\n",
            "epoch: 86, train_loss: 0.0153, train_auc: 0.9965, test_auc: 0.9172, lr: 0.0010\n",
            "epoch: 87, train_loss: 0.0155, train_auc: 0.9966, test_auc: 0.9170, lr: 0.0010\n",
            "epoch: 88, train_loss: 0.0147, train_auc: 0.9965, test_auc: 0.9174, lr: 0.0010\n",
            "epoch: 89, train_loss: 0.0151, train_auc: 0.9966, test_auc: 0.9169, lr: 0.0010\n",
            "epoch: 90, train_loss: 0.0150, train_auc: 0.9966, test_auc: 0.9174, lr: 0.0010\n",
            "epoch: 91, train_loss: 0.0149, train_auc: 0.9966, test_auc: 0.9164, lr: 0.0010\n",
            "epoch: 92, train_loss: 0.0149, train_auc: 0.9966, test_auc: 0.9162, lr: 0.0010\n",
            "epoch: 93, train_loss: 0.0148, train_auc: 0.9967, test_auc: 0.9169, lr: 0.0010\n",
            "epoch: 94, train_loss: 0.0144, train_auc: 0.9967, test_auc: 0.9174, lr: 0.0010\n",
            "epoch: 95, train_loss: 0.0139, train_auc: 0.9965, test_auc: 0.9163, lr: 0.0010\n",
            "epoch: 96, train_loss: 0.0142, train_auc: 0.9969, test_auc: 0.9175, lr: 0.0010\n",
            "epoch: 97, train_loss: 0.0140, train_auc: 0.9967, test_auc: 0.9172, lr: 0.0010\n",
            "epoch: 98, train_loss: 0.0136, train_auc: 0.9968, test_auc: 0.9165, lr: 0.0010\n",
            "epoch: 99, train_loss: 0.0139, train_auc: 0.9967, test_auc: 0.9169, lr: 0.0010\n"
          ]
        }
      ]
    },
    {
      "cell_type": "markdown",
      "source": [
        "# **Visualization**\n",
        "\n",
        "Now, let's see the change of AUC scores on training and testing set. \n"
      ],
      "metadata": {
        "id": "VVGuukZ0FpfN"
      }
    },
    {
      "cell_type": "code",
      "source": [
        "import matplotlib.pyplot as plt\n",
        "plt.rcParams[\"figure.figsize\"] = (9,5)\n",
        "x=np.arange(len(train_log))\n",
        "plt.figure()\n",
        "plt.plot(x, train_log, LineStyle='-', label='Train Set', linewidth=3)\n",
        "plt.plot(x, test_log,  LineStyle='-', label='Test Set', linewidth=3)\n",
        "plt.title('CompositionalAUCLoss (10% CIFAR10)',fontsize=25)\n",
        "plt.legend(fontsize=15)\n",
        "plt.ylabel('AUROC', fontsize=25)\n",
        "plt.xlabel('Epoch', fontsize=25)"
      ],
      "metadata": {
        "colab": {
          "base_uri": "https://localhost:8080/",
          "height": 391
        },
        "id": "CoM4Tnl0LmfY",
        "outputId": "20a8a868-4ac3-4948-9f17-af831e08bf05"
      },
      "execution_count": null,
      "outputs": [
        {
          "output_type": "execute_result",
          "data": {
            "text/plain": [
              "Text(0.5, 0, 'Epoch')"
            ]
          },
          "metadata": {},
          "execution_count": 14
        },
        {
          "output_type": "display_data",
          "data": {
            "text/plain": [
              "<Figure size 648x360 with 1 Axes>"
            ],
            "image/png": "[encoded data removed]"
          },
          "metadata": {
            "needs_background": "light"
          }
        }
      ]
    }
  ],
  "metadata": {
    "accelerator": "GPU",
    "colab": {
      "background_execution": "on",
      "collapsed_sections": [],
      "machine_shape": "hm",
      "name": "09_Optimizing_CompositionalAUC_Loss_with_ResNet20_on_CIFAR10.ipynb",
      "provenance": [],
      "toc_visible": true
    },
    "kernelspec": {
      "display_name": "Python 3",
      "name": "python3"
    },
    "language_info": {
      "name": "python"
    }
  },
  "nbformat": 4,
  "nbformat_minor": 0
}