{
  "nbformat": 4,
  "nbformat_minor": 0,
  "metadata": {
    "accelerator": "GPU",
    "colab": {
      "name": "02_Optimizing_AUROC_with_ResNet20_on_Imbalanced_CIFAR10.ipynb",
      "provenance": [],
      "collapsed_sections": [],
      "machine_shape": "hm"
    },
    "kernelspec": {
      "display_name": "Python 3",
      "name": "python3"
    },
    "language_info": {
      "name": "python"
    }
  },
  "cells": [
    {
      "cell_type": "markdown",
      "metadata": {
        "id": "PwsM2ciGpOE7"
      },
      "source": [
        "# **Optimizing AUROC loss on imbalanced dataset**\n",
        "\n",
        "**Author**: Zhuoning Yuan\n",
        "\n",
        "**Introduction**\n",
        "\n",
        "In this tutorial, you will learn how to quickly train a ResNet20 model by optimizing **AUROC** using our novel [AUCMLoss](https://arxiv.org/abs/2012.03173) and `PESG` optimizer on a binary image classification task on Cifar10. After completion of this tutorial, you should be able to use LibAUC to train your own models on your own datasets.\n",
        "\n",
        "\n",
        "**Useful Resources**:\n",
        "* Website: https://libauc.org\n",
        "* Github: https://github.com/Optimization-AI/LibAUC\n",
        "\n",
        "**Reference**:  \n",
        "\n",
        "If you find this tutorial helpful in your work,  please acknowledge our library and cite the following paper:\n",
        "<pre>\n",
        "@inproceedings{yuan2021large,\n",
        "  title={Large-scale robust deep auc maximization: A new surrogate loss and empirical studies on medical image classification},\n",
        "  author={Yuan, Zhuoning and Yan, Yan and Sonka, Milan and Yang, Tianbao},\n",
        "  booktitle={Proceedings of the IEEE/CVF International Conference on Computer Vision},\n",
        "  pages={3040--3049},\n",
        "  year={2021}\n",
        "}\n",
        "</pre>"
      ]
    },
    {
      "cell_type": "markdown",
      "metadata": {
        "id": "efaf1543"
      },
      "source": [
        "## **Installing LibAUC**\n",
        "\n",
        "Let's start with install our library here. In this tutorial, we will use version `1.2.0`."
      ]
    },
    {
      "cell_type": "code",
      "execution_count": null,
      "metadata": {
        "id": "0hQeospBloJU"
      },
      "outputs": [],
      "source": [
        "!pip install libauc==1.2.0"
      ]
    },
    {
      "cell_type": "markdown",
      "metadata": {
        "id": "TYTvudnlQMEX"
      },
      "source": [
        "# **Importing LibAUC**\n",
        "Import required libraries to use"
      ]
    },
    {
      "cell_type": "code",
      "metadata": {
        "id": "HBdrV5mOV9ze"
      },
      "source": [
        "from libauc.losses import AUCMLoss\n",
        "from libauc.optimizers import PESG\n",
        "from libauc.models import resnet20 as ResNet20\n",
        "from libauc.datasets import CIFAR10\n",
        "from libauc.utils import ImbalancedDataGenerator\n",
        "from libauc.sampler import DualSampler\n",
        "from libauc.metrics import auc_roc_score\n",
        "\n",
        "import torch \n",
        "from PIL import Image\n",
        "import numpy as np\n",
        "import torchvision.transforms as transforms\n",
        "from torch.utils.data import Dataset\n",
        "from sklearn.metrics import roc_auc_score"
      ],
      "execution_count": 2,
      "outputs": []
    },
    {
      "cell_type": "markdown",
      "metadata": {
        "id": "c4gWa0Yisyoi"
      },
      "source": [
        "## **Reproducibility**\n",
        "\n",
        "These functions limit the number of sources of randomness behaviors, such as model intialization, data shuffling, etcs. However, completely reproducible results are not guaranteed across PyTorch releases [[Ref]](https://pytorch.org/docs/stable/notes/randomness.html#:~:text=Completely%20reproducible%20results%20are%20not,even%20when%20using%20identical%20seeds.)."
      ]
    },
    {
      "cell_type": "code",
      "execution_count": 3,
      "metadata": {
        "id": "glsgJdAKsyoi"
      },
      "outputs": [],
      "source": [
        "def set_all_seeds(SEED):\n",
        "    # REPRODUCIBILITY\n",
        "    torch.manual_seed(SEED)\n",
        "    np.random.seed(SEED)\n",
        "    torch.backends.cudnn.deterministic = True\n",
        "    torch.backends.cudnn.benchmark = False"
      ]
    },
    {
      "cell_type": "markdown",
      "metadata": {
        "id": "QFmMHcdDsyoj"
      },
      "source": [
        "## **Image Dataset**\n",
        "\n",
        "\n",
        "Now that we defined the data input pipeline such as data augmentations. In this tutorials, we use `RandomCrop`, `RandomHorizontalFlip`.\n",
        "\n",
        "\n"
      ]
    },
    {
      "cell_type": "code",
      "metadata": {
        "id": "Y7rC7aTuQ2cX"
      },
      "source": [
        "class ImageDataset(Dataset):\n",
        "    def __init__(self, images, targets, image_size=32, crop_size=30, mode='train'):\n",
        "       self.images = images.astype(np.uint8)\n",
        "       self.targets = targets\n",
        "       self.mode = mode\n",
        "       self.transform_train = transforms.Compose([                                                \n",
        "                              transforms.ToTensor(),\n",
        "                              transforms.RandomCrop((crop_size, crop_size), padding=None),\n",
        "                              transforms.RandomHorizontalFlip(),\n",
        "                              transforms.Resize((image_size, image_size)),\n",
        "                              ])\n",
        "       self.transform_test = transforms.Compose([\n",
        "                             transforms.ToTensor(),\n",
        "                             transforms.Resize((image_size, image_size)),\n",
        "                              ])\n",
        "    def __len__(self):\n",
        "        return len(self.images)\n",
        "\n",
        "    def __getitem__(self, idx):\n",
        "        image = self.images[idx]\n",
        "        target = self.targets[idx]\n",
        "        image = Image.fromarray(image.astype('uint8'))\n",
        "        if self.mode == 'train':\n",
        "            image = self.transform_train(image)\n",
        "        else:\n",
        "            image = self.transform_test(image)\n",
        "        return image, target"
      ],
      "execution_count": 4,
      "outputs": []
    },
    {
      "cell_type": "markdown",
      "source": [
        "## **Introduction for Loss and Optimizer**\n",
        "\n",
        "In this section, we will introduce how to utilize `AUCMLoss` function and `PESG` optimizer.  \n",
        "\n",
        "#### **AUCMLoss**\n",
        "The objective function for `AUCMLoss` is defined as\n",
        "\n",
        "\\begin{align} F(\\mathbf{w},a,b,\\alpha; \\mathbf{z}) &=(1-p)(h_w(x)-a)^2\\mathbf{I}_{[y=1]} +p(h_w(x)-b)^2\\mathbf{I}_{[y=-1]} \\\\\n",
        "&+2\\alpha(p(1-p)m+ p h_w(x)\\mathbf{I}_{[y=-1]}-(1-p)h_w(x)\\mathbf{I}_{[y=1]})\\\\\n",
        "&-p(1-p)\\alpha^2\n",
        "\\end{align}\n",
        "\n",
        "where $p$ is the ratio of positive samples to all samples in a mini-batch, $a$, $b$ are the running statistics of the positive and negative predictions, $\\alpha$ is the auxiliary variable derived from the problem formulation. For the derivation of the above formulation, please refer to the paper [[ref]](https://arxiv.org/abs/2012.03173).\n",
        "\n",
        "**PESG** is used for optimizing the AUC margin loss and the key update steps are sumarized as follow:\n",
        "1. Initialize $\\mathbf v_0= \\mathbf v_{ref}=\\{\\mathbf{w_0}, a_0, b_0\\}, \\alpha_0\\geq 0$\n",
        "2. For $t=1, \\ldots, T$:\n",
        "3. $\\hspace{0.2in}$ Compute $\\nabla_{\\mathbf v} F(\\mathbf v_t, \\alpha_t; z_t)$ and $\\nabla_\\alpha F(\\mathbf v_t, \\alpha_t; z_t)$.\n",
        "4. $\\hspace{0.2in}$ Update primal variables\n",
        "$$\n",
        "\\mathbf v_{t+1} = \\mathbf v_{t} - \\eta (\\nabla_{\\mathbf v} F(\\mathbf v_t, \\alpha_t; z_t)+ \\lambda_0 (\\mathbf v_t-\\mathbf v_{\\text{ref}})) - \\lambda \\eta\\mathbf v_t \n",
        "$$\n",
        "5. $\\hspace{0.2in}$ Update dual variable \n",
        "$$\\alpha_{t+1}=  [\\alpha_{t} + \\eta \\nabla_\\alpha F(\\mathbf v_t, \\alpha_t; z_t)]_+$$\n",
        "6.  $\\hspace{0.2in}$ Decrease $\\eta$ by a decay factor and update $\\mathbf v_{\\text{ref}}$ periodically \n",
        "\n",
        "where ${z_t}$ is the data pair $(x_t, y_t)$, $\\lambda_0$ is the epoch-level l2 penaty (i.e., `epoch_decay`) and $\\eta$ is the learning rate. For more details, please refer to the paper [[ref]](https://arxiv.org/abs/2012.03173)."
      ],
      "metadata": {
        "id": "VpHnyOLFEy5e"
      }
    },
    {
      "cell_type": "markdown",
      "source": [
        "## **Hyper-parameters**\n",
        "**DualSampler**\n",
        "- `batch_size`: how many samples per mini-batch used for training model \n",
        "- `sampling_rate`: the oversampling ratio for the positive minority class (default: 0.0)\n",
        "\n",
        "**Loss**\n",
        "  * `margin`: margin for surrogate loss (i.e., squred hinge loss). It is intergrated with optimizer (default: 1.0)\n",
        "    \n",
        "**Optimizer**\n",
        "  * `lr`: learning rate\n",
        "  * `momentum`: momentum factor (default: 0.9)\n",
        "  * `weight_decay`: weight decay (L2 penalty) (default: 1e-5)\n",
        "  * `epoch_decay`: epoch decay (L2 penalty for epoch-level regularization) (default: 2e-3)\n",
        "\n",
        "## **Tips**\n",
        " - `sampling_ratio` can be tuned in (0, 0.5] based on different datasets\n",
        " - `epoch_decay` is a regularization parameter similar to `weight_decay` that can be tuned\n",
        " - `momentum` is similar to SGD-momentum and you can choose value in [0, 0.9]\n",
        " - `margin` can also be tuned in [0.5, 1.0] for better performance\n",
        "\n"
      ],
      "metadata": {
        "id": "I-RegPMrBH-i"
      }
    },
    {
      "cell_type": "markdown",
      "metadata": {
        "id": "YjTW36iTQ60Q"
      },
      "source": [
        "# **Paramaters**"
      ]
    },
    {
      "cell_type": "code",
      "metadata": {
        "id": "STRhOR7YQ4_r"
      },
      "source": [
        "# HyperParameters\n",
        "SEED = 123\n",
        "BATCH_SIZE = 128\n",
        "imratio = 0.1 # for demo \n",
        "total_epochs = 100\n",
        "decay_epochs = [50, 75]\n",
        "\n",
        "lr = 0.1\n",
        "margin = 1.0\n",
        "epoch_decay = 0.003 # refers gamma in the paper\n",
        "weight_decay = 0.0001\n",
        "\n",
        "# oversampling minority class, you can tune it in (0, 0.5]\n",
        "# e.g., sampling_rate=0.2 is that num of positive samples in mini-batch is sampling_rate*batch_size=13\n",
        "sampling_rate = 0.2 "
      ],
      "execution_count": 43,
      "outputs": []
    },
    {
      "cell_type": "markdown",
      "metadata": {
        "id": "5fgzICg5Q-RE"
      },
      "source": [
        "# **Loading datasets**"
      ]
    },
    {
      "cell_type": "code",
      "metadata": {
        "colab": {
          "base_uri": "https://localhost:8080/"
        },
        "id": "nGbjRYxqQ9sv",
        "outputId": "d7da3726-1457-44ed-96e6-813fb6aa77bb"
      },
      "source": [
        "# load data as numpy arrays \n",
        "train_data, train_targets = CIFAR10(root='./data', train=True)\n",
        "test_data, test_targets  = CIFAR10(root='./data', train=False)\n",
        "\n",
        "# generate imbalanced data\n",
        "generator = ImbalancedDataGenerator(verbose=True, random_seed=0)\n",
        "(train_images, train_labels) = generator.transform(train_data, train_targets, imratio=imratio)\n",
        "(test_images, test_labels) = generator.transform(test_data, test_targets, imratio=0.5) \n",
        "\n",
        "# data augmentations \n",
        "trainSet = ImageDataset(train_images, train_labels)\n",
        "trainSet_eval = ImageDataset(train_images, train_labels, mode='test')\n",
        "testSet = ImageDataset(test_images, test_labels, mode='test')\n",
        "\n",
        "# dataloaders\n",
        "sampler = DualSampler(trainSet, BATCH_SIZE, sampling_rate=sampling_rate)\n",
        "trainloader = torch.utils.data.DataLoader(trainSet, batch_size=BATCH_SIZE, sampler=sampler, num_workers=2)\n",
        "trainloader_eval = torch.utils.data.DataLoader(trainSet_eval, batch_size=BATCH_SIZE, shuffle=False, num_workers=2)\n",
        "testloader = torch.utils.data.DataLoader(testSet, batch_size=BATCH_SIZE, shuffle=False, num_workers=2)"
      ],
      "execution_count": 44,
      "outputs": [
        {
          "output_type": "stream",
          "name": "stdout",
          "text": [
            "Files already downloaded and verified\n",
            "Files already downloaded and verified\n",
            "#SAMPLES: [27777], POS:NEG: [2777 : 25000], POS RATIO: 0.1000\n",
            "#SAMPLES: [10000], POS:NEG: [5000 : 5000], POS RATIO: 0.5000\n"
          ]
        }
      ]
    },
    {
      "cell_type": "markdown",
      "metadata": {
        "id": "_MrH548IRDIc"
      },
      "source": [
        "# **Creating models & AUC Optimizer**"
      ]
    },
    {
      "cell_type": "code",
      "metadata": {
        "id": "cFxB8QblRCt5"
      },
      "source": [
        "# You can include sigmoid/l2 activations on model's outputs before computing loss\n",
        "model = ResNet20(pretrained=False, last_activation=None, num_classes=1)\n",
        "model = model.cuda()\n",
        "\n",
        "# You can also pass Loss.a, Loss.b, Loss.alpha to optimizer (for old version users)\n",
        "loss_fn = AUCMLoss()\n",
        "optimizer = PESG(model, \n",
        "                 loss_fn=loss_fn,\n",
        "                 lr=lr, \n",
        "                 momentum=0.9,\n",
        "                 margin=margin, \n",
        "                 epoch_decay=epoch_decay, \n",
        "                 weight_decay=weight_decay)"
      ],
      "execution_count": 45,
      "outputs": []
    },
    {
      "cell_type": "markdown",
      "metadata": {
        "id": "fG5VXXEIRfw3"
      },
      "source": [
        "# **Training**"
      ]
    },
    {
      "cell_type": "code",
      "metadata": {
        "colab": {
          "base_uri": "https://localhost:8080/"
        },
        "id": "H1nk8FK3Qygb",
        "outputId": "8ed7d468-6ace-4896-bc7c-4b245e4b3456"
      },
      "source": [
        "print ('Start Training')\n",
        "print ('-'*30)\n",
        "\n",
        "train_log = []\n",
        "test_log = []\n",
        "for epoch in range(total_epochs):\n",
        "     if epoch in decay_epochs:\n",
        "         optimizer.update_regularizer(decay_factor=10) # decrease learning rate by 10x & update regularizer\n",
        "   \n",
        "     train_loss = []\n",
        "     model.train()    \n",
        "     for data, targets in trainloader:\n",
        "         data, targets  = data.cuda(), targets.cuda()\n",
        "         y_pred = model(data)\n",
        "         y_pred = torch.sigmoid(y_pred)\n",
        "         loss = loss_fn(y_pred, targets)\n",
        "         optimizer.zero_grad()\n",
        "         loss.backward()\n",
        "         optimizer.step()\n",
        "         train_loss.append(loss.item())\n",
        "    \n",
        "     # evaluation on train & test sets\n",
        "     model.eval()\n",
        "     train_pred_list = []\n",
        "     train_true_list = []\n",
        "     for train_data, train_targets in trainloader_eval:\n",
        "         train_data = train_data.cuda()\n",
        "         train_pred = model(train_data)\n",
        "         train_pred_list.append(train_pred.cpu().detach().numpy())\n",
        "         train_true_list.append(train_targets.numpy())\n",
        "     train_true = np.concatenate(train_true_list)\n",
        "     train_pred = np.concatenate(train_pred_list)\n",
        "     train_auc = auc_roc_score(train_true, train_pred)\n",
        "     train_loss = np.mean(train_loss)\n",
        "  \n",
        "     test_pred_list = []\n",
        "     test_true_list = [] \n",
        "     for test_data, test_targets in testloader:\n",
        "         test_data = test_data.cuda()\n",
        "         test_pred = model(test_data)\n",
        "         test_pred_list.append(test_pred.cpu().detach().numpy())\n",
        "         test_true_list.append(test_targets.numpy())\n",
        "     test_true = np.concatenate(test_true_list)\n",
        "     test_pred = np.concatenate(test_pred_list)\n",
        "     val_auc =  auc_roc_score(test_true, test_pred) \n",
        "     model.train()\n",
        " \n",
        "     # print results\n",
        "     print(\"epoch: %s, train_loss: %.4f, train_auc: %.4f, test_auc: %.4f, lr: %.4f\"%(epoch, train_loss, train_auc, val_auc, optimizer.lr ))    \n",
        "     train_log.append(train_auc) \n",
        "     test_log.append(val_auc)     "
      ],
      "execution_count": 46,
      "outputs": [
        {
          "output_type": "stream",
          "name": "stdout",
          "text": [
            "Start Training\n",
            "------------------------------\n",
            "epoch: 0, train_loss: 0.1494, train_auc: 0.6466, test_auc: 0.6599, lr: 0.1000\n",
            "epoch: 1, train_loss: 0.1321, train_auc: 0.6940, test_auc: 0.6875, lr: 0.1000\n",
            "epoch: 2, train_loss: 0.1201, train_auc: 0.6966, test_auc: 0.6886, lr: 0.1000\n",
            "epoch: 3, train_loss: 0.1129, train_auc: 0.7146, test_auc: 0.6921, lr: 0.1000\n",
            "epoch: 4, train_loss: 0.1063, train_auc: 0.7244, test_auc: 0.7042, lr: 0.1000\n",
            "epoch: 5, train_loss: 0.0999, train_auc: 0.7648, test_auc: 0.7498, lr: 0.1000\n",
            "epoch: 6, train_loss: 0.0961, train_auc: 0.7872, test_auc: 0.7664, lr: 0.1000\n",
            "epoch: 7, train_loss: 0.0902, train_auc: 0.7823, test_auc: 0.7479, lr: 0.1000\n",
            "epoch: 8, train_loss: 0.0880, train_auc: 0.8169, test_auc: 0.7931, lr: 0.1000\n",
            "epoch: 9, train_loss: 0.0835, train_auc: 0.8177, test_auc: 0.7858, lr: 0.1000\n",
            "epoch: 10, train_loss: 0.0801, train_auc: 0.8201, test_auc: 0.7912, lr: 0.1000\n",
            "epoch: 11, train_loss: 0.0789, train_auc: 0.8414, test_auc: 0.7987, lr: 0.1000\n",
            "epoch: 12, train_loss: 0.0751, train_auc: 0.8414, test_auc: 0.8080, lr: 0.1000\n",
            "epoch: 13, train_loss: 0.0731, train_auc: 0.8184, test_auc: 0.7852, lr: 0.1000\n",
            "epoch: 14, train_loss: 0.0711, train_auc: 0.8267, test_auc: 0.7953, lr: 0.1000\n",
            "epoch: 15, train_loss: 0.0698, train_auc: 0.8270, test_auc: 0.8029, lr: 0.1000\n",
            "epoch: 16, train_loss: 0.0674, train_auc: 0.8529, test_auc: 0.8102, lr: 0.1000\n",
            "epoch: 17, train_loss: 0.0660, train_auc: 0.8686, test_auc: 0.8331, lr: 0.1000\n",
            "epoch: 18, train_loss: 0.0647, train_auc: 0.8545, test_auc: 0.8194, lr: 0.1000\n",
            "epoch: 19, train_loss: 0.0633, train_auc: 0.8286, test_auc: 0.7963, lr: 0.1000\n",
            "epoch: 20, train_loss: 0.0612, train_auc: 0.8869, test_auc: 0.8457, lr: 0.1000\n",
            "epoch: 21, train_loss: 0.0594, train_auc: 0.8862, test_auc: 0.8439, lr: 0.1000\n",
            "epoch: 22, train_loss: 0.0580, train_auc: 0.8797, test_auc: 0.8399, lr: 0.1000\n",
            "epoch: 23, train_loss: 0.0575, train_auc: 0.8048, test_auc: 0.7714, lr: 0.1000\n",
            "epoch: 24, train_loss: 0.0561, train_auc: 0.8453, test_auc: 0.8158, lr: 0.1000\n",
            "epoch: 25, train_loss: 0.0556, train_auc: 0.8637, test_auc: 0.8260, lr: 0.1000\n",
            "epoch: 26, train_loss: 0.0534, train_auc: 0.8568, test_auc: 0.8139, lr: 0.1000\n",
            "epoch: 27, train_loss: 0.0526, train_auc: 0.8969, test_auc: 0.8525, lr: 0.1000\n",
            "epoch: 28, train_loss: 0.0515, train_auc: 0.8948, test_auc: 0.8541, lr: 0.1000\n",
            "epoch: 29, train_loss: 0.0515, train_auc: 0.8240, test_auc: 0.7953, lr: 0.1000\n",
            "epoch: 30, train_loss: 0.0501, train_auc: 0.9066, test_auc: 0.8637, lr: 0.1000\n",
            "epoch: 31, train_loss: 0.0503, train_auc: 0.9210, test_auc: 0.8802, lr: 0.1000\n",
            "epoch: 32, train_loss: 0.0500, train_auc: 0.9042, test_auc: 0.8634, lr: 0.1000\n",
            "epoch: 33, train_loss: 0.0485, train_auc: 0.9170, test_auc: 0.8783, lr: 0.1000\n",
            "epoch: 34, train_loss: 0.0480, train_auc: 0.9283, test_auc: 0.8793, lr: 0.1000\n",
            "epoch: 35, train_loss: 0.0477, train_auc: 0.8671, test_auc: 0.8246, lr: 0.1000\n",
            "epoch: 36, train_loss: 0.0464, train_auc: 0.8900, test_auc: 0.8454, lr: 0.1000\n",
            "epoch: 37, train_loss: 0.0455, train_auc: 0.9161, test_auc: 0.8732, lr: 0.1000\n",
            "epoch: 38, train_loss: 0.0459, train_auc: 0.9255, test_auc: 0.8822, lr: 0.1000\n",
            "epoch: 39, train_loss: 0.0462, train_auc: 0.8967, test_auc: 0.8527, lr: 0.1000\n",
            "epoch: 40, train_loss: 0.0455, train_auc: 0.8998, test_auc: 0.8543, lr: 0.1000\n",
            "epoch: 41, train_loss: 0.0457, train_auc: 0.9118, test_auc: 0.8626, lr: 0.1000\n",
            "epoch: 42, train_loss: 0.0442, train_auc: 0.8788, test_auc: 0.8337, lr: 0.1000\n",
            "epoch: 43, train_loss: 0.0439, train_auc: 0.9347, test_auc: 0.8850, lr: 0.1000\n",
            "epoch: 44, train_loss: 0.0430, train_auc: 0.9303, test_auc: 0.8816, lr: 0.1000\n",
            "epoch: 45, train_loss: 0.0428, train_auc: 0.7928, test_auc: 0.7546, lr: 0.1000\n",
            "epoch: 46, train_loss: 0.0430, train_auc: 0.8859, test_auc: 0.8386, lr: 0.1000\n",
            "epoch: 47, train_loss: 0.0427, train_auc: 0.8638, test_auc: 0.8212, lr: 0.1000\n",
            "epoch: 48, train_loss: 0.0422, train_auc: 0.8736, test_auc: 0.8332, lr: 0.1000\n",
            "epoch: 49, train_loss: 0.0413, train_auc: 0.8577, test_auc: 0.8165, lr: 0.1000\n",
            "Reducing learning rate to 0.01000 @ T=12100!\n",
            "Updating regularizer @ T=12100!\n",
            "epoch: 50, train_loss: 0.0270, train_auc: 0.9693, test_auc: 0.9109, lr: 0.0100\n",
            "epoch: 51, train_loss: 0.0220, train_auc: 0.9717, test_auc: 0.9129, lr: 0.0100\n",
            "epoch: 52, train_loss: 0.0206, train_auc: 0.9748, test_auc: 0.9139, lr: 0.0100\n",
            "epoch: 53, train_loss: 0.0185, train_auc: 0.9749, test_auc: 0.9108, lr: 0.0100\n",
            "epoch: 54, train_loss: 0.0175, train_auc: 0.9763, test_auc: 0.9123, lr: 0.0100\n",
            "epoch: 55, train_loss: 0.0169, train_auc: 0.9766, test_auc: 0.9124, lr: 0.0100\n",
            "epoch: 56, train_loss: 0.0157, train_auc: 0.9761, test_auc: 0.9114, lr: 0.0100\n",
            "epoch: 57, train_loss: 0.0148, train_auc: 0.9776, test_auc: 0.9118, lr: 0.0100\n",
            "epoch: 58, train_loss: 0.0148, train_auc: 0.9773, test_auc: 0.9093, lr: 0.0100\n",
            "epoch: 59, train_loss: 0.0138, train_auc: 0.9772, test_auc: 0.9064, lr: 0.0100\n",
            "epoch: 60, train_loss: 0.0133, train_auc: 0.9807, test_auc: 0.9124, lr: 0.0100\n",
            "epoch: 61, train_loss: 0.0129, train_auc: 0.9792, test_auc: 0.9089, lr: 0.0100\n",
            "epoch: 62, train_loss: 0.0125, train_auc: 0.9800, test_auc: 0.9111, lr: 0.0100\n",
            "epoch: 63, train_loss: 0.0119, train_auc: 0.9809, test_auc: 0.9077, lr: 0.0100\n",
            "epoch: 64, train_loss: 0.0114, train_auc: 0.9803, test_auc: 0.9051, lr: 0.0100\n",
            "epoch: 65, train_loss: 0.0113, train_auc: 0.9809, test_auc: 0.9069, lr: 0.0100\n",
            "epoch: 66, train_loss: 0.0107, train_auc: 0.9821, test_auc: 0.9090, lr: 0.0100\n",
            "epoch: 67, train_loss: 0.0106, train_auc: 0.9820, test_auc: 0.9074, lr: 0.0100\n",
            "epoch: 68, train_loss: 0.0100, train_auc: 0.9817, test_auc: 0.9054, lr: 0.0100\n",
            "epoch: 69, train_loss: 0.0097, train_auc: 0.9825, test_auc: 0.9043, lr: 0.0100\n",
            "epoch: 70, train_loss: 0.0097, train_auc: 0.9816, test_auc: 0.9019, lr: 0.0100\n",
            "epoch: 71, train_loss: 0.0092, train_auc: 0.9820, test_auc: 0.9021, lr: 0.0100\n",
            "epoch: 72, train_loss: 0.0091, train_auc: 0.9830, test_auc: 0.9044, lr: 0.0100\n",
            "epoch: 73, train_loss: 0.0090, train_auc: 0.9839, test_auc: 0.9044, lr: 0.0100\n",
            "epoch: 74, train_loss: 0.0087, train_auc: 0.9836, test_auc: 0.9044, lr: 0.0100\n",
            "Reducing learning rate to 0.00100 @ T=18150!\n",
            "Updating regularizer @ T=18150!\n",
            "epoch: 75, train_loss: 0.0078, train_auc: 0.9841, test_auc: 0.9020, lr: 0.0010\n",
            "epoch: 76, train_loss: 0.0075, train_auc: 0.9846, test_auc: 0.9020, lr: 0.0010\n",
            "epoch: 77, train_loss: 0.0074, train_auc: 0.9848, test_auc: 0.9019, lr: 0.0010\n",
            "epoch: 78, train_loss: 0.0071, train_auc: 0.9846, test_auc: 0.9009, lr: 0.0010\n",
            "epoch: 79, train_loss: 0.0071, train_auc: 0.9846, test_auc: 0.9004, lr: 0.0010\n",
            "epoch: 80, train_loss: 0.0071, train_auc: 0.9850, test_auc: 0.9007, lr: 0.0010\n",
            "epoch: 81, train_loss: 0.0070, train_auc: 0.9854, test_auc: 0.9013, lr: 0.0010\n",
            "epoch: 82, train_loss: 0.0072, train_auc: 0.9851, test_auc: 0.9003, lr: 0.0010\n",
            "epoch: 83, train_loss: 0.0072, train_auc: 0.9855, test_auc: 0.9003, lr: 0.0010\n",
            "epoch: 84, train_loss: 0.0069, train_auc: 0.9855, test_auc: 0.9003, lr: 0.0010\n",
            "epoch: 85, train_loss: 0.0071, train_auc: 0.9852, test_auc: 0.8997, lr: 0.0010\n",
            "epoch: 86, train_loss: 0.0069, train_auc: 0.9853, test_auc: 0.9005, lr: 0.0010\n",
            "epoch: 87, train_loss: 0.0070, train_auc: 0.9853, test_auc: 0.8992, lr: 0.0010\n",
            "epoch: 88, train_loss: 0.0069, train_auc: 0.9852, test_auc: 0.8988, lr: 0.0010\n",
            "epoch: 89, train_loss: 0.0071, train_auc: 0.9852, test_auc: 0.8987, lr: 0.0010\n",
            "epoch: 90, train_loss: 0.0069, train_auc: 0.9854, test_auc: 0.8991, lr: 0.0010\n",
            "epoch: 91, train_loss: 0.0069, train_auc: 0.9856, test_auc: 0.8987, lr: 0.0010\n",
            "epoch: 92, train_loss: 0.0065, train_auc: 0.9858, test_auc: 0.8992, lr: 0.0010\n",
            "epoch: 93, train_loss: 0.0066, train_auc: 0.9856, test_auc: 0.8973, lr: 0.0010\n",
            "epoch: 94, train_loss: 0.0064, train_auc: 0.9855, test_auc: 0.8966, lr: 0.0010\n",
            "epoch: 95, train_loss: 0.0065, train_auc: 0.9856, test_auc: 0.8961, lr: 0.0010\n",
            "epoch: 96, train_loss: 0.0067, train_auc: 0.9860, test_auc: 0.8981, lr: 0.0010\n",
            "epoch: 97, train_loss: 0.0067, train_auc: 0.9859, test_auc: 0.8975, lr: 0.0010\n",
            "epoch: 98, train_loss: 0.0067, train_auc: 0.9860, test_auc: 0.8987, lr: 0.0010\n",
            "epoch: 99, train_loss: 0.0066, train_auc: 0.9857, test_auc: 0.8970, lr: 0.0010\n"
          ]
        }
      ]
    },
    {
      "cell_type": "markdown",
      "source": [
        "# **Visualization**\n",
        "Now, let's see the learning curve of optimizing AUROC on train and tes sets. \n"
      ],
      "metadata": {
        "id": "7NgqDsqSxEcY"
      }
    },
    {
      "cell_type": "code",
      "source": [
        "import matplotlib.pyplot as plt\n",
        "plt.rcParams[\"figure.figsize\"] = (9,5)\n",
        "x=np.arange(len(train_log))\n",
        "plt.figure()\n",
        "plt.plot(x, train_log, LineStyle='-', label='Train Set', linewidth=3)\n",
        "plt.plot(x, test_log,  LineStyle='-', label='Test Set', linewidth=3)\n",
        "plt.title('AUCMLoss (10% CIFAR10)',fontsize=25)\n",
        "plt.legend(fontsize=15)\n",
        "plt.ylabel('AUROC', fontsize=25)\n",
        "plt.xlabel('Epoch', fontsize=25)"
      ],
      "metadata": {
        "colab": {
          "base_uri": "https://localhost:8080/",
          "height": 391
        },
        "id": "kc3weEruvU-e",
        "outputId": "cf2bc402-66ce-4460-8743-920da86ef078"
      },
      "execution_count": 48,
      "outputs": [
        {
          "output_type": "execute_result",
          "data": {
            "text/plain": [
              "Text(0.5, 0, 'Epoch')"
            ]
          },
          "metadata": {},
          "execution_count": 48
        },
        {
          "output_type": "display_data",
          "data": {
            "text/plain": [
              "<Figure size 648x360 with 1 Axes>"
            ],
            "image/png": "[encoded data removed]"
          },
          "metadata": {
            "needs_background": "light"
          }
        }
      ]
    }
  ]
}