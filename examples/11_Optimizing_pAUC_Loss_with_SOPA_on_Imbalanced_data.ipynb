{
  "cells": [
    {
      "cell_type": "markdown",
      "metadata": {
        "id": "tF7p8t7jQORN"
      },
      "source": [
        "# **Optimizing Partial AUC Loss on Imbalanaced Dataset (DRO-CVaR)**\n",
        "\n",
        "**Author**: Dixian Zhu  \n",
        "**Edited by**: Zhuoning Yuan\n",
        " "
      ],
      "id": "tF7p8t7jQORN"
    },
    {
      "cell_type": "markdown",
      "metadata": {
        "id": "CT9BLLrIsyog"
      },
      "source": [
        "\n",
        "**Introduction**\n",
        "\n",
        "In this tutorial, we will learn how to quickly train a ResNet18 model by optimizing **one way partial AUC** score using our novel **`SOPA`** method on a binary image classification task on Cifar10. After completion of this tutorial, you should be able to use LibAUC to train your own models on your own datasets.\n",
        "\n",
        "**Useful Resources**\n",
        "\n",
        "* Website: https://libauc.org\n",
        "* Github: https://github.com/Optimization-AI/LibAUC\n",
        "\n",
        "\n",
        "**References**\n",
        "\n",
        "If you find this tutorial helpful in your work,  please acknowledge our library and cite the following papers:\n",
        "\n",
        "<pre>\n",
        "@inproceedings{zhu2022auc,\n",
        "  title={When AUC meets DRO: Optimizing Partial AUC for Deep Learning with Non-Convex Convergence Guarantee},\n",
        "  author={Zhu, Dixian and Li, Gang and Wang, Bokun and Wu, Xiaodong and Yang, Tianbao},\n",
        "  booktitle={International Conference on Machine Learning},\n",
        "  pages={27548--27573},\n",
        "  year={2022},\n",
        "  publisher={PMLR},\n",
        "}\n",
        "</pre>"
      ],
      "id": "CT9BLLrIsyog"
    },
    {
      "cell_type": "markdown",
      "metadata": {
        "id": "efaf1543"
      },
      "source": [
        "## **Installing LibAUC**\n",
        "Let's start with install our library here. In this tutorial, we will use version `1.2.0`."
      ],
      "id": "efaf1543"
    },
    {
      "cell_type": "code",
      "execution_count": null,
      "metadata": {
        "id": "0hQeospBloJU"
      },
      "outputs": [],
      "source": [
        "!pip install libauc==1.2.0"
      ],
      "id": "0hQeospBloJU"
    },
    {
      "cell_type": "markdown",
      "metadata": {
        "id": "2vTi6LiXsyoh"
      },
      "source": [
        "## **Importing LibAUC**\n",
        "Import required libraries to use\n",
        "\n"
      ],
      "id": "2vTi6LiXsyoh"
    },
    {
      "cell_type": "code",
      "execution_count": null,
      "metadata": {
        "id": "RiXF4Xoosyoh"
      },
      "outputs": [],
      "source": [
        "from libauc.models import resnet18\n",
        "from libauc.datasets import CIFAR10\n",
        "from libauc.utils import ImbalancedDataGenerator\n",
        "from libauc.losses.auc import pAUC_CVaR_Loss\n",
        "from libauc.optimizers import SOPA\n",
        "from libauc.utils import ImbalancedDataGenerator\n",
        "from libauc.sampler import DualSampler  # data resampling (for binary class)\n",
        "from libauc.metrics import pauc_roc_score\n",
        "\n",
        "import torch \n",
        "from PIL import Image\n",
        "import numpy as np\n",
        "import torchvision.transforms as transforms\n",
        "from torch.utils.data import Dataset\n"
      ],
      "id": "RiXF4Xoosyoh"
    },
    {
      "cell_type": "markdown",
      "metadata": {
        "id": "c4gWa0Yisyoi"
      },
      "source": [
        "## **Reproducibility**\n",
        "\n",
        "These functions limit the number of sources of randomness behaviors, such as model intialization, data shuffling, etcs. However, completely reproducible results are not guaranteed across PyTorch releases [[Ref]](https://pytorch.org/docs/stable/notes/randomness.html#:~:text=Completely%20reproducible%20results%20are%20not,even%20when%20using%20identical%20seeds.)."
      ],
      "id": "c4gWa0Yisyoi"
    },
    {
      "cell_type": "code",
      "execution_count": null,
      "metadata": {
        "id": "glsgJdAKsyoi"
      },
      "outputs": [],
      "source": [
        "def set_all_seeds(SEED):\n",
        "    # REPRODUCIBILITY\n",
        "    torch.manual_seed(SEED)\n",
        "    np.random.seed(SEED)\n",
        "    torch.backends.cudnn.deterministic = True\n",
        "    torch.backends.cudnn.benchmark = False"
      ],
      "id": "glsgJdAKsyoi"
    },
    {
      "cell_type": "markdown",
      "metadata": {
        "id": "QFmMHcdDsyoj"
      },
      "source": [
        "## **Image Dataset**\n",
        "\n",
        "\n",
        "Now that we defined the data input pipeline such as data augmentations. In this tutorials, we use `RandomCrop`, `RandomHorizontalFlip`.  The `pos_index_map` helps map global index to local index for reducing memory cost in loss function since we only need to track the indices for positive samples. Please refer to original paper [here](https://arxiv.org/pdf/2203.00176.pdf) for more details.\n",
        "\n",
        "\n"
      ],
      "id": "QFmMHcdDsyoj"
    },
    {
      "cell_type": "code",
      "execution_count": null,
      "metadata": {
        "id": "TAV59koDsyoj"
      },
      "outputs": [],
      "source": [
        "class ImageDataset(Dataset):\n",
        "    def __init__(self, images, targets, image_size=32, crop_size=30, mode='train'):\n",
        "       self.images = images.astype(np.uint8)\n",
        "       self.targets = targets\n",
        "       self.mode = mode\n",
        "       self.transform_train = transforms.Compose([                                                \n",
        "                              transforms.ToTensor(),\n",
        "                              transforms.RandomCrop((crop_size, crop_size), padding=None),\n",
        "                              transforms.RandomHorizontalFlip(),\n",
        "                              transforms.Resize((image_size, image_size)),\n",
        "                              ])\n",
        "       self.transform_test = transforms.Compose([\n",
        "                             transforms.ToTensor(),\n",
        "                             transforms.Resize((image_size, image_size)),\n",
        "                              ])\n",
        "       \n",
        "       # for loss function\n",
        "       self.pos_indices = np.flatnonzero(targets==1)\n",
        "       self.pos_index_map = {}\n",
        "       for i, idx in enumerate(self.pos_indices):\n",
        "           self.pos_index_map[idx] = i\n",
        "\n",
        "    def __len__(self):\n",
        "        return len(self.images)\n",
        "\n",
        "    def __getitem__(self, idx):\n",
        "        image = self.images[idx]\n",
        "        target = self.targets[idx]\n",
        "        image = Image.fromarray(image.astype('uint8'))\n",
        "        if self.mode == 'train':\n",
        "            idx = self.pos_index_map[idx] if idx in self.pos_indices else -1\n",
        "            image = self.transform_train(image)\n",
        "        else:\n",
        "            image = self.transform_test(image)\n",
        "        return image, target, idx"
      ],
      "id": "TAV59koDsyoj"
    },
    {
      "cell_type": "markdown",
      "metadata": {
        "id": "nJ8q7Il8syok"
      },
      "source": [
        "## **Introduction for Loss and Optimizer**\n",
        "\n",
        "In this section, we will introduce pAUC optimization algorithm and how to utilize `pAUC_CVaR_Loss` function and `SOPA` optimizer.  \n",
        "\n",
        "### **pAUC CVaR**  \n",
        "Different with conventional AUROC (area under roc curve), one-way partial AUC aims to maximize the specific region under ROC curve. The FPR (false positive rate) is regularized between two given values. For **SOPA** method, it deals with the case that the $\\alpha$ is 0 and $\\beta$ is provided by user. The objective function for **SOPA** method is:\n",
        "\\begin{align}\n",
        "\\min_{\\mathbf w}\\min_{\\mathbf s\\in\\mathbf R^{n_+}} F(\\mathbf w, \\mathbf s)= \\frac{1}{n_+}\\sum_{\\mathbf x_i\\in\\mathcal S_+} \\left(s_i  +  \\frac{1}{\\beta} \\psi_i(\\mathbf w, s_i)\\right),\n",
        "\\end{align}\n",
        "where $\\psi_i(\\mathbf w, s_i) = \\frac{1}{n_-} \\sum_{\\mathbf x_j\\in \\mathcal S_-}(L(\\mathbf w; \\mathbf x_i, \\mathbf x_j) - s_i)_+$. And $L(\\mathbf w; \\mathbf x_i, \\mathbf x_j)$ represents any traditional AUC loss function. For more details please refer to: https://arxiv.org/abs/2203.00176, section 4. "
      ],
      "id": "nJ8q7Il8syok"
    },
    {
      "cell_type": "markdown",
      "metadata": {
        "id": "iHk_D_IVPt4B"
      },
      "source": [
        "The **SOPA** algorithm is summarized as follows, denote $\\mathcal S_+$ and $\\mathcal S_-$ as postive and negative training data:\n",
        "\n",
        "Set $\\mathbf s^1=0$ and initialize $\\mathbf w$\n",
        "For {$t = 1,\\ldots, T$}\n",
        "1. Sample two mini-batches $\\mathcal B_+\\subset\\mathcal S_+$, $\\mathcal B_-\\subset\\mathcal S_-$ \n",
        "2. Let $p_{ij} =\\mathbb 1(\\ell(h(\\mathbf w_t, \\mathbf x_i) - h(\\mathbf w_t, \\mathbf x_j)) - s^t_i> 0)$, where $\\mathbf x_i\\in\\mathcal B_+$ and $\\mathbf x_j\\in\\mathcal B_-$\n",
        "3. Update $s^{t+1}_i   =s^t_i - \\frac{\\eta_2}{n_+} (1  - \\frac{\\sum_j p_{ij}}{\\beta |\\mathcal B_-|} ) $ for $\\mathbf x_i\\in\\mathcal B_+$\n",
        "4. Compute a gradient estimator $\\nabla_t$ by $$\\nabla_t =  \\frac{1}{\\beta |\\mathcal B_+||\\mathcal B_-|}\\sum_{\\mathbf x_i\\in\\mathcal B_+}   \\sum_{\\mathbf x_j\\in \\mathcal B_-}p_{ij}\\nabla_\\mathbf w L(\\mathbf w_t; \\mathbf x_i, \\mathbf x_j)$$\n",
        "5. Update $\\mathbf w_{t+1}   =\\mathbf w_t - \\eta_1  \\nabla_t$ (or momentum/adam updates)"
      ],
      "id": "iHk_D_IVPt4B"
    },
    {
      "cell_type": "markdown",
      "metadata": {
        "id": "HRQ-8OvUsyok"
      },
      "source": [
        "### **Hyper-parameters**\n",
        "\n",
        "**DualSampler**:\n",
        "- `sampling_rate`: the oversampling ratio for the positive minority class. 0.5 is usually a good value for imbalanced data.\n",
        "\n",
        "**Loss**\n",
        "- `pos_len`: the size of positive sample in training dataset.\n",
        "- `num_neg`: number of negative samples in mini-batch.\n",
        "- `beta`: the upper bound for FPR. It is critical to be tuned approprately based on the task.\n",
        "\n",
        "**Optimizer**:\n",
        "- `weight_decay`: weight decay for the model parameters. Might be tuned in practice.\n",
        "- `lr`: the learning rate used for SOPA algorithm; it is $\\eta_1$ in the SOPA algorithm. Suggest to be tuned in practice.\n",
        "- `eta`: the step size for update $\\mathbf s$ that controls negative samples weights. Suggest to be tuned in practice.\n",
        "- `mode`: select Adam-style or SGD-style to update model's parameters. Choose from `sgd`, `adam`\n",
        "\n",
        "\n"
      ],
      "id": "HRQ-8OvUsyok"
    },
    {
      "cell_type": "markdown",
      "metadata": {
        "id": "HJVqWOkOaZMF"
      },
      "source": [
        "\n",
        "### **Some Tips**:\n",
        "- Sensitive parameters to tune: `beta`, `eta`, `lr`.\n",
        "- Non-sensitive parameters might be fixed: `sampling_rate`=0.5.\n",
        "- Might be tuned based on different tasks: `weight_decay`, `total_epochs`, `decay_epochs`, `decay_factor`.\n",
        "\n"
      ],
      "id": "HJVqWOkOaZMF"
    },
    {
      "cell_type": "code",
      "execution_count": null,
      "metadata": {
        "id": "S_FLNPnvsyok"
      },
      "outputs": [],
      "source": [
        "# paramaters\n",
        "SEED = 123\n",
        "batch_size = 64\n",
        "total_epochs = 60\n",
        "weight_decay = 5e-4 # regularization weight decay\n",
        "lr = 1e-3  # learning rate\n",
        "eta = 1e1 # learning rate for control negative samples weights\n",
        "decay_epochs = [20, 40]\n",
        "decay_factor = 10\n",
        "\n",
        "beta = 0.1 # upper bound for FPR\n",
        "\n",
        "sampling_rate = 0.5 "
      ],
      "id": "S_FLNPnvsyok"
    },
    {
      "cell_type": "markdown",
      "metadata": {
        "id": "novAei7Ssyok"
      },
      "source": [
        "## **Load Data, Preprocessing, and data loader**\n",
        "\n",
        "In this step, we will use the [CIFAR10](http://yann.lecun.com/exdb/mnist/) as benchmark dataset. Before importing data to `dataloader`, we construct imbalanced version for CIFAR10 by `ImbalanceGenerator`. Specifically, it first randomly splits the training data by class ID (e.g., 10 classes) into two even portions as the positive and negative classes, and then it randomly removes some samples from the positive class to make\n",
        "it imbalanced. We keep the testing set untouched. We refer `imratio` to the ratio of number of positive examples to number of all examples. "
      ],
      "id": "novAei7Ssyok"
    },
    {
      "cell_type": "code",
      "execution_count": null,
      "metadata": {
        "colab": {
          "base_uri": "https://localhost:8080/",
          "height": 138,
          "referenced_widgets": [
            "3a2a2ff9b8284bb2a0ae7f75acd263e1",
            "af5df360ff314bd88ff223e53bdd6dca",
            "901c114b5ce74999b282b0d2aa1466f2",
            "08054956df91468c8d088c612fde9767",
            "b1eefaa191af4014874a8e335fef5f5a",
            "ec18ab2fc13a483d9808ca18b99d9142",
            "f3e924cdff984cf4a9b735559afbb616",
            "8768fb8a8b4541f59f78a31931d73568",
            "dfa301f7eaba4a06b07c9e94aaf373e6",
            "ae5ee7f25384442dad3b139b8ce8b334",
            "f6a9a03d5ac94d2c91ea3119cbc6bde8"
          ]
        },
        "id": "oTp7XEaesyol",
        "outputId": "5be9c25a-9af9-4c4f-b7f6-ad59f2e46e49"
      },
      "outputs": [
        {
          "name": "stdout",
          "output_type": "stream",
          "text": [
            "Downloading https://www.cs.toronto.edu/~kriz/cifar-10-python.tar.gz to ./data/cifar-10-python.tar.gz\n"
          ]
        },
        {
          "data": {
            "application/vnd.jupyter.widget-view+json": {
              "model_id": "3a2a2ff9b8284bb2a0ae7f75acd263e1",
              "version_major": 2,
              "version_minor": 0
            },
            "text/plain": [
              "  0%|          | 0/170498071 [00:00<?, ?it/s]"
            ]
          },
          "metadata": {},
          "output_type": "display_data"
        },
        {
          "name": "stdout",
          "output_type": "stream",
          "text": [
            "Extracting ./data/cifar-10-python.tar.gz to ./data\n",
            "Files already downloaded and verified\n",
            "#SAMPLES: [31250], POS:NEG: [6250 : 25000], POS RATIO: 0.2000\n",
            "#SAMPLES: [10000], POS:NEG: [5000 : 5000], POS RATIO: 0.5000\n"
          ]
        }
      ],
      "source": [
        "train_data, train_targets = CIFAR10(root='./data', train=True)\n",
        "test_data, test_targets  = CIFAR10(root='./data', train=False)\n",
        "\n",
        "imratio = 0.2\n",
        "generator = ImbalancedDataGenerator(shuffle=True, verbose=True, random_seed=0)\n",
        "(train_images, train_labels) = generator.transform(train_data, train_targets, imratio=imratio)\n",
        "(test_images, test_labels) = generator.transform(test_data, test_targets, imratio=0.5) \n",
        "\n",
        "trainDataset = ImageDataset(train_images, train_labels)\n",
        "testDataset = ImageDataset(test_images, test_labels, mode='test')\n",
        "\n",
        "sampler = DualSampler(trainDataset, batch_size, sampling_rate=sampling_rate)\n",
        "trainloader = torch.utils.data.DataLoader(trainDataset, batch_size, sampler=sampler, shuffle=False, num_workers=1)\n",
        "testloader = torch.utils.data.DataLoader(testDataset, batch_size=batch_size, shuffle=False, num_workers=1)"
      ],
      "id": "oTp7XEaesyol"
    },
    {
      "cell_type": "markdown",
      "metadata": {
        "id": "BWRQUGVPsyol"
      },
      "source": [
        "## **Model and Loss setup**"
      ],
      "id": "BWRQUGVPsyol"
    },
    {
      "cell_type": "code",
      "execution_count": null,
      "metadata": {
        "id": "uMBg29X-syol"
      },
      "outputs": [],
      "source": [
        "set_all_seeds(SEED)\n",
        "model = resnet18(pretrained=False, num_classes=1, last_activation=None)\n",
        "model = model.cuda()\n",
        "\n",
        "loss_fn = pAUC_CVaR_Loss(pos_len=sampler.pos_len, beta=beta)\n",
        "optimizer = SOPA(model, loss_fn=loss_fn, mode='adam', lr=lr, eta=eta, weight_decay=weight_decay)"
      ],
      "id": "uMBg29X-syol"
    },
    {
      "cell_type": "markdown",
      "metadata": {
        "id": "xBxf_pjjsyom"
      },
      "source": [
        "## **Training**"
      ],
      "id": "xBxf_pjjsyom"
    },
    {
      "cell_type": "code",
      "execution_count": null,
      "metadata": {
        "colab": {
          "background_save": true,
          "base_uri": "https://localhost:8080/"
        },
        "id": "LzEUjHqpEyeT",
        "outputId": "b4a4322a-e741-4255-d27e-354d97832f39"
      },
      "outputs": [
        {
          "name": "stdout",
          "output_type": "stream",
          "text": [
            "Start Training\n",
            "------------------------------\n",
            "Epoch=0, Loss=7.9394, Train_pAUC(0.3)=0.6254, Test_pAUC(0.3)=0.6396, lr=0.0010\n",
            "Epoch=1, Loss=5.8287, Train_pAUC(0.3)=0.7011, Test_pAUC(0.3)=0.6939, lr=0.0010\n",
            "Epoch=2, Loss=4.9155, Train_pAUC(0.3)=0.7237, Test_pAUC(0.3)=0.7099, lr=0.0010\n",
            "Epoch=3, Loss=4.2005, Train_pAUC(0.3)=0.7648, Test_pAUC(0.3)=0.7253, lr=0.0010\n",
            "Epoch=4, Loss=3.6290, Train_pAUC(0.3)=0.8487, Test_pAUC(0.3)=0.8093, lr=0.0010\n",
            "Epoch=5, Loss=3.1791, Train_pAUC(0.3)=0.8242, Test_pAUC(0.3)=0.7655, lr=0.0010\n",
            "Epoch=6, Loss=2.8274, Train_pAUC(0.3)=0.8305, Test_pAUC(0.3)=0.8103, lr=0.0010\n",
            "Epoch=7, Loss=2.5322, Train_pAUC(0.3)=0.8800, Test_pAUC(0.3)=0.8038, lr=0.0010\n",
            "Epoch=8, Loss=2.2227, Train_pAUC(0.3)=0.8915, Test_pAUC(0.3)=0.8209, lr=0.0010\n",
            "Epoch=9, Loss=1.9087, Train_pAUC(0.3)=0.8905, Test_pAUC(0.3)=0.7978, lr=0.0010\n",
            "Epoch=10, Loss=1.7360, Train_pAUC(0.3)=0.9063, Test_pAUC(0.3)=0.8214, lr=0.0010\n",
            "Epoch=11, Loss=1.5447, Train_pAUC(0.3)=0.9239, Test_pAUC(0.3)=0.8136, lr=0.0010\n",
            "Epoch=12, Loss=1.3993, Train_pAUC(0.3)=0.9453, Test_pAUC(0.3)=0.8408, lr=0.0010\n",
            "Epoch=13, Loss=1.2240, Train_pAUC(0.3)=0.9345, Test_pAUC(0.3)=0.8233, lr=0.0010\n",
            "Epoch=14, Loss=1.1283, Train_pAUC(0.3)=0.9455, Test_pAUC(0.3)=0.8312, lr=0.0010\n",
            "Epoch=15, Loss=1.0700, Train_pAUC(0.3)=0.9423, Test_pAUC(0.3)=0.8418, lr=0.0010\n",
            "Epoch=16, Loss=1.0036, Train_pAUC(0.3)=0.9334, Test_pAUC(0.3)=0.8449, lr=0.0010\n",
            "Epoch=17, Loss=0.9056, Train_pAUC(0.3)=0.9644, Test_pAUC(0.3)=0.8528, lr=0.0010\n",
            "Epoch=18, Loss=0.8803, Train_pAUC(0.3)=0.9529, Test_pAUC(0.3)=0.8315, lr=0.0010\n",
            "Epoch=19, Loss=0.8016, Train_pAUC(0.3)=0.9604, Test_pAUC(0.3)=0.8368, lr=0.0010\n",
            "Reducing lr to 0.00010 @ T=15620!\n",
            "Reducing eta/gamma to 1.00000 @ T=15620!!\n",
            "Epoch=20, Loss=0.4160, Train_pAUC(0.3)=0.9900, Test_pAUC(0.3)=0.8722, lr=0.0001\n",
            "Epoch=21, Loss=0.2593, Train_pAUC(0.3)=0.9932, Test_pAUC(0.3)=0.8702, lr=0.0001\n",
            "Epoch=22, Loss=0.2072, Train_pAUC(0.3)=0.9944, Test_pAUC(0.3)=0.8681, lr=0.0001\n",
            "Epoch=23, Loss=0.1745, Train_pAUC(0.3)=0.9949, Test_pAUC(0.3)=0.8692, lr=0.0001\n",
            "Epoch=24, Loss=0.1415, Train_pAUC(0.3)=0.9965, Test_pAUC(0.3)=0.8723, lr=0.0001\n",
            "Epoch=25, Loss=0.1326, Train_pAUC(0.3)=0.9964, Test_pAUC(0.3)=0.8749, lr=0.0001\n",
            "Epoch=26, Loss=0.1111, Train_pAUC(0.3)=0.9968, Test_pAUC(0.3)=0.8716, lr=0.0001\n",
            "Epoch=27, Loss=0.1007, Train_pAUC(0.3)=0.9973, Test_pAUC(0.3)=0.8711, lr=0.0001\n",
            "Epoch=28, Loss=0.1000, Train_pAUC(0.3)=0.9976, Test_pAUC(0.3)=0.8723, lr=0.0001\n",
            "Epoch=29, Loss=0.0880, Train_pAUC(0.3)=0.9978, Test_pAUC(0.3)=0.8696, lr=0.0001\n",
            "Epoch=30, Loss=0.0827, Train_pAUC(0.3)=0.9975, Test_pAUC(0.3)=0.8662, lr=0.0001\n",
            "Epoch=31, Loss=0.0838, Train_pAUC(0.3)=0.9980, Test_pAUC(0.3)=0.8687, lr=0.0001\n",
            "Epoch=32, Loss=0.0775, Train_pAUC(0.3)=0.9982, Test_pAUC(0.3)=0.8692, lr=0.0001\n",
            "Epoch=33, Loss=0.0674, Train_pAUC(0.3)=0.9982, Test_pAUC(0.3)=0.8682, lr=0.0001\n",
            "Epoch=34, Loss=0.0646, Train_pAUC(0.3)=0.9983, Test_pAUC(0.3)=0.8706, lr=0.0001\n",
            "Epoch=35, Loss=0.0579, Train_pAUC(0.3)=0.9984, Test_pAUC(0.3)=0.8711, lr=0.0001\n",
            "Epoch=36, Loss=0.0599, Train_pAUC(0.3)=0.9985, Test_pAUC(0.3)=0.8694, lr=0.0001\n",
            "Epoch=37, Loss=0.0644, Train_pAUC(0.3)=0.9983, Test_pAUC(0.3)=0.8702, lr=0.0001\n",
            "Epoch=38, Loss=0.0533, Train_pAUC(0.3)=0.9982, Test_pAUC(0.3)=0.8696, lr=0.0001\n",
            "Epoch=39, Loss=0.0543, Train_pAUC(0.3)=0.9986, Test_pAUC(0.3)=0.8717, lr=0.0001\n",
            "Reducing lr to 0.00001 @ T=31240!\n",
            "Reducing eta/gamma to 0.10000 @ T=31240!!\n",
            "Epoch=40, Loss=0.0479, Train_pAUC(0.3)=0.9987, Test_pAUC(0.3)=0.8731, lr=0.0000\n",
            "Epoch=41, Loss=0.0388, Train_pAUC(0.3)=0.9988, Test_pAUC(0.3)=0.8733, lr=0.0000\n",
            "Epoch=42, Loss=0.0342, Train_pAUC(0.3)=0.9988, Test_pAUC(0.3)=0.8712, lr=0.0000\n",
            "Epoch=43, Loss=0.0325, Train_pAUC(0.3)=0.9988, Test_pAUC(0.3)=0.8718, lr=0.0000\n",
            "Epoch=44, Loss=0.0311, Train_pAUC(0.3)=0.9989, Test_pAUC(0.3)=0.8733, lr=0.0000\n",
            "Epoch=45, Loss=0.0290, Train_pAUC(0.3)=0.9988, Test_pAUC(0.3)=0.8731, lr=0.0000\n",
            "Epoch=46, Loss=0.0224, Train_pAUC(0.3)=0.9991, Test_pAUC(0.3)=0.8733, lr=0.0000\n",
            "Epoch=47, Loss=0.0242, Train_pAUC(0.3)=0.9989, Test_pAUC(0.3)=0.8732, lr=0.0000\n",
            "Epoch=48, Loss=0.0227, Train_pAUC(0.3)=0.9991, Test_pAUC(0.3)=0.8724, lr=0.0000\n",
            "Epoch=49, Loss=0.0211, Train_pAUC(0.3)=0.9990, Test_pAUC(0.3)=0.8726, lr=0.0000\n",
            "Epoch=50, Loss=0.0232, Train_pAUC(0.3)=0.9990, Test_pAUC(0.3)=0.8721, lr=0.0000\n",
            "Epoch=51, Loss=0.0211, Train_pAUC(0.3)=0.9990, Test_pAUC(0.3)=0.8738, lr=0.0000\n",
            "Epoch=52, Loss=0.0181, Train_pAUC(0.3)=0.9992, Test_pAUC(0.3)=0.8729, lr=0.0000\n",
            "Epoch=53, Loss=0.0193, Train_pAUC(0.3)=0.9991, Test_pAUC(0.3)=0.8737, lr=0.0000\n",
            "Epoch=54, Loss=0.0204, Train_pAUC(0.3)=0.9991, Test_pAUC(0.3)=0.8726, lr=0.0000\n",
            "Epoch=55, Loss=0.0160, Train_pAUC(0.3)=0.9991, Test_pAUC(0.3)=0.8734, lr=0.0000\n",
            "Epoch=56, Loss=0.0176, Train_pAUC(0.3)=0.9991, Test_pAUC(0.3)=0.8734, lr=0.0000\n",
            "Epoch=57, Loss=0.0154, Train_pAUC(0.3)=0.9992, Test_pAUC(0.3)=0.8746, lr=0.0000\n",
            "Epoch=58, Loss=0.0159, Train_pAUC(0.3)=0.9991, Test_pAUC(0.3)=0.8731, lr=0.0000\n",
            "Epoch=59, Loss=0.0144, Train_pAUC(0.3)=0.9992, Test_pAUC(0.3)=0.8729, lr=0.0000\n"
          ]
        }
      ],
      "source": [
        "print ('Start Training')\n",
        "print ('-'*30)\n",
        "\n",
        "tr_pAUC=[]\n",
        "te_pAUC=[]\n",
        "\n",
        "for epoch in range(total_epochs):\n",
        "    if epoch in decay_epochs:\n",
        "        optimizer.update_lr(decay_factor=decay_factor, coef_decay_factor=decay_factor)\n",
        "\n",
        "    train_loss = 0\n",
        "    model.train()\n",
        "    for idx, data in enumerate(trainloader):\n",
        "        train_data, train_labels, index  = data\n",
        "        train_data, train_labels = train_data.cuda(), train_labels.cuda()\n",
        "        y_pred = model(train_data)\n",
        "        y_prob = torch.sigmoid(y_pred)\n",
        "        loss = loss_fn(y_prob, train_labels, index)\n",
        "        train_loss = train_loss  + loss.cpu().detach().numpy()\n",
        "        optimizer.zero_grad()\n",
        "        loss.backward()\n",
        "        optimizer.step()\n",
        "    train_loss = train_loss/(idx+1)\n",
        "\n",
        "    # evaluation\n",
        "    model.eval() \n",
        "    with torch.no_grad():\n",
        "        train_pred = []\n",
        "        train_true = [] \n",
        "        for jdx, data in enumerate(trainloader):\n",
        "            train_data, train_labels, _ = data\n",
        "            train_data = train_data.cuda()\n",
        "            y_pred = model(train_data)  \n",
        "            y_prob = torch.sigmoid(y_pred)  \n",
        "            train_pred.append(y_prob.cpu().detach().numpy())\n",
        "            train_true.append(train_labels.numpy())\n",
        "        train_true = np.concatenate(train_true)\n",
        "        train_pred = np.concatenate(train_pred)\n",
        "        single_train_auc = pauc_roc_score(train_true, train_pred, max_fpr = 0.3) \n",
        "\n",
        "        test_pred = []\n",
        "        test_true = [] \n",
        "        for jdx, data in enumerate(testloader):\n",
        "            test_data, test_labels, index = data\n",
        "            test_data = test_data.cuda()\n",
        "            y_pred = model(test_data)    \n",
        "            test_pred.append(y_pred.cpu().detach().numpy())\n",
        "            test_true.append(test_labels.numpy())\n",
        "        test_true = np.concatenate(test_true)\n",
        "        test_pred = np.concatenate(test_pred)\n",
        "        single_test_auc = pauc_roc_score(test_true, test_pred, max_fpr = 0.3) \n",
        "        print('Epoch=%s, Loss=%.4f, Train_pAUC(0.3)=%.4f, Test_pAUC(0.3)=%.4f, lr=%.4f'%(epoch, train_loss, single_train_auc, single_test_auc, optimizer.lr))\n",
        "        \n",
        "        tr_pAUC.append(single_train_auc)\n",
        "        te_pAUC.append(single_test_auc)\n",
        "    "
      ],
      "id": "LzEUjHqpEyeT"
    },
    {
      "cell_type": "markdown",
      "metadata": {
        "id": "x40-4dzdsyom"
      },
      "source": [
        "# **Visualization**\n",
        "\n",
        "Now, let's see the change of one-way partial AUC scores on training and testing set. We take the `AUC-M` method as a comparison. For more details and tutorials about `AUCM Loss`, please refer to [AUC-M](https://github.com/Optimization-AI/LibAUC/blob/main/examples/02_Optimizing_AUROC_with_ResNet20_on_Imbalanced_CIFAR10.ipynb)."
      ],
      "id": "x40-4dzdsyom"
    },
    {
      "cell_type": "code",
      "execution_count": null,
      "metadata": {
        "colab": {
          "base_uri": "https://localhost:8080/",
          "height": 395
        },
        "id": "4258t0Aksyom",
        "outputId": "2cf87c52-5f23-4d23-c83c-323f9b9dda0d"
      },
      "outputs": [
        {
          "data": {
            "text/plain": [
              "Text(0.5, 0, 'epochs')"
            ]
          },
          "execution_count": 9,
          "metadata": {},
          "output_type": "execute_result"
        },
        {
          "data": {
            "image/png": "[encoded data removed]",
            "text/plain": [
              "<Figure size 648x360 with 1 Axes>"
            ]
          },
          "metadata": {},
          "output_type": "display_data"
        }
      ],
      "source": [
        "import matplotlib.pyplot as plt\n",
        "plt.rcParams[\"figure.figsize\"] = (9,5)\n",
        "x=np.arange(60)\n",
        "aucm_tr_pAUC = [0.6429585593723751, 0.705619972966429, 0.69894917006115, 0.7947875283260033, 0.7677915794870532, 0.7694341408326258, 0.8345354696048994, 0.8353778185042913, 0.8261352422411384, 0.850143596501959, 0.8749833709434203, 0.8778469862659533, 0.8833579163047021, 0.8755243973017512, 0.874157483715067, 0.8366073362501383, 0.8920074624226216, 0.8941630657880417, 0.8697558150194012, 0.8712549503124775, 0.9686330493047073, 0.9769933546518772, 0.9815388471447516, 0.9843683141845079, 0.9862415423489106, 0.9870076275453813, 0.9891961884708532, 0.9900528747015318, 0.9912304734205963, 0.9912435867529628, 0.9929736720264557, 0.9928194070381502, 0.9935700668345326, 0.9933461158425558, 0.9939052576360476, 0.9946626137958484, 0.9945831000132086, 0.9943817922164405, 0.9950893414460829, 0.9952917756106698, 0.9958267789776483, 0.9955192943758522, 0.9957648139930699, 0.9957864767962223, 0.9961289076816299, 0.99591124055382, 0.9961174449741217, 0.9958902131376424, 0.996271318496243, 0.9960302217876651, 0.9959968608322265, 0.995976135413218, 0.9958279797460171, 0.9962699055136474, 0.9961840783577622, 0.996047774666769, 0.9964594341651255, 0.9964745506616648, 0.9960480697575578, 0.996416429077646]\n",
        "aucm_te_pAUC = [0.6279169411764706, 0.696358431372549, 0.673276862745098, 0.7493461960784313, 0.7261282745098039, 0.7153201960784313, 0.7762015294117646, 0.781920274509804, 0.778698862745098, 0.773890431372549, 0.8124459607843137, 0.802709294117647, 0.8055946274509804, 0.8052427843137255, 0.8037347843137256, 0.789566862745098, 0.8226527450980392, 0.819271725490196, 0.8068901176470589, 0.8064509019607844, 0.8594197647058823, 0.8614054901960784, 0.8630056862745098, 0.8605498823529412, 0.8648399607843138, 0.8607361176470588, 0.8658290196078431, 0.8603041176470588, 0.8643641960784314, 0.8594430588235293, 0.8661986274509804, 0.8604558823529411, 0.8617808235294118, 0.8613043529411765, 0.8562662352941177, 0.859865137254902, 0.8595644705882353, 0.865197294117647, 0.858666862745098, 0.8554585490196078, 0.8611540392156862, 0.8627088627450981, 0.8615218823529411, 0.8601713725490197, 0.8619247450980392, 0.8619268627450981, 0.8633670196078431, 0.8617367058823528, 0.8618482352941177, 0.859918, 0.8597246666666667, 0.860948705882353, 0.8607091372549018, 0.8608580784313726, 0.8610979215686274, 0.8626889803921569, 0.8603958039215687, 0.8605810980392157, 0.8616598039215686, 0.8612713725490196]\n",
        "plt.figure()\n",
        "plt.plot(x, tr_pAUC, LineStyle='--', label='SOPA train', linewidth=3)\n",
        "plt.plot(x, te_pAUC, label='SOPA test', linewidth=3)\n",
        "plt.plot(x, aucm_tr_pAUC, LineStyle='--', label='PESG train', linewidth=3)\n",
        "plt.plot(x, aucm_te_pAUC, label='PESG test', linewidth=3)\n",
        "plt.title('CIFAR-10 (20% imbalanced)',fontsize=30)\n",
        "plt.legend(fontsize=15)\n",
        "plt.ylabel('OPAUC(0.3)',fontsize=25)\n",
        "plt.xlabel('epochs',fontsize=25)"
      ],
      "id": "4258t0Aksyom"
    }
  ],
  "metadata": {
    "accelerator": "GPU",
    "colab": {
      "background_execution": "on",
      "collapsed_sections": [],
      "name": "11_Optimizing_pAUC_Loss_with_SOPA_on_Imbalanced_data.ipynb",
      "provenance": []
    },
    "gpuClass": "standard",
    "kernelspec": {
      "display_name": "Python 3",
      "language": "python",
      "name": "python3"
    },
    "language_info": {
      "codemirror_mode": {
        "name": "ipython",
        "version": 3
      },
      "file_extension": ".py",
      "mimetype": "text/x-python",
      "name": "python",
      "nbconvert_exporter": "python",
      "pygments_lexer": "ipython3",
      "version": "3.9.0"
    },
    "widgets": {
      "application/vnd.jupyter.widget-state+json": {
        "08054956df91468c8d088c612fde9767": {
          "model_module": "@jupyter-widgets/controls",
          "model_module_version": "1.5.0",
          "model_name": "HTMLModel",
          "state": {
            "_dom_classes": [],
            "_model_module": "@jupyter-widgets/controls",
            "_model_module_version": "1.5.0",
            "_model_name": "HTMLModel",
            "_view_count": null,
            "_view_module": "@jupyter-widgets/controls",
            "_view_module_version": "1.5.0",
            "_view_name": "HTMLView",
            "description": "",
            "description_tooltip": null,
            "layout": "IPY_MODEL_ae5ee7f25384442dad3b139b8ce8b334",
            "placeholder": "​",
            "style": "IPY_MODEL_f6a9a03d5ac94d2c91ea3119cbc6bde8",
            "value": " 170498071/170498071 [00:05&lt;00:00, 32302629.50it/s]"
          }
        },
        "3a2a2ff9b8284bb2a0ae7f75acd263e1": {
          "model_module": "@jupyter-widgets/controls",
          "model_module_version": "1.5.0",
          "model_name": "HBoxModel",
          "state": {
            "_dom_classes": [],
            "_model_module": "@jupyter-widgets/controls",
            "_model_module_version": "1.5.0",
            "_model_name": "HBoxModel",
            "_view_count": null,
            "_view_module": "@jupyter-widgets/controls",
            "_view_module_version": "1.5.0",
            "_view_name": "HBoxView",
            "box_style": "",
            "children": [
              "IPY_MODEL_af5df360ff314bd88ff223e53bdd6dca",
              "IPY_MODEL_901c114b5ce74999b282b0d2aa1466f2",
              "IPY_MODEL_08054956df91468c8d088c612fde9767"
            ],
            "layout": "IPY_MODEL_b1eefaa191af4014874a8e335fef5f5a"
          }
        },
        "8768fb8a8b4541f59f78a31931d73568": {
          "model_module": "@jupyter-widgets/base",
          "model_module_version": "1.2.0",
          "model_name": "LayoutModel",
          "state": {
            "_model_module": "@jupyter-widgets/base",
            "_model_module_version": "1.2.0",
            "_model_name": "LayoutModel",
            "_view_count": null,
            "_view_module": "@jupyter-widgets/base",
            "_view_module_version": "1.2.0",
            "_view_name": "LayoutView",
            "align_content": null,
            "align_items": null,
            "align_self": null,
            "border": null,
            "bottom": null,
            "display": null,
            "flex": null,
            "flex_flow": null,
            "grid_area": null,
            "grid_auto_columns": null,
            "grid_auto_flow": null,
            "grid_auto_rows": null,
            "grid_column": null,
            "grid_gap": null,
            "grid_row": null,
            "grid_template_areas": null,
            "grid_template_columns": null,
            "grid_template_rows": null,
            "height": null,
            "justify_content": null,
            "justify_items": null,
            "left": null,
            "margin": null,
            "max_height": null,
            "max_width": null,
            "min_height": null,
            "min_width": null,
            "object_fit": null,
            "object_position": null,
            "order": null,
            "overflow": null,
            "overflow_x": null,
            "overflow_y": null,
            "padding": null,
            "right": null,
            "top": null,
            "visibility": null,
            "width": null
          }
        },
        "901c114b5ce74999b282b0d2aa1466f2": {
          "model_module": "@jupyter-widgets/controls",
          "model_module_version": "1.5.0",
          "model_name": "FloatProgressModel",
          "state": {
            "_dom_classes": [],
            "_model_module": "@jupyter-widgets/controls",
            "_model_module_version": "1.5.0",
            "_model_name": "FloatProgressModel",
            "_view_count": null,
            "_view_module": "@jupyter-widgets/controls",
            "_view_module_version": "1.5.0",
            "_view_name": "ProgressView",
            "bar_style": "success",
            "description": "",
            "description_tooltip": null,
            "layout": "IPY_MODEL_8768fb8a8b4541f59f78a31931d73568",
            "max": 170498071,
            "min": 0,
            "orientation": "horizontal",
            "style": "IPY_MODEL_dfa301f7eaba4a06b07c9e94aaf373e6",
            "value": 170498071
          }
        },
        "ae5ee7f25384442dad3b139b8ce8b334": {
          "model_module": "@jupyter-widgets/base",
          "model_module_version": "1.2.0",
          "model_name": "LayoutModel",
          "state": {
            "_model_module": "@jupyter-widgets/base",
            "_model_module_version": "1.2.0",
            "_model_name": "LayoutModel",
            "_view_count": null,
            "_view_module": "@jupyter-widgets/base",
            "_view_module_version": "1.2.0",
            "_view_name": "LayoutView",
            "align_content": null,
            "align_items": null,
            "align_self": null,
            "border": null,
            "bottom": null,
            "display": null,
            "flex": null,
            "flex_flow": null,
            "grid_area": null,
            "grid_auto_columns": null,
            "grid_auto_flow": null,
            "grid_auto_rows": null,
            "grid_column": null,
            "grid_gap": null,
            "grid_row": null,
            "grid_template_areas": null,
            "grid_template_columns": null,
            "grid_template_rows": null,
            "height": null,
            "justify_content": null,
            "justify_items": null,
            "left": null,
            "margin": null,
            "max_height": null,
            "max_width": null,
            "min_height": null,
            "min_width": null,
            "object_fit": null,
            "object_position": null,
            "order": null,
            "overflow": null,
            "overflow_x": null,
            "overflow_y": null,
            "padding": null,
            "right": null,
            "top": null,
            "visibility": null,
            "width": null
          }
        },
        "af5df360ff314bd88ff223e53bdd6dca": {
          "model_module": "@jupyter-widgets/controls",
          "model_module_version": "1.5.0",
          "model_name": "HTMLModel",
          "state": {
            "_dom_classes": [],
            "_model_module": "@jupyter-widgets/controls",
            "_model_module_version": "1.5.0",
            "_model_name": "HTMLModel",
            "_view_count": null,
            "_view_module": "@jupyter-widgets/controls",
            "_view_module_version": "1.5.0",
            "_view_name": "HTMLView",
            "description": "",
            "description_tooltip": null,
            "layout": "IPY_MODEL_ec18ab2fc13a483d9808ca18b99d9142",
            "placeholder": "​",
            "style": "IPY_MODEL_f3e924cdff984cf4a9b735559afbb616",
            "value": "100%"
          }
        },
        "b1eefaa191af4014874a8e335fef5f5a": {
          "model_module": "@jupyter-widgets/base",
          "model_module_version": "1.2.0",
          "model_name": "LayoutModel",
          "state": {
            "_model_module": "@jupyter-widgets/base",
            "_model_module_version": "1.2.0",
            "_model_name": "LayoutModel",
            "_view_count": null,
            "_view_module": "@jupyter-widgets/base",
            "_view_module_version": "1.2.0",
            "_view_name": "LayoutView",
            "align_content": null,
            "align_items": null,
            "align_self": null,
            "border": null,
            "bottom": null,
            "display": null,
            "flex": null,
            "flex_flow": null,
            "grid_area": null,
            "grid_auto_columns": null,
            "grid_auto_flow": null,
            "grid_auto_rows": null,
            "grid_column": null,
            "grid_gap": null,
            "grid_row": null,
            "grid_template_areas": null,
            "grid_template_columns": null,
            "grid_template_rows": null,
            "height": null,
            "justify_content": null,
            "justify_items": null,
            "left": null,
            "margin": null,
            "max_height": null,
            "max_width": null,
            "min_height": null,
            "min_width": null,
            "object_fit": null,
            "object_position": null,
            "order": null,
            "overflow": null,
            "overflow_x": null,
            "overflow_y": null,
            "padding": null,
            "right": null,
            "top": null,
            "visibility": null,
            "width": null
          }
        },
        "dfa301f7eaba4a06b07c9e94aaf373e6": {
          "model_module": "@jupyter-widgets/controls",
          "model_module_version": "1.5.0",
          "model_name": "ProgressStyleModel",
          "state": {
            "_model_module": "@jupyter-widgets/controls",
            "_model_module_version": "1.5.0",
            "_model_name": "ProgressStyleModel",
            "_view_count": null,
            "_view_module": "@jupyter-widgets/base",
            "_view_module_version": "1.2.0",
            "_view_name": "StyleView",
            "bar_color": null,
            "description_width": ""
          }
        },
        "ec18ab2fc13a483d9808ca18b99d9142": {
          "model_module": "@jupyter-widgets/base",
          "model_module_version": "1.2.0",
          "model_name": "LayoutModel",
          "state": {
            "_model_module": "@jupyter-widgets/base",
            "_model_module_version": "1.2.0",
            "_model_name": "LayoutModel",
            "_view_count": null,
            "_view_module": "@jupyter-widgets/base",
            "_view_module_version": "1.2.0",
            "_view_name": "LayoutView",
            "align_content": null,
            "align_items": null,
            "align_self": null,
            "border": null,
            "bottom": null,
            "display": null,
            "flex": null,
            "flex_flow": null,
            "grid_area": null,
            "grid_auto_columns": null,
            "grid_auto_flow": null,
            "grid_auto_rows": null,
            "grid_column": null,
            "grid_gap": null,
            "grid_row": null,
            "grid_template_areas": null,
            "grid_template_columns": null,
            "grid_template_rows": null,
            "height": null,
            "justify_content": null,
            "justify_items": null,
            "left": null,
            "margin": null,
            "max_height": null,
            "max_width": null,
            "min_height": null,
            "min_width": null,
            "object_fit": null,
            "object_position": null,
            "order": null,
            "overflow": null,
            "overflow_x": null,
            "overflow_y": null,
            "padding": null,
            "right": null,
            "top": null,
            "visibility": null,
            "width": null
          }
        },
        "f3e924cdff984cf4a9b735559afbb616": {
          "model_module": "@jupyter-widgets/controls",
          "model_module_version": "1.5.0",
          "model_name": "DescriptionStyleModel",
          "state": {
            "_model_module": "@jupyter-widgets/controls",
            "_model_module_version": "1.5.0",
            "_model_name": "DescriptionStyleModel",
            "_view_count": null,
            "_view_module": "@jupyter-widgets/base",
            "_view_module_version": "1.2.0",
            "_view_name": "StyleView",
            "description_width": ""
          }
        },
        "f6a9a03d5ac94d2c91ea3119cbc6bde8": {
          "model_module": "@jupyter-widgets/controls",
          "model_module_version": "1.5.0",
          "model_name": "DescriptionStyleModel",
          "state": {
            "_model_module": "@jupyter-widgets/controls",
            "_model_module_version": "1.5.0",
            "_model_name": "DescriptionStyleModel",
            "_view_count": null,
            "_view_module": "@jupyter-widgets/base",
            "_view_module_version": "1.2.0",
            "_view_name": "StyleView",
            "description_width": ""
          }
        }
      }
    }
  },
  "nbformat": 4,
  "nbformat_minor": 5
}